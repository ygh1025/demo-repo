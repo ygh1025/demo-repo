{
  "nbformat": 4,
  "nbformat_minor": 0,
  "metadata": {
    "colab": {
      "name": "Untitled6.ipynb",
      "provenance": [],
      "authorship_tag": "ABX9TyNWmHckQnHNWI+nWDV7qoHN",
      "include_colab_link": true
    },
    "kernelspec": {
      "name": "python3",
      "display_name": "Python 3"
    },
    "language_info": {
      "name": "python"
    }
  },
  "cells": [
    {
      "cell_type": "markdown",
      "metadata": {
        "id": "view-in-github",
        "colab_type": "text"
      },
      "source": [
        "<a href=\"https://colab.research.google.com/github/ygh1025/demo-repo/blob/main/Untitled6.ipynb\" target=\"_parent\"><img src=\"https://colab.research.google.com/assets/colab-badge.svg\" alt=\"Open In Colab\"/></a>"
      ]
    },
    {
      "cell_type": "code",
      "execution_count": 1,
      "metadata": {
        "id": "skmurY920fa5"
      },
      "outputs": [],
      "source": [
        "import tensorflow as tf\n",
        "from tensorflow import keras\n"
      ]
    },
    {
      "cell_type": "code",
      "source": [
        "import numpy as np\n",
        "from keras.layers import Dense,Flatten,Concatenate\n",
        "from keras import Sequential,Model,Input,datasets,optimizers\n",
        "#from keras.optimizers import SGD"
      ],
      "metadata": {
        "id": "tk-AKxIL02FJ"
      },
      "execution_count": 2,
      "outputs": []
    },
    {
      "cell_type": "code",
      "source": [
        "(x_train,y_train),(x_test,y_test)=keras.datasets.fashion_mnist.load_data()"
      ],
      "metadata": {
        "colab": {
          "base_uri": "https://localhost:8080/"
        },
        "id": "41C7bJU90_60",
        "outputId": "7534ed02-22f7-4a4d-c2e8-b0eda4bb9b74"
      },
      "execution_count": null,
      "outputs": [
        {
          "output_type": "stream",
          "name": "stdout",
          "text": [
            "Downloading data from https://storage.googleapis.com/tensorflow/tf-keras-datasets/train-labels-idx1-ubyte.gz\n",
            "32768/29515 [=================================] - 0s 0us/step\n",
            "40960/29515 [=========================================] - 0s 0us/step\n",
            "Downloading data from https://storage.googleapis.com/tensorflow/tf-keras-datasets/train-images-idx3-ubyte.gz\n",
            "26427392/26421880 [==============================] - 0s 0us/step\n",
            "26435584/26421880 [==============================] - 0s 0us/step\n",
            "Downloading data from https://storage.googleapis.com/tensorflow/tf-keras-datasets/t10k-labels-idx1-ubyte.gz\n",
            "16384/5148 [===============================================================================================] - 0s 0us/step\n",
            "Downloading data from https://storage.googleapis.com/tensorflow/tf-keras-datasets/t10k-images-idx3-ubyte.gz\n",
            "4423680/4422102 [==============================] - 0s 0us/step\n",
            "4431872/4422102 [==============================] - 0s 0us/step\n"
          ]
        }
      ]
    },
    {
      "cell_type": "code",
      "source": [
        "x_valid,x_act_train=x_train[:5000]/255.0,x_train[5000:]/255.\n",
        "y_valid,y_act_train=y_train[:5000],y_train[5000:]\n"
      ],
      "metadata": {
        "id": "XY9B5aWe2PsG"
      },
      "execution_count": null,
      "outputs": []
    },
    {
      "cell_type": "code",
      "source": [
        "x_act_train.shape"
      ],
      "metadata": {
        "colab": {
          "base_uri": "https://localhost:8080/"
        },
        "id": "tjiotIv99MGQ",
        "outputId": "7d0eb911-8229-4ebf-8671-53cd04017868"
      },
      "execution_count": null,
      "outputs": [
        {
          "output_type": "execute_result",
          "data": {
            "text/plain": [
              "(55000, 28, 28)"
            ]
          },
          "metadata": {},
          "execution_count": 17
        }
      ]
    },
    {
      "cell_type": "code",
      "source": [
        "np.unique(y_train)"
      ],
      "metadata": {
        "colab": {
          "base_uri": "https://localhost:8080/"
        },
        "id": "cXW9aHVz2SAg",
        "outputId": "afbf2da8-3d85-42ef-85f3-1372d369156c"
      },
      "execution_count": null,
      "outputs": [
        {
          "output_type": "execute_result",
          "data": {
            "text/plain": [
              "array([0, 1, 2, 3, 4, 5, 6, 7, 8, 9], dtype=uint8)"
            ]
          },
          "metadata": {},
          "execution_count": 13
        }
      ]
    },
    {
      "cell_type": "markdown",
      "source": [
        ""
      ],
      "metadata": {
        "id": "Gzaf32Sj__Xa"
      }
    },
    {
      "cell_type": "code",
      "source": [
        "model=Sequential([\n",
        "                  Flatten(input_shape=[28,28]),\n",
        "                  Dense(128,activation='relu'),\n",
        "                  Dense(64,activation='relu'),\n",
        "                  Dense(10,activation='softmax')\n",
        "])\n",
        "model.compile(loss='sparse_categorical_crossentropy',optimizer=keras.optimizers.SGD(),metrics=['accuracy'])\n",
        "model.summary()"
      ],
      "metadata": {
        "colab": {
          "base_uri": "https://localhost:8080/"
        },
        "id": "BvWMaUqk2dzy",
        "outputId": "368cb84b-6b9f-4210-91d5-281ce4c78a52"
      },
      "execution_count": null,
      "outputs": [
        {
          "output_type": "stream",
          "name": "stdout",
          "text": [
            "Model: \"sequential\"\n",
            "_________________________________________________________________\n",
            " Layer (type)                Output Shape              Param #   \n",
            "=================================================================\n",
            " flatten (Flatten)           (None, 784)               0         \n",
            "                                                                 \n",
            " dense (Dense)               (None, 128)               100480    \n",
            "                                                                 \n",
            " dense_1 (Dense)             (None, 64)                8256      \n",
            "                                                                 \n",
            " dense_2 (Dense)             (None, 10)                650       \n",
            "                                                                 \n",
            "=================================================================\n",
            "Total params: 109,386\n",
            "Trainable params: 109,386\n",
            "Non-trainable params: 0\n",
            "_________________________________________________________________\n"
          ]
        }
      ]
    },
    {
      "cell_type": "code",
      "source": [
        "model.layers"
      ],
      "metadata": {
        "colab": {
          "base_uri": "https://localhost:8080/"
        },
        "id": "39w8Jook4xA-",
        "outputId": "c2f9fad9-5cba-44c2-8940-f9e7e838a621"
      },
      "execution_count": null,
      "outputs": [
        {
          "output_type": "execute_result",
          "data": {
            "text/plain": [
              "[<keras.layers.core.flatten.Flatten at 0x7f9a8fe08e50>,\n",
              " <keras.layers.core.dense.Dense at 0x7f9a906d12d0>,\n",
              " <keras.layers.core.dense.Dense at 0x7f9b119dfe90>,\n",
              " <keras.layers.core.dense.Dense at 0x7f9a8fe0d350>]"
            ]
          },
          "metadata": {},
          "execution_count": 6
        }
      ]
    },
    {
      "cell_type": "code",
      "source": [
        "hidden2=model.layers[2]"
      ],
      "metadata": {
        "id": "yux6u5yHETFX"
      },
      "execution_count": null,
      "outputs": []
    },
    {
      "cell_type": "code",
      "source": [
        "hidden2.name"
      ],
      "metadata": {
        "colab": {
          "base_uri": "https://localhost:8080/",
          "height": 35
        },
        "id": "czHuAd1zEfce",
        "outputId": "0ebbbbd9-e7c8-4892-da4a-466def9f69c6"
      },
      "execution_count": null,
      "outputs": [
        {
          "output_type": "execute_result",
          "data": {
            "text/plain": [
              "'dense_1'"
            ],
            "application/vnd.google.colaboratory.intrinsic+json": {
              "type": "string"
            }
          },
          "metadata": {},
          "execution_count": 12
        }
      ]
    },
    {
      "cell_type": "code",
      "source": [
        "model.get_layer('dense')"
      ],
      "metadata": {
        "colab": {
          "base_uri": "https://localhost:8080/"
        },
        "id": "jkzueNcSFAei",
        "outputId": "33e85c6e-f324-4118-9820-565af1d988b0"
      },
      "execution_count": null,
      "outputs": [
        {
          "output_type": "execute_result",
          "data": {
            "text/plain": [
              "<keras.layers.core.dense.Dense at 0x7f9a906d12d0>"
            ]
          },
          "metadata": {},
          "execution_count": 10
        }
      ]
    },
    {
      "cell_type": "code",
      "source": [
        "weights,bias=hidden1.get_weights()"
      ],
      "metadata": {
        "id": "r9uNWocboL8j"
      },
      "execution_count": null,
      "outputs": []
    },
    {
      "cell_type": "code",
      "source": [
        "weights.shape"
      ],
      "metadata": {
        "colab": {
          "base_uri": "https://localhost:8080/"
        },
        "id": "TpTjZvlppPkO",
        "outputId": "02dee698-9dcd-4167-85ff-ef1110fc2a73"
      },
      "execution_count": null,
      "outputs": [
        {
          "output_type": "execute_result",
          "data": {
            "text/plain": [
              "(784, 128)"
            ]
          },
          "metadata": {},
          "execution_count": 15
        }
      ]
    },
    {
      "cell_type": "code",
      "source": [
        "bias.shape"
      ],
      "metadata": {
        "colab": {
          "base_uri": "https://localhost:8080/"
        },
        "id": "46TtpS6opRLp",
        "outputId": "f5d485da-7ae1-436c-a7b5-ffce96fdb38c"
      },
      "execution_count": null,
      "outputs": [
        {
          "output_type": "execute_result",
          "data": {
            "text/plain": [
              "(128,)"
            ]
          },
          "metadata": {},
          "execution_count": 16
        }
      ]
    },
    {
      "cell_type": "code",
      "source": [
        "hist=model.fit(x_act_train,y_act_train,epochs=30,validation_data=(x_valid,y_valid))"
      ],
      "metadata": {
        "colab": {
          "base_uri": "https://localhost:8080/"
        },
        "id": "pj3fV5lUptRf",
        "outputId": "855c7950-d289-42dd-a9a4-9f3979af6cfe"
      },
      "execution_count": null,
      "outputs": [
        {
          "output_type": "stream",
          "name": "stdout",
          "text": [
            "Epoch 1/30\n",
            "1719/1719 [==============================] - 6s 3ms/step - loss: 0.7663 - accuracy: 0.7488 - val_loss: 0.6077 - val_accuracy: 0.7882\n",
            "Epoch 2/30\n",
            "1719/1719 [==============================] - 5s 3ms/step - loss: 0.5039 - accuracy: 0.8239 - val_loss: 0.5176 - val_accuracy: 0.8108\n",
            "Epoch 3/30\n",
            "1719/1719 [==============================] - 5s 3ms/step - loss: 0.4587 - accuracy: 0.8375 - val_loss: 0.4236 - val_accuracy: 0.8572\n",
            "Epoch 4/30\n",
            "1719/1719 [==============================] - 5s 3ms/step - loss: 0.4325 - accuracy: 0.8479 - val_loss: 0.4172 - val_accuracy: 0.8568\n",
            "Epoch 5/30\n",
            "1719/1719 [==============================] - 5s 3ms/step - loss: 0.4120 - accuracy: 0.8558 - val_loss: 0.3965 - val_accuracy: 0.8634\n",
            "Epoch 6/30\n",
            "1719/1719 [==============================] - 5s 3ms/step - loss: 0.3946 - accuracy: 0.8602 - val_loss: 0.3867 - val_accuracy: 0.8680\n",
            "Epoch 7/30\n",
            "1719/1719 [==============================] - 5s 3ms/step - loss: 0.3811 - accuracy: 0.8653 - val_loss: 0.3756 - val_accuracy: 0.8678\n",
            "Epoch 8/30\n",
            "1719/1719 [==============================] - 5s 3ms/step - loss: 0.3679 - accuracy: 0.8700 - val_loss: 0.3658 - val_accuracy: 0.8692\n",
            "Epoch 9/30\n",
            "1719/1719 [==============================] - 5s 3ms/step - loss: 0.3582 - accuracy: 0.8724 - val_loss: 0.3600 - val_accuracy: 0.8726\n",
            "Epoch 10/30\n",
            "1719/1719 [==============================] - 5s 3ms/step - loss: 0.3497 - accuracy: 0.8736 - val_loss: 0.3625 - val_accuracy: 0.8738\n",
            "Epoch 11/30\n",
            "1719/1719 [==============================] - 5s 3ms/step - loss: 0.3403 - accuracy: 0.8766 - val_loss: 0.3692 - val_accuracy: 0.8664\n",
            "Epoch 12/30\n",
            "1719/1719 [==============================] - 5s 3ms/step - loss: 0.3314 - accuracy: 0.8809 - val_loss: 0.3401 - val_accuracy: 0.8800\n",
            "Epoch 13/30\n",
            "1719/1719 [==============================] - 6s 3ms/step - loss: 0.3246 - accuracy: 0.8838 - val_loss: 0.3302 - val_accuracy: 0.8848\n",
            "Epoch 14/30\n",
            "1719/1719 [==============================] - 5s 3ms/step - loss: 0.3183 - accuracy: 0.8848 - val_loss: 0.3346 - val_accuracy: 0.8822\n",
            "Epoch 15/30\n",
            "1719/1719 [==============================] - 5s 3ms/step - loss: 0.3123 - accuracy: 0.8869 - val_loss: 0.3256 - val_accuracy: 0.8832\n",
            "Epoch 16/30\n",
            "1719/1719 [==============================] - 5s 3ms/step - loss: 0.3063 - accuracy: 0.8894 - val_loss: 0.3246 - val_accuracy: 0.8862\n",
            "Epoch 17/30\n",
            "1719/1719 [==============================] - 5s 3ms/step - loss: 0.3002 - accuracy: 0.8908 - val_loss: 0.3180 - val_accuracy: 0.8854\n",
            "Epoch 18/30\n",
            "1719/1719 [==============================] - 5s 3ms/step - loss: 0.2953 - accuracy: 0.8931 - val_loss: 0.3191 - val_accuracy: 0.8852\n",
            "Epoch 19/30\n",
            "1719/1719 [==============================] - 5s 3ms/step - loss: 0.2906 - accuracy: 0.8942 - val_loss: 0.3333 - val_accuracy: 0.8826\n",
            "Epoch 20/30\n",
            "1719/1719 [==============================] - 5s 3ms/step - loss: 0.2867 - accuracy: 0.8965 - val_loss: 0.3153 - val_accuracy: 0.8848\n",
            "Epoch 21/30\n",
            "1719/1719 [==============================] - 5s 3ms/step - loss: 0.2812 - accuracy: 0.8980 - val_loss: 0.3123 - val_accuracy: 0.8910\n",
            "Epoch 22/30\n",
            "1719/1719 [==============================] - 5s 3ms/step - loss: 0.2769 - accuracy: 0.8986 - val_loss: 0.3504 - val_accuracy: 0.8786\n",
            "Epoch 23/30\n",
            "1719/1719 [==============================] - 5s 3ms/step - loss: 0.2730 - accuracy: 0.9011 - val_loss: 0.3077 - val_accuracy: 0.8896\n",
            "Epoch 24/30\n",
            "1719/1719 [==============================] - 5s 3ms/step - loss: 0.2696 - accuracy: 0.9023 - val_loss: 0.3081 - val_accuracy: 0.8910\n",
            "Epoch 25/30\n",
            "1719/1719 [==============================] - 5s 3ms/step - loss: 0.2650 - accuracy: 0.9031 - val_loss: 0.3132 - val_accuracy: 0.8858\n",
            "Epoch 26/30\n",
            "1719/1719 [==============================] - 5s 3ms/step - loss: 0.2612 - accuracy: 0.9049 - val_loss: 0.3156 - val_accuracy: 0.8880\n",
            "Epoch 27/30\n",
            "1719/1719 [==============================] - 5s 3ms/step - loss: 0.2578 - accuracy: 0.9070 - val_loss: 0.3037 - val_accuracy: 0.8882\n",
            "Epoch 28/30\n",
            "1719/1719 [==============================] - 5s 3ms/step - loss: 0.2544 - accuracy: 0.9077 - val_loss: 0.3166 - val_accuracy: 0.8836\n",
            "Epoch 29/30\n",
            "1719/1719 [==============================] - 5s 3ms/step - loss: 0.2508 - accuracy: 0.9098 - val_loss: 0.3003 - val_accuracy: 0.8908\n",
            "Epoch 30/30\n",
            "1719/1719 [==============================] - 5s 3ms/step - loss: 0.2483 - accuracy: 0.9093 - val_loss: 0.3025 - val_accuracy: 0.8898\n"
          ]
        }
      ]
    },
    {
      "cell_type": "code",
      "source": [
        "model.evaluate(x_test/255.,y_test)"
      ],
      "metadata": {
        "colab": {
          "base_uri": "https://localhost:8080/"
        },
        "id": "dqJclaMVsOjX",
        "outputId": "24179291-4909-465c-ebed-77859dff9987"
      },
      "execution_count": null,
      "outputs": [
        {
          "output_type": "stream",
          "name": "stdout",
          "text": [
            "313/313 [==============================] - 1s 2ms/step - loss: 0.3405 - accuracy: 0.8804\n"
          ]
        },
        {
          "output_type": "execute_result",
          "data": {
            "text/plain": [
              "[0.34051278233528137, 0.8804000020027161]"
            ]
          },
          "metadata": {},
          "execution_count": 20
        }
      ]
    },
    {
      "cell_type": "code",
      "source": [
        "x_new=x_test[:3]\n",
        "x_new.shape"
      ],
      "metadata": {
        "colab": {
          "base_uri": "https://localhost:8080/"
        },
        "id": "P1e6qlRTwhd9",
        "outputId": "5f27fdc3-e98b-4b38-ce0a-15162bdcb37a"
      },
      "execution_count": null,
      "outputs": [
        {
          "output_type": "execute_result",
          "data": {
            "text/plain": [
              "(3, 28, 28)"
            ]
          },
          "metadata": {},
          "execution_count": 21
        }
      ]
    },
    {
      "cell_type": "code",
      "source": [
        "prob=model.predict_(x_new)\n",
        "prob"
      ],
      "metadata": {
        "colab": {
          "base_uri": "https://localhost:8080/"
        },
        "id": "i-sZnYNVyJFd",
        "outputId": "c5b620c5-8dfa-4ddf-e6fc-616a3f551851"
      },
      "execution_count": null,
      "outputs": [
        {
          "output_type": "execute_result",
          "data": {
            "text/plain": [
              "array([[0., 0., 0., 0., 0., 0., 0., 0., 0., 1.],\n",
              "       [0., 0., 1., 0., 0., 0., 0., 0., 0., 0.],\n",
              "       [0., 1., 0., 0., 0., 0., 0., 0., 0., 0.]], dtype=float32)"
            ]
          },
          "metadata": {},
          "execution_count": 22
        }
      ]
    },
    {
      "cell_type": "code",
      "source": [
        "class_names = [\"T-shirt/top\", \"Trouser\", \"Pullover\", \"Dress\", \"Coat\",\n",
        "\"Sandal\", \"Shirt\", \"Sneaker\", \"Bag\", \"Ankle boot\"]\n",
        "class_names[y_train[0]]"
      ],
      "metadata": {
        "colab": {
          "base_uri": "https://localhost:8080/",
          "height": 35
        },
        "id": "1mTnGAe40xz2",
        "outputId": "d32ade75-af10-4eb5-919f-4d7a6704aaf3"
      },
      "execution_count": null,
      "outputs": [
        {
          "output_type": "execute_result",
          "data": {
            "text/plain": [
              "'Ankle boot'"
            ],
            "application/vnd.google.colaboratory.intrinsic+json": {
              "type": "string"
            }
          },
          "metadata": {},
          "execution_count": 24
        }
      ]
    },
    {
      "cell_type": "code",
      "source": [
        "np.nonzero(prob)[1]"
      ],
      "metadata": {
        "colab": {
          "base_uri": "https://localhost:8080/"
        },
        "id": "PI2qY1EF1tPY",
        "outputId": "7b51cbe7-97ed-4363-bbd9-3e340f824cf7"
      },
      "execution_count": null,
      "outputs": [
        {
          "output_type": "execute_result",
          "data": {
            "text/plain": [
              "array([9, 2, 1])"
            ]
          },
          "metadata": {},
          "execution_count": 27
        }
      ]
    },
    {
      "cell_type": "code",
      "source": [
        "y_test[:3]"
      ],
      "metadata": {
        "colab": {
          "base_uri": "https://localhost:8080/"
        },
        "id": "pPB15ms91-5k",
        "outputId": "a3ec13b5-4c8d-4394-e667-204cfc1ce963"
      },
      "execution_count": null,
      "outputs": [
        {
          "output_type": "execute_result",
          "data": {
            "text/plain": [
              "array([9, 2, 1], dtype=uint8)"
            ]
          },
          "metadata": {},
          "execution_count": 28
        }
      ]
    },
    {
      "cell_type": "code",
      "source": [
        "from sklearn.datasets import fetch_california_housing\n",
        "from sklearn.model_selection import train_test_split\n",
        "from sklearn.preprocessing import StandardScaler"
      ],
      "metadata": {
        "id": "wePIz0lt2Tbw"
      },
      "execution_count": null,
      "outputs": []
    },
    {
      "cell_type": "code",
      "source": [
        "housing = fetch_california_housing()\n",
        "train_full_x,test_x,train_full_y,test_y=train_test_split(housing.data,housing.target)\n",
        "train_x,valid_x,train_y,valid_y=train_test_split(train_full_x,train_full_y)"
      ],
      "metadata": {
        "id": "6GylHSEVL-A4"
      },
      "execution_count": null,
      "outputs": []
    },
    {
      "cell_type": "code",
      "source": [
        "scale=StandardScaler()\n",
        "X_train=scale.fit_transform(train_x)\n",
        "valid_x=scale.transform(valid_x)\n",
        "test_x=scale.transform(test_x)"
      ],
      "metadata": {
        "id": "xSaPq84jNwcH"
      },
      "execution_count": null,
      "outputs": []
    },
    {
      "cell_type": "code",
      "source": [
        "X_train.shape[1]"
      ],
      "metadata": {
        "colab": {
          "base_uri": "https://localhost:8080/"
        },
        "id": "bQ2AqOZeT96N",
        "outputId": "7f879cf1-e26c-43cc-cd4c-603f69a59adf"
      },
      "execution_count": null,
      "outputs": [
        {
          "output_type": "execute_result",
          "data": {
            "text/plain": [
              "8"
            ]
          },
          "metadata": {},
          "execution_count": 11
        }
      ]
    },
    {
      "cell_type": "code",
      "source": [
        "model=Sequential([\n",
        "      Dense(32,activation='relu',input_shape=[X_train.shape[1]]),\n",
        "      Dense(1)\n",
        "])\n",
        "model.compile(loss='mse',optimizer='sgd')\n",
        "model.fit(X_train,train_y,epochs=40,validation_data=(valid_x,valid_y))"
      ],
      "metadata": {
        "colab": {
          "base_uri": "https://localhost:8080/"
        },
        "id": "2G4OZBTSR3ff",
        "outputId": "27a9306e-341e-4a78-c390-e24b38169fa9"
      },
      "execution_count": null,
      "outputs": [
        {
          "output_type": "stream",
          "name": "stdout",
          "text": [
            "Epoch 1/40\n",
            "363/363 [==============================] - 1s 2ms/step - loss: 0.9373 - val_loss: 0.5870\n",
            "Epoch 2/40\n",
            "363/363 [==============================] - 1s 2ms/step - loss: 0.5103 - val_loss: 0.5134\n",
            "Epoch 3/40\n",
            "363/363 [==============================] - 1s 2ms/step - loss: 0.4722 - val_loss: 0.4896\n",
            "Epoch 4/40\n",
            "363/363 [==============================] - 1s 2ms/step - loss: 0.4573 - val_loss: 0.4754\n",
            "Epoch 5/40\n",
            "363/363 [==============================] - 1s 2ms/step - loss: 0.4648 - val_loss: 0.4650\n",
            "Epoch 6/40\n",
            "363/363 [==============================] - 1s 2ms/step - loss: 0.4320 - val_loss: 0.4573\n",
            "Epoch 7/40\n",
            "363/363 [==============================] - 1s 2ms/step - loss: 0.4240 - val_loss: 0.4480\n",
            "Epoch 8/40\n",
            "363/363 [==============================] - 1s 2ms/step - loss: 0.4187 - val_loss: 0.4415\n",
            "Epoch 9/40\n",
            "363/363 [==============================] - 1s 3ms/step - loss: 0.4132 - val_loss: 0.4354\n",
            "Epoch 10/40\n",
            "363/363 [==============================] - 1s 2ms/step - loss: 0.4053 - val_loss: 0.4335\n",
            "Epoch 11/40\n",
            "363/363 [==============================] - 1s 2ms/step - loss: 0.3978 - val_loss: 0.4226\n",
            "Epoch 12/40\n",
            "363/363 [==============================] - 1s 2ms/step - loss: 0.3925 - val_loss: 0.4212\n",
            "Epoch 13/40\n",
            "363/363 [==============================] - 1s 2ms/step - loss: 0.3886 - val_loss: 0.4147\n",
            "Epoch 14/40\n",
            "363/363 [==============================] - 1s 2ms/step - loss: 0.3847 - val_loss: 0.4105\n",
            "Epoch 15/40\n",
            "363/363 [==============================] - 1s 2ms/step - loss: 0.3797 - val_loss: 0.4108\n",
            "Epoch 16/40\n",
            "363/363 [==============================] - 1s 2ms/step - loss: 0.3823 - val_loss: 0.4074\n",
            "Epoch 17/40\n",
            "363/363 [==============================] - 1s 2ms/step - loss: 0.3761 - val_loss: 0.4069\n",
            "Epoch 18/40\n",
            "363/363 [==============================] - 1s 2ms/step - loss: 0.3711 - val_loss: 0.4124\n",
            "Epoch 19/40\n",
            "363/363 [==============================] - 1s 2ms/step - loss: 0.3714 - val_loss: 0.3954\n",
            "Epoch 20/40\n",
            "363/363 [==============================] - 1s 2ms/step - loss: 0.3660 - val_loss: 0.3959\n",
            "Epoch 21/40\n",
            "363/363 [==============================] - 1s 2ms/step - loss: 0.3667 - val_loss: 0.3942\n",
            "Epoch 22/40\n",
            "363/363 [==============================] - 1s 2ms/step - loss: 0.3601 - val_loss: 0.3919\n",
            "Epoch 23/40\n",
            "363/363 [==============================] - 1s 2ms/step - loss: 0.3612 - val_loss: 0.3868\n",
            "Epoch 24/40\n",
            "363/363 [==============================] - 1s 2ms/step - loss: 0.3573 - val_loss: 0.3848\n",
            "Epoch 25/40\n",
            "363/363 [==============================] - 1s 2ms/step - loss: 0.3581 - val_loss: 0.3959\n",
            "Epoch 26/40\n",
            "363/363 [==============================] - 1s 2ms/step - loss: 0.3545 - val_loss: 0.3884\n",
            "Epoch 27/40\n",
            "363/363 [==============================] - 1s 2ms/step - loss: 0.3527 - val_loss: 0.3821\n",
            "Epoch 28/40\n",
            "363/363 [==============================] - 1s 2ms/step - loss: 0.3728 - val_loss: 0.3871\n",
            "Epoch 29/40\n",
            "363/363 [==============================] - 1s 2ms/step - loss: 0.3513 - val_loss: 0.3833\n",
            "Epoch 30/40\n",
            "363/363 [==============================] - 1s 2ms/step - loss: 0.3626 - val_loss: 0.3905\n",
            "Epoch 31/40\n",
            "363/363 [==============================] - 1s 2ms/step - loss: 0.3527 - val_loss: 0.3793\n",
            "Epoch 32/40\n",
            "363/363 [==============================] - 1s 2ms/step - loss: 0.3466 - val_loss: 0.3909\n",
            "Epoch 33/40\n",
            "363/363 [==============================] - 1s 2ms/step - loss: 0.3422 - val_loss: 0.3775\n",
            "Epoch 34/40\n",
            "363/363 [==============================] - 1s 2ms/step - loss: 0.3487 - val_loss: 0.3908\n",
            "Epoch 35/40\n",
            "363/363 [==============================] - 1s 2ms/step - loss: 0.3404 - val_loss: 0.3787\n",
            "Epoch 36/40\n",
            "363/363 [==============================] - 1s 2ms/step - loss: 0.3402 - val_loss: 0.3733\n",
            "Epoch 37/40\n",
            "363/363 [==============================] - 1s 2ms/step - loss: 0.3407 - val_loss: 0.3772\n",
            "Epoch 38/40\n",
            "363/363 [==============================] - 1s 2ms/step - loss: 0.3371 - val_loss: 0.3732\n",
            "Epoch 39/40\n",
            "363/363 [==============================] - 1s 2ms/step - loss: 0.3367 - val_loss: 0.3763\n",
            "Epoch 40/40\n",
            "363/363 [==============================] - 1s 2ms/step - loss: 0.3361 - val_loss: 0.3739\n"
          ]
        },
        {
          "output_type": "execute_result",
          "data": {
            "text/plain": [
              "<keras.callbacks.History at 0x7fb5f41301d0>"
            ]
          },
          "metadata": {},
          "execution_count": 12
        }
      ]
    },
    {
      "cell_type": "code",
      "source": [
        "model.evaluate(test_x,test_y)"
      ],
      "metadata": {
        "colab": {
          "base_uri": "https://localhost:8080/"
        },
        "id": "oJ6-4rhXVzr3",
        "outputId": "03625e8c-f36c-46f2-d2d3-5f1ae78b5aee"
      },
      "execution_count": null,
      "outputs": [
        {
          "output_type": "stream",
          "name": "stdout",
          "text": [
            "162/162 [==============================] - 1s 4ms/step - loss: 0.3371\n"
          ]
        },
        {
          "output_type": "execute_result",
          "data": {
            "text/plain": [
              "0.3371385335922241"
            ]
          },
          "metadata": {},
          "execution_count": 14
        }
      ]
    },
    {
      "cell_type": "code",
      "source": [
        "input=Input(shape=X_train.shape[1])\n",
        "X=Dense(32,activation='relu')(input)\n",
        "X=Dense(16,activation='relu')(X)\n",
        "X=Concatenate()([input,X])\n",
        "X=Dense(1)(X)\n",
        "model1=Model(inputs=input,outputs=X)\n",
        "model1.summary()"
      ],
      "metadata": {
        "colab": {
          "base_uri": "https://localhost:8080/"
        },
        "id": "5YF7CMxZfLBJ",
        "outputId": "acf9ab2c-2c97-4319-a990-bf3ff255c9a1"
      },
      "execution_count": null,
      "outputs": [
        {
          "output_type": "stream",
          "name": "stdout",
          "text": [
            "Model: \"model_4\"\n",
            "__________________________________________________________________________________________________\n",
            " Layer (type)                   Output Shape         Param #     Connected to                     \n",
            "==================================================================================================\n",
            " input_7 (InputLayer)           [(None, 8)]          0           []                               \n",
            "                                                                                                  \n",
            " dense_15 (Dense)               (None, 32)           288         ['input_7[0][0]']                \n",
            "                                                                                                  \n",
            " dense_16 (Dense)               (None, 16)           528         ['dense_15[0][0]']               \n",
            "                                                                                                  \n",
            " concatenate_3 (Concatenate)    (None, 24)           0           ['input_7[0][0]',                \n",
            "                                                                  'dense_16[0][0]']               \n",
            "                                                                                                  \n",
            " dense_17 (Dense)               (None, 1)            25          ['concatenate_3[0][0]']          \n",
            "                                                                                                  \n",
            "==================================================================================================\n",
            "Total params: 841\n",
            "Trainable params: 841\n",
            "Non-trainable params: 0\n",
            "__________________________________________________________________________________________________\n"
          ]
        }
      ]
    },
    {
      "cell_type": "code",
      "source": [
        "model1.compile(loss='mse',optimizer=tf.keras.optimizers.SGD(5e-3))\n",
        "model1.fit(X_train,train_y,epochs=40,validation_data=(valid_x,valid_y))"
      ],
      "metadata": {
        "id": "FWZ8CxcdFOmB",
        "colab": {
          "base_uri": "https://localhost:8080/"
        },
        "outputId": "0133cb35-9cf3-41f6-dfa0-ee8c3778f435"
      },
      "execution_count": null,
      "outputs": [
        {
          "output_type": "stream",
          "name": "stdout",
          "text": [
            "Epoch 1/40\n",
            "363/363 [==============================] - 1s 2ms/step - loss: 136.9255 - val_loss: 99.3935\n",
            "Epoch 2/40\n",
            "363/363 [==============================] - 1s 2ms/step - loss: 100.6537 - val_loss: 72.2123\n",
            "Epoch 3/40\n",
            "363/363 [==============================] - 1s 2ms/step - loss: 78.9958 - val_loss: 50.5148\n",
            "Epoch 4/40\n",
            "363/363 [==============================] - 1s 2ms/step - loss: 53.8504 - val_loss: 35.7979\n",
            "Epoch 5/40\n",
            "363/363 [==============================] - 1s 2ms/step - loss: 37.6822 - val_loss: 26.9915\n",
            "Epoch 6/40\n",
            "363/363 [==============================] - 1s 2ms/step - loss: 28.9694 - val_loss: 23.0348\n",
            "Epoch 7/40\n",
            "363/363 [==============================] - 1s 2ms/step - loss: 20.4990 - val_loss: 13.8983\n",
            "Epoch 8/40\n",
            "363/363 [==============================] - 1s 2ms/step - loss: 13.3726 - val_loss: 11.2335\n",
            "Epoch 9/40\n",
            "363/363 [==============================] - 1s 2ms/step - loss: 10.4028 - val_loss: 7.2401\n",
            "Epoch 10/40\n",
            "363/363 [==============================] - 1s 2ms/step - loss: 8.7217 - val_loss: 5.4012\n",
            "Epoch 11/40\n",
            "363/363 [==============================] - 1s 2ms/step - loss: 5.8768 - val_loss: 3.9371\n",
            "Epoch 12/40\n",
            "363/363 [==============================] - 1s 2ms/step - loss: 4.8319 - val_loss: 2.9446\n",
            "Epoch 13/40\n",
            "363/363 [==============================] - 1s 2ms/step - loss: 3.1180 - val_loss: 2.4976\n",
            "Epoch 14/40\n",
            "363/363 [==============================] - 1s 2ms/step - loss: 2.6865 - val_loss: 2.3741\n",
            "Epoch 15/40\n",
            "363/363 [==============================] - 1s 2ms/step - loss: 1.9843 - val_loss: 1.4010\n",
            "Epoch 16/40\n",
            "363/363 [==============================] - 1s 2ms/step - loss: 1.5263 - val_loss: 1.3449\n",
            "Epoch 17/40\n",
            "363/363 [==============================] - 1s 2ms/step - loss: 1.3929 - val_loss: 0.9585\n",
            "Epoch 18/40\n",
            "363/363 [==============================] - 1s 2ms/step - loss: 1.1384 - val_loss: 0.8366\n",
            "Epoch 19/40\n",
            "363/363 [==============================] - 1s 2ms/step - loss: 0.8801 - val_loss: 0.8171\n",
            "Epoch 20/40\n",
            "363/363 [==============================] - 1s 2ms/step - loss: 0.8169 - val_loss: 0.7778\n",
            "Epoch 21/40\n",
            "363/363 [==============================] - 1s 2ms/step - loss: 0.8102 - val_loss: 0.6354\n",
            "Epoch 22/40\n",
            "363/363 [==============================] - 1s 2ms/step - loss: 0.7238 - val_loss: 0.5894\n",
            "Epoch 23/40\n",
            "363/363 [==============================] - 1s 2ms/step - loss: 0.6251 - val_loss: 0.5931\n",
            "Epoch 24/40\n",
            "363/363 [==============================] - 1s 2ms/step - loss: 0.6572 - val_loss: 0.5531\n",
            "Epoch 25/40\n",
            "363/363 [==============================] - 1s 2ms/step - loss: 0.6685 - val_loss: 0.5391\n",
            "Epoch 26/40\n",
            "363/363 [==============================] - 1s 2ms/step - loss: 0.5785 - val_loss: 0.5295\n",
            "Epoch 27/40\n",
            "363/363 [==============================] - 1s 2ms/step - loss: 0.6099 - val_loss: 0.5119\n",
            "Epoch 28/40\n",
            "363/363 [==============================] - 1s 2ms/step - loss: 0.6000 - val_loss: 0.5117\n",
            "Epoch 29/40\n",
            "363/363 [==============================] - 1s 2ms/step - loss: 0.5442 - val_loss: 0.5439\n",
            "Epoch 30/40\n",
            "363/363 [==============================] - 1s 2ms/step - loss: 0.5640 - val_loss: 0.5392\n",
            "Epoch 31/40\n",
            "363/363 [==============================] - 1s 2ms/step - loss: 0.5410 - val_loss: 0.5174\n",
            "Epoch 32/40\n",
            "363/363 [==============================] - 1s 2ms/step - loss: 0.5582 - val_loss: 0.5110\n",
            "Epoch 33/40\n",
            "363/363 [==============================] - 1s 2ms/step - loss: 0.5573 - val_loss: 0.5078\n",
            "Epoch 34/40\n",
            "363/363 [==============================] - 1s 2ms/step - loss: 0.5528 - val_loss: 0.5062\n",
            "Epoch 35/40\n",
            "363/363 [==============================] - 1s 2ms/step - loss: 0.5630 - val_loss: 0.5094\n",
            "Epoch 36/40\n",
            "363/363 [==============================] - 1s 2ms/step - loss: 0.5408 - val_loss: 0.5132\n",
            "Epoch 37/40\n",
            "363/363 [==============================] - 1s 2ms/step - loss: 0.5685 - val_loss: 0.5096\n",
            "Epoch 38/40\n",
            "363/363 [==============================] - 1s 2ms/step - loss: 0.5498 - val_loss: 0.5037\n",
            "Epoch 39/40\n",
            "363/363 [==============================] - 1s 2ms/step - loss: 0.5494 - val_loss: 0.5057\n",
            "Epoch 40/40\n",
            "363/363 [==============================] - 1s 2ms/step - loss: 0.5438 - val_loss: 0.5098\n"
          ]
        },
        {
          "output_type": "execute_result",
          "data": {
            "text/plain": [
              "<keras.callbacks.History at 0x7f7028d71a90>"
            ]
          },
          "metadata": {},
          "execution_count": 29
        }
      ]
    },
    {
      "cell_type": "markdown",
      "source": [
        ""
      ],
      "metadata": {
        "id": "MjTGaBDCXRtN"
      }
    },
    {
      "cell_type": "code",
      "source": [
        "valid_x.shape"
      ],
      "metadata": {
        "colab": {
          "base_uri": "https://localhost:8080/"
        },
        "id": "3jevytVkXTMz",
        "outputId": "9e8871c7-ed08-4ea9-c30d-b1133e50664d"
      },
      "execution_count": null,
      "outputs": [
        {
          "output_type": "execute_result",
          "data": {
            "text/plain": [
              "(3870, 8)"
            ]
          },
          "metadata": {},
          "execution_count": 7
        }
      ]
    },
    {
      "cell_type": "code",
      "source": [
        "test_x.shape"
      ],
      "metadata": {
        "colab": {
          "base_uri": "https://localhost:8080/"
        },
        "id": "pkjfUbZwXTPP",
        "outputId": "73ea55b7-181e-48aa-e851-2a7b854a94e4"
      },
      "execution_count": null,
      "outputs": [
        {
          "output_type": "execute_result",
          "data": {
            "text/plain": [
              "(5160, 8)"
            ]
          },
          "metadata": {},
          "execution_count": 8
        }
      ]
    },
    {
      "cell_type": "code",
      "source": [
        "X_train_A,X_train_B=X_train[:,:5],X_train[:,2:]\n",
        "X_valid_A,X_valid_B=valid_x[:,:5],valid_x[:,2:]\n",
        "X_test_A,X_test_B=test_x[:,:5],test_x[:,2:]\n",
        "X_new_A,X_new_B=X_test_A[:3],X_test_B[:3]\n"
      ],
      "metadata": {
        "id": "iPkVJ6GcJW49"
      },
      "execution_count": null,
      "outputs": []
    },
    {
      "cell_type": "code",
      "source": [
        "inputA=Input(shape=5)\n",
        "inputB=Input(shape=X_train_B.shape[1])\n",
        "XB=Dense(32,activation='relu')(inputB)\n",
        "XB=Dense(16,activation='relu')(XB)\n",
        "XAB=Concatenate()([inputA,XB])\n",
        "out=Dense(1)(XAB)\n",
        "model=Model(inputs=[inputA,inputB],outputs=out)\n",
        "model.summary()"
      ],
      "metadata": {
        "colab": {
          "base_uri": "https://localhost:8080/"
        },
        "id": "r-XU8n3N6M6H",
        "outputId": "15909254-9bb4-4c64-bf0f-4fd5cfa8891f"
      },
      "execution_count": null,
      "outputs": [
        {
          "output_type": "stream",
          "name": "stdout",
          "text": [
            "Model: \"model\"\n",
            "__________________________________________________________________________________________________\n",
            " Layer (type)                   Output Shape         Param #     Connected to                     \n",
            "==================================================================================================\n",
            " input_2 (InputLayer)           [(None, 6)]          0           []                               \n",
            "                                                                                                  \n",
            " dense (Dense)                  (None, 32)           224         ['input_2[0][0]']                \n",
            "                                                                                                  \n",
            " input_1 (InputLayer)           [(None, 5)]          0           []                               \n",
            "                                                                                                  \n",
            " dense_1 (Dense)                (None, 16)           528         ['dense[0][0]']                  \n",
            "                                                                                                  \n",
            " concatenate (Concatenate)      (None, 21)           0           ['input_1[0][0]',                \n",
            "                                                                  'dense_1[0][0]']                \n",
            "                                                                                                  \n",
            " dense_2 (Dense)                (None, 1)            22          ['concatenate[0][0]']            \n",
            "                                                                                                  \n",
            "==================================================================================================\n",
            "Total params: 774\n",
            "Trainable params: 774\n",
            "Non-trainable params: 0\n",
            "__________________________________________________________________________________________________\n"
          ]
        }
      ]
    },
    {
      "cell_type": "code",
      "source": [
        "model.compile(loss='mse',loss_weight=[0.9,0.1],optimizer=tf.keras.optimizers.SGD(5e-3))\n",
        "model.fit([X_train_A,X_train_B],train_y,epochs=20,validation_data=([X_valid_A,X_valid_B],valid_y))"
      ],
      "metadata": {
        "colab": {
          "base_uri": "https://localhost:8080/"
        },
        "id": "KVFeaWaO8wZN",
        "outputId": "1586c3e1-2200-4f94-d3da-28c05842bea2"
      },
      "execution_count": null,
      "outputs": [
        {
          "output_type": "stream",
          "name": "stdout",
          "text": [
            "Epoch 1/20\n",
            "363/363 [==============================] - 3s 5ms/step - loss: 1.1801 - val_loss: 1.0708\n",
            "Epoch 2/20\n",
            "363/363 [==============================] - 1s 3ms/step - loss: 0.6173 - val_loss: 0.5574\n",
            "Epoch 3/20\n",
            "363/363 [==============================] - 1s 3ms/step - loss: 0.5283 - val_loss: 0.5041\n",
            "Epoch 4/20\n",
            "363/363 [==============================] - 1s 3ms/step - loss: 0.4946 - val_loss: 0.4720\n",
            "Epoch 5/20\n",
            "363/363 [==============================] - 1s 2ms/step - loss: 0.4761 - val_loss: 0.4530\n",
            "Epoch 6/20\n",
            "363/363 [==============================] - 1s 2ms/step - loss: 0.4575 - val_loss: 0.4373\n",
            "Epoch 7/20\n",
            "363/363 [==============================] - 1s 3ms/step - loss: 0.4472 - val_loss: 0.4247\n",
            "Epoch 8/20\n",
            "363/363 [==============================] - 1s 2ms/step - loss: 0.4386 - val_loss: 0.4222\n",
            "Epoch 9/20\n",
            "363/363 [==============================] - 1s 2ms/step - loss: 0.4331 - val_loss: 0.4139\n",
            "Epoch 10/20\n",
            "363/363 [==============================] - 1s 2ms/step - loss: 0.4283 - val_loss: 0.4068\n",
            "Epoch 11/20\n",
            "363/363 [==============================] - 1s 2ms/step - loss: 0.4291 - val_loss: 0.4032\n",
            "Epoch 12/20\n",
            "363/363 [==============================] - 1s 2ms/step - loss: 0.4187 - val_loss: 0.3975\n",
            "Epoch 13/20\n",
            "363/363 [==============================] - 1s 3ms/step - loss: 0.4133 - val_loss: 0.3931\n",
            "Epoch 14/20\n",
            "363/363 [==============================] - 1s 2ms/step - loss: 0.4094 - val_loss: 0.3878\n",
            "Epoch 15/20\n",
            "363/363 [==============================] - 1s 3ms/step - loss: 0.4057 - val_loss: 0.3890\n",
            "Epoch 16/20\n",
            "363/363 [==============================] - 1s 3ms/step - loss: 0.4029 - val_loss: 0.3821\n",
            "Epoch 17/20\n",
            "363/363 [==============================] - 1s 2ms/step - loss: 0.3995 - val_loss: 0.3784\n",
            "Epoch 18/20\n",
            "363/363 [==============================] - 1s 2ms/step - loss: 0.3948 - val_loss: 0.3754\n",
            "Epoch 19/20\n",
            "363/363 [==============================] - 1s 2ms/step - loss: 0.3928 - val_loss: 0.3771\n",
            "Epoch 20/20\n",
            "363/363 [==============================] - 1s 2ms/step - loss: 0.3894 - val_loss: 0.3709\n"
          ]
        },
        {
          "output_type": "execute_result",
          "data": {
            "text/plain": [
              "<keras.callbacks.History at 0x7f0315d97850>"
            ]
          },
          "metadata": {},
          "execution_count": 12
        }
      ]
    },
    {
      "cell_type": "code",
      "source": [
        "inputA=Input(shape=5)\n",
        "inputB=Input(shape=X_train_B.shape[1])\n",
        "XB=Dense(32,activation='relu')(inputB)\n",
        "XB=Dense(16,activation='relu')(XB)\n",
        "XAB=Concatenate()([inputA,XB])\n",
        "out=Dense(1)(XAB)\n",
        "Aux_out=Dense(1)(XB)\n",
        "model_c=Model(inputs=[inputA,inputB],outputs=[out,Aux_out])\n",
        "model_c.summary()"
      ],
      "metadata": {
        "colab": {
          "base_uri": "https://localhost:8080/"
        },
        "id": "oL0fFN9e-eBv",
        "outputId": "e3ad85c5-57c2-4fcb-ca6d-d42bd0c38dae"
      },
      "execution_count": null,
      "outputs": [
        {
          "output_type": "stream",
          "name": "stdout",
          "text": [
            "Model: \"model_1\"\n",
            "__________________________________________________________________________________________________\n",
            " Layer (type)                   Output Shape         Param #     Connected to                     \n",
            "==================================================================================================\n",
            " input_4 (InputLayer)           [(None, 6)]          0           []                               \n",
            "                                                                                                  \n",
            " dense_3 (Dense)                (None, 32)           224         ['input_4[0][0]']                \n",
            "                                                                                                  \n",
            " input_3 (InputLayer)           [(None, 5)]          0           []                               \n",
            "                                                                                                  \n",
            " dense_4 (Dense)                (None, 16)           528         ['dense_3[0][0]']                \n",
            "                                                                                                  \n",
            " concatenate_1 (Concatenate)    (None, 21)           0           ['input_3[0][0]',                \n",
            "                                                                  'dense_4[0][0]']                \n",
            "                                                                                                  \n",
            " dense_5 (Dense)                (None, 1)            22          ['concatenate_1[0][0]']          \n",
            "                                                                                                  \n",
            " dense_6 (Dense)                (None, 1)            17          ['dense_4[0][0]']                \n",
            "                                                                                                  \n",
            "==================================================================================================\n",
            "Total params: 791\n",
            "Trainable params: 791\n",
            "Non-trainable params: 0\n",
            "__________________________________________________________________________________________________\n"
          ]
        }
      ]
    },
    {
      "cell_type": "code",
      "source": [
        "model_c.compile(loss='mse',loss_weights=[0.9,0.1],optimizer=tf.keras.optimizers.SGD(5e-3))\n",
        "model_c.fit([X_train_A,X_train_B],[train_y,train_y],epochs=20,validation_data=([X_valid_A,X_valid_B],[valid_y,valid_y]))"
      ],
      "metadata": {
        "colab": {
          "base_uri": "https://localhost:8080/"
        },
        "id": "-JM8cM5HA4f9",
        "outputId": "b4d58d7d-cb16-454f-ddcc-bbfa8828d2d2"
      },
      "execution_count": null,
      "outputs": [
        {
          "output_type": "stream",
          "name": "stdout",
          "text": [
            "Epoch 1/20\n",
            "363/363 [==============================] - 2s 3ms/step - loss: 1.4061 - dense_5_loss: 1.3326 - dense_6_loss: 2.0677 - val_loss: 1.7552 - val_dense_5_loss: 1.7564 - val_dense_6_loss: 1.7451\n",
            "Epoch 2/20\n",
            "363/363 [==============================] - 1s 3ms/step - loss: 0.8033 - dense_5_loss: 0.7645 - dense_6_loss: 1.1523 - val_loss: 0.6056 - val_dense_5_loss: 0.5600 - val_dense_6_loss: 1.0158\n",
            "Epoch 3/20\n",
            "363/363 [==============================] - 1s 2ms/step - loss: 0.5942 - dense_5_loss: 0.5552 - dense_6_loss: 0.9457 - val_loss: 0.5416 - val_dense_5_loss: 0.5040 - val_dense_6_loss: 0.8806\n",
            "Epoch 4/20\n",
            "363/363 [==============================] - 1s 2ms/step - loss: 0.5403 - dense_5_loss: 0.5078 - dense_6_loss: 0.8331 - val_loss: 0.5076 - val_dense_5_loss: 0.4774 - val_dense_6_loss: 0.7796\n",
            "Epoch 5/20\n",
            "363/363 [==============================] - 1s 2ms/step - loss: 0.5105 - dense_5_loss: 0.4835 - dense_6_loss: 0.7533 - val_loss: 0.4890 - val_dense_5_loss: 0.4632 - val_dense_6_loss: 0.7216\n",
            "Epoch 6/20\n",
            "363/363 [==============================] - 1s 2ms/step - loss: 0.4911 - dense_5_loss: 0.4676 - dense_6_loss: 0.7025 - val_loss: 0.4726 - val_dense_5_loss: 0.4491 - val_dense_6_loss: 0.6841\n",
            "Epoch 7/20\n",
            "363/363 [==============================] - 1s 2ms/step - loss: 0.4772 - dense_5_loss: 0.4559 - dense_6_loss: 0.6686 - val_loss: 0.4698 - val_dense_5_loss: 0.4465 - val_dense_6_loss: 0.6797\n",
            "Epoch 8/20\n",
            "363/363 [==============================] - 1s 2ms/step - loss: 0.4680 - dense_5_loss: 0.4477 - dense_6_loss: 0.6508 - val_loss: 0.4558 - val_dense_5_loss: 0.4359 - val_dense_6_loss: 0.6353\n",
            "Epoch 9/20\n",
            "363/363 [==============================] - 1s 2ms/step - loss: 0.4615 - dense_5_loss: 0.4422 - dense_6_loss: 0.6346 - val_loss: 0.4504 - val_dense_5_loss: 0.4308 - val_dense_6_loss: 0.6268\n",
            "Epoch 10/20\n",
            "363/363 [==============================] - 1s 2ms/step - loss: 0.4553 - dense_5_loss: 0.4367 - dense_6_loss: 0.6229 - val_loss: 0.4485 - val_dense_5_loss: 0.4265 - val_dense_6_loss: 0.6473\n",
            "Epoch 11/20\n",
            "363/363 [==============================] - 1s 2ms/step - loss: 0.4506 - dense_5_loss: 0.4323 - dense_6_loss: 0.6154 - val_loss: 0.4485 - val_dense_5_loss: 0.4310 - val_dense_6_loss: 0.6062\n",
            "Epoch 12/20\n",
            "363/363 [==============================] - 1s 2ms/step - loss: 0.4469 - dense_5_loss: 0.4290 - dense_6_loss: 0.6089 - val_loss: 0.4447 - val_dense_5_loss: 0.4245 - val_dense_6_loss: 0.6267\n",
            "Epoch 13/20\n",
            "363/363 [==============================] - 1s 2ms/step - loss: 0.4434 - dense_5_loss: 0.4258 - dense_6_loss: 0.6020 - val_loss: 0.4345 - val_dense_5_loss: 0.4152 - val_dense_6_loss: 0.6078\n",
            "Epoch 14/20\n",
            "363/363 [==============================] - 1s 2ms/step - loss: 0.4396 - dense_5_loss: 0.4223 - dense_6_loss: 0.5960 - val_loss: 0.4283 - val_dense_5_loss: 0.4099 - val_dense_6_loss: 0.5946\n",
            "Epoch 15/20\n",
            "363/363 [==============================] - 1s 2ms/step - loss: 0.4364 - dense_5_loss: 0.4191 - dense_6_loss: 0.5918 - val_loss: 0.4332 - val_dense_5_loss: 0.4155 - val_dense_6_loss: 0.5927\n",
            "Epoch 16/20\n",
            "363/363 [==============================] - 1s 2ms/step - loss: 0.4343 - dense_5_loss: 0.4176 - dense_6_loss: 0.5852 - val_loss: 0.4316 - val_dense_5_loss: 0.4150 - val_dense_6_loss: 0.5808\n",
            "Epoch 17/20\n",
            "363/363 [==============================] - 1s 2ms/step - loss: 0.4313 - dense_5_loss: 0.4145 - dense_6_loss: 0.5825 - val_loss: 0.4238 - val_dense_5_loss: 0.4072 - val_dense_6_loss: 0.5739\n",
            "Epoch 18/20\n",
            "363/363 [==============================] - 1s 2ms/step - loss: 0.4284 - dense_5_loss: 0.4118 - dense_6_loss: 0.5781 - val_loss: 0.4221 - val_dense_5_loss: 0.4045 - val_dense_6_loss: 0.5803\n",
            "Epoch 19/20\n",
            "363/363 [==============================] - 1s 2ms/step - loss: 0.4253 - dense_5_loss: 0.4090 - dense_6_loss: 0.5720 - val_loss: 0.4197 - val_dense_5_loss: 0.4030 - val_dense_6_loss: 0.5703\n",
            "Epoch 20/20\n",
            "363/363 [==============================] - 1s 2ms/step - loss: 0.4232 - dense_5_loss: 0.4069 - dense_6_loss: 0.5699 - val_loss: 0.4123 - val_dense_5_loss: 0.3955 - val_dense_6_loss: 0.5635\n"
          ]
        },
        {
          "output_type": "execute_result",
          "data": {
            "text/plain": [
              "<keras.callbacks.History at 0x7f1a1ef84650>"
            ]
          },
          "metadata": {},
          "execution_count": 9
        }
      ]
    },
    {
      "cell_type": "code",
      "source": [
        "total_loss,main_loss,aux_loss=model_c.evaluate([X_test_A,X_test_B],[test_y,test_y])"
      ],
      "metadata": {
        "colab": {
          "base_uri": "https://localhost:8080/",
          "height": 166
        },
        "id": "zN00PE8aBH0a",
        "outputId": "6ba0b2b6-49c4-472c-8294-86866548350a"
      },
      "execution_count": null,
      "outputs": [
        {
          "output_type": "error",
          "ename": "NameError",
          "evalue": "ignored",
          "traceback": [
            "\u001b[0;31m---------------------------------------------------------------------------\u001b[0m",
            "\u001b[0;31mNameError\u001b[0m                                 Traceback (most recent call last)",
            "\u001b[0;32m<ipython-input-3-5a3844793ca9>\u001b[0m in \u001b[0;36m<module>\u001b[0;34m()\u001b[0m\n\u001b[0;32m----> 1\u001b[0;31m \u001b[0mtotal_loss\u001b[0m\u001b[0;34m,\u001b[0m\u001b[0mmain_loss\u001b[0m\u001b[0;34m,\u001b[0m\u001b[0maux_loss\u001b[0m\u001b[0;34m=\u001b[0m\u001b[0mmodel_c\u001b[0m\u001b[0;34m.\u001b[0m\u001b[0mevaluate\u001b[0m\u001b[0;34m(\u001b[0m\u001b[0;34m[\u001b[0m\u001b[0mX_test_A\u001b[0m\u001b[0;34m,\u001b[0m\u001b[0mX_test_B\u001b[0m\u001b[0;34m]\u001b[0m\u001b[0;34m,\u001b[0m\u001b[0;34m[\u001b[0m\u001b[0mtest_y\u001b[0m\u001b[0;34m,\u001b[0m\u001b[0mtest_y\u001b[0m\u001b[0;34m]\u001b[0m\u001b[0;34m)\u001b[0m\u001b[0;34m\u001b[0m\u001b[0;34m\u001b[0m\u001b[0m\n\u001b[0m",
            "\u001b[0;31mNameError\u001b[0m: name 'model_c' is not defined"
          ]
        }
      ]
    },
    {
      "cell_type": "code",
      "source": [
        "(x_train,y_train),(x_test,y_test)=datasets.mnist.load_data()"
      ],
      "metadata": {
        "id": "o9hRyJ6j-Aym"
      },
      "execution_count": 3,
      "outputs": []
    },
    {
      "cell_type": "code",
      "source": [
        "x_train=x_train.reshape(-1,784)/255.\n",
        "x_test=x_test.reshape(-1,784)/255."
      ],
      "metadata": {
        "id": "lI3Nj8-hum1N"
      },
      "execution_count": 4,
      "outputs": []
    },
    {
      "cell_type": "code",
      "source": [
        "class mycallback(tf.keras.callbacks.Callback):\n",
        "  def on_epoch_end(self,epoch,logs=None):\n",
        "    if logs.get('accuracy') is not None and logs.get('accuracy')>=0.9:\n",
        "      print('the goal reaches 99.9% and has to stop!')\n",
        "      self.model.stop_training=True"
      ],
      "metadata": {
        "id": "HoF-fQT5FEVA"
      },
      "execution_count": 8,
      "outputs": []
    },
    {
      "cell_type": "code",
      "source": [
        "class mycallback(tf.keras.callbacks.Callback):\n",
        "  def on_epoch_end(self,epoch,logs=None):\n",
        "    if logs.get('accurcay') is not None and logs.get('accuracy')>=0.9:\n",
        "      print('the training reach the goal 98% and training stops!')\n",
        "      self.model.stop_training=True"
      ],
      "metadata": {
        "id": "2zy72A7UwROU"
      },
      "execution_count": 5,
      "outputs": []
    },
    {
      "cell_type": "code",
      "source": [
        "lr_scheduler=tf.keras.callbacks.LearningRateScheduler(lambda epoch:1e-3*10**(epoch/40))\n",
        "'''tf.keras.backend.clear_session()\n",
        "class mycallback(tf.keras.callbacks.Callback):\n",
        "  def on_epoch_end(self,epoch,logs=None):\n",
        "    if logs.get('accurcay') is not None and logs.get('accuracy')>=0.900:\n",
        "      print('the training reach the goal 98% and training stops!')\n",
        "      self.model.stop_training=True'''\n",
        "model_mnist=Sequential([\n",
        "          Dense(128,activation='relu',input_shape=[x_train.shape[1]]),\n",
        "          Dense(64,activation='relu'),\n",
        "          Dense(10,activation='softmax')\n",
        "])\n",
        "model_mnist.summary()\n",
        "model_mnist.compile(loss='sparse_categorical_crossentropy',optimizer=tf.keras.optimizers.SGD(learning_rate=0.015),metrics=['accuracy'])"
      ],
      "metadata": {
        "colab": {
          "base_uri": "https://localhost:8080/"
        },
        "id": "OPONb8iLwYeN",
        "outputId": "f601201a-9fd2-4f55-ad12-05ef0e8aaac8"
      },
      "execution_count": 8,
      "outputs": [
        {
          "output_type": "stream",
          "name": "stdout",
          "text": [
            "Model: \"sequential_1\"\n",
            "_________________________________________________________________\n",
            " Layer (type)                Output Shape              Param #   \n",
            "=================================================================\n",
            " dense_3 (Dense)             (None, 128)               100480    \n",
            "                                                                 \n",
            " dense_4 (Dense)             (None, 64)                8256      \n",
            "                                                                 \n",
            " dense_5 (Dense)             (None, 10)                650       \n",
            "                                                                 \n",
            "=================================================================\n",
            "Total params: 109,386\n",
            "Trainable params: 109,386\n",
            "Non-trainable params: 0\n",
            "_________________________________________________________________\n"
          ]
        }
      ]
    },
    {
      "cell_type": "code",
      "source": [
        "class mycallback(tf.keras.callbacks.Callback):\n",
        "  def on_epoch_end(self,epoch,logs):\n",
        "    if logs.get('accuracy') is not None and logs.get('accuracy')>0.9:\n",
        "      print('stop!')\n",
        "      self.model.stop_training=True\n",
        "hist=model_mnist.fit(x_train,y_train,epochs=50,validation_data=(x_test,y_test))"
      ],
      "metadata": {
        "colab": {
          "base_uri": "https://localhost:8080/"
        },
        "id": "b4NqAUcVwtCT",
        "outputId": "8de45357-8001-4574-e398-e8ecde62e605"
      },
      "execution_count": 9,
      "outputs": [
        {
          "output_type": "stream",
          "name": "stdout",
          "text": [
            "Epoch 1/50\n",
            "1875/1875 [==============================] - 6s 3ms/step - loss: 0.5154 - accuracy: 0.8584 - val_loss: 0.2724 - val_accuracy: 0.9226\n",
            "Epoch 2/50\n",
            "1875/1875 [==============================] - 5s 3ms/step - loss: 0.2495 - accuracy: 0.9285 - val_loss: 0.2176 - val_accuracy: 0.9366\n",
            "Epoch 3/50\n",
            "1875/1875 [==============================] - 5s 3ms/step - loss: 0.1963 - accuracy: 0.9432 - val_loss: 0.1767 - val_accuracy: 0.9492\n",
            "Epoch 4/50\n",
            "1875/1875 [==============================] - 5s 3ms/step - loss: 0.1634 - accuracy: 0.9521 - val_loss: 0.1462 - val_accuracy: 0.9569\n",
            "Epoch 5/50\n",
            "1875/1875 [==============================] - 5s 3ms/step - loss: 0.1394 - accuracy: 0.9594 - val_loss: 0.1351 - val_accuracy: 0.9600\n",
            "Epoch 6/50\n",
            "1875/1875 [==============================] - 5s 3ms/step - loss: 0.1211 - accuracy: 0.9650 - val_loss: 0.1198 - val_accuracy: 0.9651\n",
            "Epoch 7/50\n",
            "1875/1875 [==============================] - 5s 3ms/step - loss: 0.1072 - accuracy: 0.9689 - val_loss: 0.1073 - val_accuracy: 0.9679\n",
            "Epoch 8/50\n",
            "1875/1875 [==============================] - 5s 3ms/step - loss: 0.0952 - accuracy: 0.9728 - val_loss: 0.1090 - val_accuracy: 0.9674\n",
            "Epoch 9/50\n",
            "1875/1875 [==============================] - 5s 3ms/step - loss: 0.0852 - accuracy: 0.9750 - val_loss: 0.0947 - val_accuracy: 0.9715\n",
            "Epoch 10/50\n",
            "1875/1875 [==============================] - 6s 3ms/step - loss: 0.0780 - accuracy: 0.9773 - val_loss: 0.0897 - val_accuracy: 0.9722\n",
            "Epoch 11/50\n",
            "1875/1875 [==============================] - 5s 3ms/step - loss: 0.0704 - accuracy: 0.9789 - val_loss: 0.0860 - val_accuracy: 0.9730\n",
            "Epoch 12/50\n",
            "1875/1875 [==============================] - 5s 3ms/step - loss: 0.0647 - accuracy: 0.9815 - val_loss: 0.0851 - val_accuracy: 0.9725\n",
            "Epoch 13/50\n",
            "1875/1875 [==============================] - 5s 3ms/step - loss: 0.0594 - accuracy: 0.9831 - val_loss: 0.0822 - val_accuracy: 0.9739\n",
            "Epoch 14/50\n",
            "1875/1875 [==============================] - 6s 3ms/step - loss: 0.0548 - accuracy: 0.9843 - val_loss: 0.0898 - val_accuracy: 0.9730\n",
            "Epoch 15/50\n",
            "1875/1875 [==============================] - 5s 3ms/step - loss: 0.0507 - accuracy: 0.9859 - val_loss: 0.0775 - val_accuracy: 0.9754\n",
            "Epoch 16/50\n",
            "1875/1875 [==============================] - 5s 3ms/step - loss: 0.0470 - accuracy: 0.9872 - val_loss: 0.0783 - val_accuracy: 0.9752\n",
            "Epoch 17/50\n",
            "1875/1875 [==============================] - 5s 3ms/step - loss: 0.0431 - accuracy: 0.9884 - val_loss: 0.0747 - val_accuracy: 0.9755\n",
            "Epoch 18/50\n",
            "1875/1875 [==============================] - 5s 3ms/step - loss: 0.0404 - accuracy: 0.9894 - val_loss: 0.0771 - val_accuracy: 0.9760\n",
            "Epoch 19/50\n",
            "1875/1875 [==============================] - 5s 3ms/step - loss: 0.0377 - accuracy: 0.9895 - val_loss: 0.0751 - val_accuracy: 0.9762\n",
            "Epoch 20/50\n",
            "1875/1875 [==============================] - 5s 3ms/step - loss: 0.0345 - accuracy: 0.9911 - val_loss: 0.0731 - val_accuracy: 0.9777\n",
            "Epoch 21/50\n",
            "1875/1875 [==============================] - 5s 3ms/step - loss: 0.0322 - accuracy: 0.9915 - val_loss: 0.0724 - val_accuracy: 0.9768\n",
            "Epoch 22/50\n",
            "1875/1875 [==============================] - 5s 3ms/step - loss: 0.0299 - accuracy: 0.9924 - val_loss: 0.0720 - val_accuracy: 0.9773\n",
            "Epoch 23/50\n",
            "1875/1875 [==============================] - 5s 3ms/step - loss: 0.0282 - accuracy: 0.9930 - val_loss: 0.0729 - val_accuracy: 0.9770\n",
            "Epoch 24/50\n",
            "1875/1875 [==============================] - 5s 3ms/step - loss: 0.0260 - accuracy: 0.9934 - val_loss: 0.0723 - val_accuracy: 0.9779\n",
            "Epoch 25/50\n",
            "1875/1875 [==============================] - 5s 3ms/step - loss: 0.0244 - accuracy: 0.9940 - val_loss: 0.0736 - val_accuracy: 0.9769\n",
            "Epoch 26/50\n",
            "1875/1875 [==============================] - 6s 3ms/step - loss: 0.0229 - accuracy: 0.9944 - val_loss: 0.0731 - val_accuracy: 0.9766\n",
            "Epoch 27/50\n",
            "1875/1875 [==============================] - 5s 3ms/step - loss: 0.0211 - accuracy: 0.9953 - val_loss: 0.0728 - val_accuracy: 0.9782\n",
            "Epoch 28/50\n",
            "1875/1875 [==============================] - 6s 3ms/step - loss: 0.0198 - accuracy: 0.9955 - val_loss: 0.0735 - val_accuracy: 0.9767\n",
            "Epoch 29/50\n",
            "1875/1875 [==============================] - 6s 3ms/step - loss: 0.0181 - accuracy: 0.9963 - val_loss: 0.0711 - val_accuracy: 0.9792\n",
            "Epoch 30/50\n",
            "1875/1875 [==============================] - 5s 3ms/step - loss: 0.0173 - accuracy: 0.9965 - val_loss: 0.0700 - val_accuracy: 0.9781\n",
            "Epoch 31/50\n",
            "1875/1875 [==============================] - 6s 3ms/step - loss: 0.0161 - accuracy: 0.9969 - val_loss: 0.0700 - val_accuracy: 0.9785\n",
            "Epoch 32/50\n",
            "1875/1875 [==============================] - 6s 3ms/step - loss: 0.0149 - accuracy: 0.9974 - val_loss: 0.0733 - val_accuracy: 0.9781\n",
            "Epoch 33/50\n",
            "1875/1875 [==============================] - 6s 3ms/step - loss: 0.0139 - accuracy: 0.9978 - val_loss: 0.0722 - val_accuracy: 0.9788\n",
            "Epoch 34/50\n",
            "1875/1875 [==============================] - 6s 3ms/step - loss: 0.0130 - accuracy: 0.9977 - val_loss: 0.0750 - val_accuracy: 0.9773\n",
            "Epoch 35/50\n",
            "1875/1875 [==============================] - 6s 3ms/step - loss: 0.0121 - accuracy: 0.9984 - val_loss: 0.0739 - val_accuracy: 0.9784\n",
            "Epoch 36/50\n",
            "1875/1875 [==============================] - 6s 3ms/step - loss: 0.0114 - accuracy: 0.9985 - val_loss: 0.0729 - val_accuracy: 0.9786\n",
            "Epoch 37/50\n",
            "1875/1875 [==============================] - 5s 3ms/step - loss: 0.0107 - accuracy: 0.9987 - val_loss: 0.0725 - val_accuracy: 0.9796\n",
            "Epoch 38/50\n",
            "1875/1875 [==============================] - 6s 3ms/step - loss: 0.0101 - accuracy: 0.9989 - val_loss: 0.0743 - val_accuracy: 0.9785\n",
            "Epoch 39/50\n",
            "1875/1875 [==============================] - 6s 3ms/step - loss: 0.0094 - accuracy: 0.9989 - val_loss: 0.0729 - val_accuracy: 0.9794\n",
            "Epoch 40/50\n",
            "1875/1875 [==============================] - 5s 3ms/step - loss: 0.0089 - accuracy: 0.9990 - val_loss: 0.0740 - val_accuracy: 0.9792\n",
            "Epoch 41/50\n",
            "1875/1875 [==============================] - 5s 3ms/step - loss: 0.0083 - accuracy: 0.9991 - val_loss: 0.0763 - val_accuracy: 0.9777\n",
            "Epoch 42/50\n",
            "1875/1875 [==============================] - 5s 3ms/step - loss: 0.0078 - accuracy: 0.9992 - val_loss: 0.0771 - val_accuracy: 0.9772\n",
            "Epoch 43/50\n",
            "1875/1875 [==============================] - 6s 3ms/step - loss: 0.0074 - accuracy: 0.9995 - val_loss: 0.0744 - val_accuracy: 0.9789\n",
            "Epoch 44/50\n",
            "1875/1875 [==============================] - 5s 3ms/step - loss: 0.0069 - accuracy: 0.9994 - val_loss: 0.0768 - val_accuracy: 0.9789\n",
            "Epoch 45/50\n",
            "1875/1875 [==============================] - 6s 3ms/step - loss: 0.0066 - accuracy: 0.9995 - val_loss: 0.0758 - val_accuracy: 0.9790\n",
            "Epoch 46/50\n",
            "1875/1875 [==============================] - 5s 3ms/step - loss: 0.0062 - accuracy: 0.9995 - val_loss: 0.0814 - val_accuracy: 0.9765\n",
            "Epoch 47/50\n",
            "1875/1875 [==============================] - 5s 3ms/step - loss: 0.0059 - accuracy: 0.9995 - val_loss: 0.0771 - val_accuracy: 0.9788\n",
            "Epoch 48/50\n",
            "1875/1875 [==============================] - 6s 3ms/step - loss: 0.0055 - accuracy: 0.9998 - val_loss: 0.0773 - val_accuracy: 0.9787\n",
            "Epoch 49/50\n",
            "1875/1875 [==============================] - 6s 3ms/step - loss: 0.0052 - accuracy: 0.9997 - val_loss: 0.0782 - val_accuracy: 0.9786\n",
            "Epoch 50/50\n",
            "1875/1875 [==============================] - 6s 3ms/step - loss: 0.0050 - accuracy: 0.9997 - val_loss: 0.0797 - val_accuracy: 0.9780\n"
          ]
        }
      ]
    },
    {
      "cell_type": "code",
      "source": [
        "import matplotlib.pyplot as plt\n",
        "plt.semilogx(hist.history['lr'],hist.history['loss'])\n"
      ],
      "metadata": {
        "id": "SeR5oX3fzvF9",
        "colab": {
          "base_uri": "https://localhost:8080/",
          "height": 286
        },
        "outputId": "9151bf94-91be-46f4-9240-2331fe1b7471"
      },
      "execution_count": 7,
      "outputs": [
        {
          "output_type": "execute_result",
          "data": {
            "text/plain": [
              "[<matplotlib.lines.Line2D at 0x7fbb3efb1690>]"
            ]
          },
          "metadata": {},
          "execution_count": 7
        },
        {
          "output_type": "display_data",
          "data": {
            "text/plain": [
              "<Figure size 432x288 with 1 Axes>"
            ],
            "image/png": "[encoded data removed]"
          },
          "metadata": {
            "needs_background": "light"
          }
        }
      ]
    }
  ]
}