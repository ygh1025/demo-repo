{
  "nbformat": 4,
  "nbformat_minor": 0,
  "metadata": {
    "colab": {
      "name": "tensorflow_class3.ipynb",
      "provenance": [],
      "authorship_tag": "ABX9TyPdn7pDsTZ4isW9N49e1QkN",
      "include_colab_link": true
    },
    "kernelspec": {
      "name": "python3",
      "display_name": "Python 3"
    },
    "language_info": {
      "name": "python"
    },
    "accelerator": "GPU"
  },
  "cells": [
    {
      "cell_type": "markdown",
      "metadata": {
        "id": "view-in-github",
        "colab_type": "text"
      },
      "source": [
        "<a href=\"https://colab.research.google.com/github/ygh1025/demo-repo/blob/main/tensorflow_class3.ipynb\" target=\"_parent\"><img src=\"https://colab.research.google.com/assets/colab-badge.svg\" alt=\"Open In Colab\"/></a>"
      ]
    },
    {
      "cell_type": "code",
      "execution_count": null,
      "metadata": {
        "colab": {
          "base_uri": "https://localhost:8080/"
        },
        "id": "2igOXC7rvaZW",
        "outputId": "1c570ae6-d1a6-4579-945a-9e21f69db1d3"
      },
      "outputs": [
        {
          "output_type": "stream",
          "name": "stdout",
          "text": [
            "/usr/local/lib/python3.7/dist-packages/gdown/cli.py:131: FutureWarning: Option `--id` was deprecated in version 4.3.1 and will be removed in 5.0. You don't need to pass it anymore to use a file ID.\n",
            "  category=FutureWarning,\n",
            "Downloading...\n",
            "From: https://drive.google.com/uc?id=1rX10xeI3eUJmOLsc4pOPY6AnCLO8DxNj\n",
            "To: /content/bbc-text.csv\n",
            "100% 5.06M/5.06M [00:00<00:00, 16.1MB/s]\n"
          ]
        }
      ],
      "source": [
        "!gdown --id 1rX10xeI3eUJmOLsc4pOPY6AnCLO8DxNj"
      ]
    },
    {
      "cell_type": "code",
      "source": [
        "import csv\n",
        "stopwords = [ \"a\", \"about\", \"above\", \"after\", \"again\", \"against\", \"all\", \"am\", \"an\", \"and\", \"any\", \"are\", \"as\", \"at\", \"be\", \"because\", \"been\", \"before\", \"being\", \"below\", \"between\", \"both\", \"but\", \"by\", \"could\", \"did\", \"do\", \"does\", \"doing\", \"down\", \"during\", \"each\", \"few\", \"for\", \"from\", \"further\", \"had\", \"has\", \"have\", \"having\", \"he\", \"he'd\", \"he'll\", \"he's\", \"her\", \"here\", \"here's\", \"hers\", \"herself\", \"him\", \"himself\", \"his\", \"how\", \"how's\", \"i\", \"i'd\", \"i'll\", \"i'm\", \"i've\", \"if\", \"in\", \"into\", \"is\", \"it\", \"it's\", \"its\", \"itself\", \"let's\", \"me\", \"more\", \"most\", \"my\", \"myself\", \"nor\", \"of\", \"on\", \"once\", \"only\", \"or\", \"other\", \"ought\", \"our\", \"ours\", \"ourselves\", \"out\", \"over\", \"own\", \"same\", \"she\", \"she'd\", \"she'll\", \"she's\", \"should\", \"so\", \"some\", \"such\", \"than\", \"that\", \"that's\", \"the\", \"their\", \"theirs\", \"them\", \"themselves\", \"then\", \"there\", \"there's\", \"these\", \"they\", \"they'd\", \"they'll\", \"they're\", \"they've\", \"this\", \"those\", \"through\", \"to\", \"too\", \"under\", \"until\", \"up\", \"very\", \"was\", \"we\", \"we'd\", \"we'll\", \"we're\", \"we've\", \"were\", \"what\", \"what's\", \"when\", \"when's\", \"where\", \"where's\", \"which\", \"while\", \"who\", \"who's\", \"whom\", \"why\", \"why's\", \"with\", \"would\", \"you\", \"you'd\", \"you'll\", \"you're\", \"you've\", \"your\", \"yours\", \"yourself\", \"yourselves\" ]\n",
        "\n",
        "with open('/content/bbc-text.csv','r') as file:\n",
        "  lines=csv.reader(file,delimiter=',')\n",
        "  next(lines)\n",
        "  labels=[]\n",
        "  sentences=[]\n",
        "  for line in lines:\n",
        "    labels.append(line[0])\n",
        "    sentence=line[1]\n",
        "    for word in stopwords:\n",
        "        taken_word=' '+word+' '\n",
        "        sentence=sentence.replace(taken_word,' ')\n",
        "    sentences.append(sentence)\n",
        "print(len(labels))\n",
        "print(len(sentences))\n",
        "\n"
      ],
      "metadata": {
        "colab": {
          "base_uri": "https://localhost:8080/"
        },
        "id": "7dkS2nRwwWbe",
        "outputId": "66747053-3135-485f-9a22-4a91c8c3bacd"
      },
      "execution_count": null,
      "outputs": [
        {
          "output_type": "stream",
          "name": "stdout",
          "text": [
            "2225\n",
            "2225\n"
          ]
        }
      ]
    },
    {
      "cell_type": "code",
      "source": [
        "from tensorflow.keras.preprocessing.text import Tokenizer\n",
        "from tensorflow.keras.preprocessing.sequence import pad_sequences\n",
        "import numpy as np\n"
      ],
      "metadata": {
        "id": "mfWDukdYmWHp"
      },
      "execution_count": 4,
      "outputs": []
    },
    {
      "cell_type": "code",
      "source": [
        "training_porting=0.8\n",
        "vocab_size=1000\n",
        "embedding_dim=100\n",
        "max_length=100\n",
        "trunc_style='pre'\n",
        "padding_style='pre'\n",
        "training_length=int(len(sentences)*0.8)\n",
        "train_sentences=sentences[:training_length]\n",
        "test_sentences=sentences[training_length:]\n",
        "\n",
        "\n",
        "tokenizer=Tokenizer(num_words=vocab_size,oov_token='OOV')\n",
        "tokenizer.fit_on_texts(train_sentences)\n",
        "train_seq=tokenizer.texts_to_sequences(train_sentences)\n",
        "train_pad=pad_sequences(train_seq,maxlen=max_length,padding=padding_style,truncating=trunc_style)\n",
        "test_seq=tokenizer.texts_to_sequences(test_sentences)\n",
        "test_pad=pad_sequences(test_seq,maxlen=max_length,padding=padding_style,truncating=trunc_style)\n"
      ],
      "metadata": {
        "id": "zboOxhd4y9Ga"
      },
      "execution_count": null,
      "outputs": []
    },
    {
      "cell_type": "code",
      "source": [
        "labels[:5]"
      ],
      "metadata": {
        "colab": {
          "base_uri": "https://localhost:8080/"
        },
        "id": "tL_LNhmcsrn4",
        "outputId": "ce47d383-f918-49f6-f7a6-88092eef4fe0"
      },
      "execution_count": null,
      "outputs": [
        {
          "output_type": "execute_result",
          "data": {
            "text/plain": [
              "['tech', 'business', 'sport', 'sport', 'entertainment']"
            ]
          },
          "metadata": {},
          "execution_count": 14
        }
      ]
    },
    {
      "cell_type": "code",
      "source": [
        "train_labels=labels[:training_length]\n",
        "test_labels=labels[training_length:]\n",
        "tokenizer2=Tokenizer()\n",
        "tokenizer2.fit_on_texts(train_labels)\n",
        "train_label_seq=tokenizer2.texts_to_sequences(train_labels)\n",
        "test_label_seq=tokenizer2.texts_to_sequences(test_labels)"
      ],
      "metadata": {
        "id": "MpAl6SvkzCSG"
      },
      "execution_count": null,
      "outputs": []
    },
    {
      "cell_type": "code",
      "source": [
        "type(test_label_seq)"
      ],
      "metadata": {
        "colab": {
          "base_uri": "https://localhost:8080/"
        },
        "id": "2QNFYykukA03",
        "outputId": "c82f2ae3-d14e-4956-e83e-de409340a795"
      },
      "execution_count": null,
      "outputs": [
        {
          "output_type": "execute_result",
          "data": {
            "text/plain": [
              "list"
            ]
          },
          "metadata": {},
          "execution_count": 27
        }
      ]
    },
    {
      "cell_type": "code",
      "source": [
        "from tensorflow.keras.layers import Embedding,Dense,Flatten,GlobalAveragePooling1D,Dropout,LSTM,Bidirectional,Conv1D,MaxPooling1D\n",
        "from tensorflow.keras import Sequential\n",
        "import tensorflow as tf"
      ],
      "metadata": {
        "id": "uAVn_2iGtnIi"
      },
      "execution_count": 3,
      "outputs": []
    },
    {
      "cell_type": "code",
      "source": [
        "class mycallback(tf.keras.callbacks.Callback):\n",
        "  def on_epoch_end(self,epoch,log=None):\n",
        "    if log.get('val_accuracy') is not None and log.get('val_accuracy')>0.935:\n",
        "      print('Stop!')\n",
        "      self.model.stop_training=True"
      ],
      "metadata": {
        "id": "9p2ugfKwEQ5g"
      },
      "execution_count": null,
      "outputs": []
    },
    {
      "cell_type": "code",
      "source": [
        "model=Sequential([\n",
        "      Embedding(vocab_size,embedding_dim,input_length=max_length),\n",
        "      Bidirectional(LSTM(64,return_sequences=True)),\n",
        "      Bidirectional(LSTM(64)),\n",
        "      Dense(128,activation='relu'),\n",
        "      \n",
        "      Dense(6,activation='softmax')\n",
        "])\n",
        "model.compile(loss='sparse_categorical_crossentropy',optimizer='adam',metrics=['accuracy'])"
      ],
      "metadata": {
        "id": "NflW_8Xhyoh7"
      },
      "execution_count": null,
      "outputs": []
    },
    {
      "cell_type": "code",
      "source": [
        "model.fit(train_pad,np.array(train_label_seq),callbacks=[mycallback()],epochs=50,validation_data=(test_pad,np.array(test_label_seq)))"
      ],
      "metadata": {
        "colab": {
          "base_uri": "https://localhost:8080/",
          "height": 1000
        },
        "id": "hsFLMzQ1zlGu",
        "outputId": "a361241b-2643-4e42-9de2-e15d91281c61"
      },
      "execution_count": null,
      "outputs": [
        {
          "output_type": "stream",
          "name": "stdout",
          "text": [
            "Epoch 1/50\n",
            "56/56 [==============================] - 41s 192ms/step - loss: 1.6406 - accuracy: 0.2287 - val_loss: 1.5924 - val_accuracy: 0.2270\n",
            "Epoch 2/50\n",
            "56/56 [==============================] - 10s 171ms/step - loss: 1.2743 - accuracy: 0.4399 - val_loss: 0.7504 - val_accuracy: 0.7011\n",
            "Epoch 3/50\n",
            "56/56 [==============================] - 9s 167ms/step - loss: 0.6034 - accuracy: 0.7287 - val_loss: 0.7251 - val_accuracy: 0.7079\n",
            "Epoch 4/50\n",
            "56/56 [==============================] - 9s 166ms/step - loss: 0.4426 - accuracy: 0.8034 - val_loss: 0.6365 - val_accuracy: 0.7258\n",
            "Epoch 5/50\n",
            "56/56 [==============================] - 9s 167ms/step - loss: 0.2977 - accuracy: 0.8916 - val_loss: 0.5120 - val_accuracy: 0.8202\n",
            "Epoch 6/50\n",
            "56/56 [==============================] - 9s 166ms/step - loss: 0.2051 - accuracy: 0.9360 - val_loss: 0.4569 - val_accuracy: 0.8607\n",
            "Epoch 7/50\n",
            "56/56 [==============================] - 9s 167ms/step - loss: 0.1154 - accuracy: 0.9657 - val_loss: 0.4799 - val_accuracy: 0.8652\n",
            "Epoch 8/50\n",
            "56/56 [==============================] - 9s 167ms/step - loss: 0.0604 - accuracy: 0.9860 - val_loss: 0.3868 - val_accuracy: 0.8944\n",
            "Epoch 9/50\n",
            "56/56 [==============================] - 9s 168ms/step - loss: 0.1741 - accuracy: 0.9584 - val_loss: 0.6853 - val_accuracy: 0.7955\n",
            "Epoch 10/50\n",
            "56/56 [==============================] - 9s 167ms/step - loss: 0.1354 - accuracy: 0.9640 - val_loss: 0.3806 - val_accuracy: 0.8876\n",
            "Epoch 11/50\n",
            "56/56 [==============================] - 9s 169ms/step - loss: 0.0773 - accuracy: 0.9781 - val_loss: 0.7579 - val_accuracy: 0.7596\n",
            "Epoch 12/50\n",
            "56/56 [==============================] - 9s 167ms/step - loss: 0.0974 - accuracy: 0.9713 - val_loss: 0.4360 - val_accuracy: 0.8787\n",
            "Epoch 13/50\n",
            "56/56 [==============================] - 9s 170ms/step - loss: 0.0354 - accuracy: 0.9904 - val_loss: 0.5155 - val_accuracy: 0.8899\n",
            "Epoch 14/50\n",
            "56/56 [==============================] - 10s 171ms/step - loss: 0.0393 - accuracy: 0.9933 - val_loss: 0.4801 - val_accuracy: 0.8876\n",
            "Epoch 15/50\n",
            "56/56 [==============================] - 10s 171ms/step - loss: 0.0251 - accuracy: 0.9949 - val_loss: 0.4580 - val_accuracy: 0.8899\n",
            "Epoch 16/50\n",
            "56/56 [==============================] - 10s 170ms/step - loss: 0.0153 - accuracy: 0.9972 - val_loss: 0.6000 - val_accuracy: 0.8674\n",
            "Epoch 17/50\n",
            "56/56 [==============================] - 9s 169ms/step - loss: 0.0103 - accuracy: 0.9978 - val_loss: 0.6408 - val_accuracy: 0.8742\n",
            "Epoch 18/50\n",
            "56/56 [==============================] - 9s 169ms/step - loss: 0.0288 - accuracy: 0.9927 - val_loss: 0.5919 - val_accuracy: 0.8787\n",
            "Epoch 19/50\n",
            "56/56 [==============================] - 9s 167ms/step - loss: 0.0166 - accuracy: 0.9966 - val_loss: 0.5809 - val_accuracy: 0.8787\n",
            "Epoch 20/50\n",
            "56/56 [==============================] - 9s 166ms/step - loss: 0.0095 - accuracy: 0.9966 - val_loss: 0.8667 - val_accuracy: 0.8180\n",
            "Epoch 21/50\n",
            "43/56 [======================>.......] - ETA: 2s - loss: 0.0422 - accuracy: 0.9840"
          ]
        },
        {
          "output_type": "error",
          "ename": "KeyboardInterrupt",
          "evalue": "ignored",
          "traceback": [
            "\u001b[0;31m---------------------------------------------------------------------------\u001b[0m",
            "\u001b[0;31mKeyboardInterrupt\u001b[0m                         Traceback (most recent call last)",
            "\u001b[0;32m<ipython-input-34-a1eed2bfeccc>\u001b[0m in \u001b[0;36m<module>\u001b[0;34m()\u001b[0m\n\u001b[0;32m----> 1\u001b[0;31m \u001b[0mmodel\u001b[0m\u001b[0;34m.\u001b[0m\u001b[0mfit\u001b[0m\u001b[0;34m(\u001b[0m\u001b[0mtrain_pad\u001b[0m\u001b[0;34m,\u001b[0m\u001b[0mnp\u001b[0m\u001b[0;34m.\u001b[0m\u001b[0marray\u001b[0m\u001b[0;34m(\u001b[0m\u001b[0mtrain_label_seq\u001b[0m\u001b[0;34m)\u001b[0m\u001b[0;34m,\u001b[0m\u001b[0mcallbacks\u001b[0m\u001b[0;34m=\u001b[0m\u001b[0;34m[\u001b[0m\u001b[0mmycallback\u001b[0m\u001b[0;34m(\u001b[0m\u001b[0;34m)\u001b[0m\u001b[0;34m]\u001b[0m\u001b[0;34m,\u001b[0m\u001b[0mepochs\u001b[0m\u001b[0;34m=\u001b[0m\u001b[0;36m50\u001b[0m\u001b[0;34m,\u001b[0m\u001b[0mvalidation_data\u001b[0m\u001b[0;34m=\u001b[0m\u001b[0;34m(\u001b[0m\u001b[0mtest_pad\u001b[0m\u001b[0;34m,\u001b[0m\u001b[0mnp\u001b[0m\u001b[0;34m.\u001b[0m\u001b[0marray\u001b[0m\u001b[0;34m(\u001b[0m\u001b[0mtest_label_seq\u001b[0m\u001b[0;34m)\u001b[0m\u001b[0;34m)\u001b[0m\u001b[0;34m)\u001b[0m\u001b[0;34m\u001b[0m\u001b[0;34m\u001b[0m\u001b[0m\n\u001b[0m",
            "\u001b[0;32m/usr/local/lib/python3.7/dist-packages/keras/utils/traceback_utils.py\u001b[0m in \u001b[0;36merror_handler\u001b[0;34m(*args, **kwargs)\u001b[0m\n\u001b[1;32m     62\u001b[0m     \u001b[0mfiltered_tb\u001b[0m \u001b[0;34m=\u001b[0m \u001b[0;32mNone\u001b[0m\u001b[0;34m\u001b[0m\u001b[0;34m\u001b[0m\u001b[0m\n\u001b[1;32m     63\u001b[0m     \u001b[0;32mtry\u001b[0m\u001b[0;34m:\u001b[0m\u001b[0;34m\u001b[0m\u001b[0;34m\u001b[0m\u001b[0m\n\u001b[0;32m---> 64\u001b[0;31m       \u001b[0;32mreturn\u001b[0m \u001b[0mfn\u001b[0m\u001b[0;34m(\u001b[0m\u001b[0;34m*\u001b[0m\u001b[0margs\u001b[0m\u001b[0;34m,\u001b[0m \u001b[0;34m**\u001b[0m\u001b[0mkwargs\u001b[0m\u001b[0;34m)\u001b[0m\u001b[0;34m\u001b[0m\u001b[0;34m\u001b[0m\u001b[0m\n\u001b[0m\u001b[1;32m     65\u001b[0m     \u001b[0;32mexcept\u001b[0m \u001b[0mException\u001b[0m \u001b[0;32mas\u001b[0m \u001b[0me\u001b[0m\u001b[0;34m:\u001b[0m  \u001b[0;31m# pylint: disable=broad-except\u001b[0m\u001b[0;34m\u001b[0m\u001b[0;34m\u001b[0m\u001b[0m\n\u001b[1;32m     66\u001b[0m       \u001b[0mfiltered_tb\u001b[0m \u001b[0;34m=\u001b[0m \u001b[0m_process_traceback_frames\u001b[0m\u001b[0;34m(\u001b[0m\u001b[0me\u001b[0m\u001b[0;34m.\u001b[0m\u001b[0m__traceback__\u001b[0m\u001b[0;34m)\u001b[0m\u001b[0;34m\u001b[0m\u001b[0;34m\u001b[0m\u001b[0m\n",
            "\u001b[0;32m/usr/local/lib/python3.7/dist-packages/keras/engine/training.py\u001b[0m in \u001b[0;36mfit\u001b[0;34m(self, x, y, batch_size, epochs, verbose, callbacks, validation_split, validation_data, shuffle, class_weight, sample_weight, initial_epoch, steps_per_epoch, validation_steps, validation_batch_size, validation_freq, max_queue_size, workers, use_multiprocessing)\u001b[0m\n\u001b[1;32m   1382\u001b[0m                 _r=1):\n\u001b[1;32m   1383\u001b[0m               \u001b[0mcallbacks\u001b[0m\u001b[0;34m.\u001b[0m\u001b[0mon_train_batch_begin\u001b[0m\u001b[0;34m(\u001b[0m\u001b[0mstep\u001b[0m\u001b[0;34m)\u001b[0m\u001b[0;34m\u001b[0m\u001b[0;34m\u001b[0m\u001b[0m\n\u001b[0;32m-> 1384\u001b[0;31m               \u001b[0mtmp_logs\u001b[0m \u001b[0;34m=\u001b[0m \u001b[0mself\u001b[0m\u001b[0;34m.\u001b[0m\u001b[0mtrain_function\u001b[0m\u001b[0;34m(\u001b[0m\u001b[0miterator\u001b[0m\u001b[0;34m)\u001b[0m\u001b[0;34m\u001b[0m\u001b[0;34m\u001b[0m\u001b[0m\n\u001b[0m\u001b[1;32m   1385\u001b[0m               \u001b[0;32mif\u001b[0m \u001b[0mdata_handler\u001b[0m\u001b[0;34m.\u001b[0m\u001b[0mshould_sync\u001b[0m\u001b[0;34m:\u001b[0m\u001b[0;34m\u001b[0m\u001b[0;34m\u001b[0m\u001b[0m\n\u001b[1;32m   1386\u001b[0m                 \u001b[0mcontext\u001b[0m\u001b[0;34m.\u001b[0m\u001b[0masync_wait\u001b[0m\u001b[0;34m(\u001b[0m\u001b[0;34m)\u001b[0m\u001b[0;34m\u001b[0m\u001b[0;34m\u001b[0m\u001b[0m\n",
            "\u001b[0;32m/usr/local/lib/python3.7/dist-packages/tensorflow/python/util/traceback_utils.py\u001b[0m in \u001b[0;36merror_handler\u001b[0;34m(*args, **kwargs)\u001b[0m\n\u001b[1;32m    148\u001b[0m     \u001b[0mfiltered_tb\u001b[0m \u001b[0;34m=\u001b[0m \u001b[0;32mNone\u001b[0m\u001b[0;34m\u001b[0m\u001b[0;34m\u001b[0m\u001b[0m\n\u001b[1;32m    149\u001b[0m     \u001b[0;32mtry\u001b[0m\u001b[0;34m:\u001b[0m\u001b[0;34m\u001b[0m\u001b[0;34m\u001b[0m\u001b[0m\n\u001b[0;32m--> 150\u001b[0;31m       \u001b[0;32mreturn\u001b[0m \u001b[0mfn\u001b[0m\u001b[0;34m(\u001b[0m\u001b[0;34m*\u001b[0m\u001b[0margs\u001b[0m\u001b[0;34m,\u001b[0m \u001b[0;34m**\u001b[0m\u001b[0mkwargs\u001b[0m\u001b[0;34m)\u001b[0m\u001b[0;34m\u001b[0m\u001b[0;34m\u001b[0m\u001b[0m\n\u001b[0m\u001b[1;32m    151\u001b[0m     \u001b[0;32mexcept\u001b[0m \u001b[0mException\u001b[0m \u001b[0;32mas\u001b[0m \u001b[0me\u001b[0m\u001b[0;34m:\u001b[0m\u001b[0;34m\u001b[0m\u001b[0;34m\u001b[0m\u001b[0m\n\u001b[1;32m    152\u001b[0m       \u001b[0mfiltered_tb\u001b[0m \u001b[0;34m=\u001b[0m \u001b[0m_process_traceback_frames\u001b[0m\u001b[0;34m(\u001b[0m\u001b[0me\u001b[0m\u001b[0;34m.\u001b[0m\u001b[0m__traceback__\u001b[0m\u001b[0;34m)\u001b[0m\u001b[0;34m\u001b[0m\u001b[0;34m\u001b[0m\u001b[0m\n",
            "\u001b[0;32m/usr/local/lib/python3.7/dist-packages/tensorflow/python/eager/def_function.py\u001b[0m in \u001b[0;36m__call__\u001b[0;34m(self, *args, **kwds)\u001b[0m\n\u001b[1;32m    913\u001b[0m \u001b[0;34m\u001b[0m\u001b[0m\n\u001b[1;32m    914\u001b[0m       \u001b[0;32mwith\u001b[0m \u001b[0mOptionalXlaContext\u001b[0m\u001b[0;34m(\u001b[0m\u001b[0mself\u001b[0m\u001b[0;34m.\u001b[0m\u001b[0m_jit_compile\u001b[0m\u001b[0;34m)\u001b[0m\u001b[0;34m:\u001b[0m\u001b[0;34m\u001b[0m\u001b[0;34m\u001b[0m\u001b[0m\n\u001b[0;32m--> 915\u001b[0;31m         \u001b[0mresult\u001b[0m \u001b[0;34m=\u001b[0m \u001b[0mself\u001b[0m\u001b[0;34m.\u001b[0m\u001b[0m_call\u001b[0m\u001b[0;34m(\u001b[0m\u001b[0;34m*\u001b[0m\u001b[0margs\u001b[0m\u001b[0;34m,\u001b[0m \u001b[0;34m**\u001b[0m\u001b[0mkwds\u001b[0m\u001b[0;34m)\u001b[0m\u001b[0;34m\u001b[0m\u001b[0;34m\u001b[0m\u001b[0m\n\u001b[0m\u001b[1;32m    916\u001b[0m \u001b[0;34m\u001b[0m\u001b[0m\n\u001b[1;32m    917\u001b[0m       \u001b[0mnew_tracing_count\u001b[0m \u001b[0;34m=\u001b[0m \u001b[0mself\u001b[0m\u001b[0;34m.\u001b[0m\u001b[0mexperimental_get_tracing_count\u001b[0m\u001b[0;34m(\u001b[0m\u001b[0;34m)\u001b[0m\u001b[0;34m\u001b[0m\u001b[0;34m\u001b[0m\u001b[0m\n",
            "\u001b[0;32m/usr/local/lib/python3.7/dist-packages/tensorflow/python/eager/def_function.py\u001b[0m in \u001b[0;36m_call\u001b[0;34m(self, *args, **kwds)\u001b[0m\n\u001b[1;32m    945\u001b[0m       \u001b[0;31m# In this case we have created variables on the first call, so we run the\u001b[0m\u001b[0;34m\u001b[0m\u001b[0;34m\u001b[0m\u001b[0;34m\u001b[0m\u001b[0m\n\u001b[1;32m    946\u001b[0m       \u001b[0;31m# defunned version which is guaranteed to never create variables.\u001b[0m\u001b[0;34m\u001b[0m\u001b[0;34m\u001b[0m\u001b[0;34m\u001b[0m\u001b[0m\n\u001b[0;32m--> 947\u001b[0;31m       \u001b[0;32mreturn\u001b[0m \u001b[0mself\u001b[0m\u001b[0;34m.\u001b[0m\u001b[0m_stateless_fn\u001b[0m\u001b[0;34m(\u001b[0m\u001b[0;34m*\u001b[0m\u001b[0margs\u001b[0m\u001b[0;34m,\u001b[0m \u001b[0;34m**\u001b[0m\u001b[0mkwds\u001b[0m\u001b[0;34m)\u001b[0m  \u001b[0;31m# pylint: disable=not-callable\u001b[0m\u001b[0;34m\u001b[0m\u001b[0;34m\u001b[0m\u001b[0m\n\u001b[0m\u001b[1;32m    948\u001b[0m     \u001b[0;32melif\u001b[0m \u001b[0mself\u001b[0m\u001b[0;34m.\u001b[0m\u001b[0m_stateful_fn\u001b[0m \u001b[0;32mis\u001b[0m \u001b[0;32mnot\u001b[0m \u001b[0;32mNone\u001b[0m\u001b[0;34m:\u001b[0m\u001b[0;34m\u001b[0m\u001b[0;34m\u001b[0m\u001b[0m\n\u001b[1;32m    949\u001b[0m       \u001b[0;31m# Release the lock early so that multiple threads can perform the call\u001b[0m\u001b[0;34m\u001b[0m\u001b[0;34m\u001b[0m\u001b[0;34m\u001b[0m\u001b[0m\n",
            "\u001b[0;32m/usr/local/lib/python3.7/dist-packages/tensorflow/python/eager/function.py\u001b[0m in \u001b[0;36m__call__\u001b[0;34m(self, *args, **kwargs)\u001b[0m\n\u001b[1;32m   2955\u001b[0m        filtered_flat_args) = self._maybe_define_function(args, kwargs)\n\u001b[1;32m   2956\u001b[0m     return graph_function._call_flat(\n\u001b[0;32m-> 2957\u001b[0;31m         filtered_flat_args, captured_inputs=graph_function.captured_inputs)  # pylint: disable=protected-access\n\u001b[0m\u001b[1;32m   2958\u001b[0m \u001b[0;34m\u001b[0m\u001b[0m\n\u001b[1;32m   2959\u001b[0m   \u001b[0;34m@\u001b[0m\u001b[0mproperty\u001b[0m\u001b[0;34m\u001b[0m\u001b[0;34m\u001b[0m\u001b[0m\n",
            "\u001b[0;32m/usr/local/lib/python3.7/dist-packages/tensorflow/python/eager/function.py\u001b[0m in \u001b[0;36m_call_flat\u001b[0;34m(self, args, captured_inputs, cancellation_manager)\u001b[0m\n\u001b[1;32m   1852\u001b[0m       \u001b[0;31m# No tape is watching; skip to running the function.\u001b[0m\u001b[0;34m\u001b[0m\u001b[0;34m\u001b[0m\u001b[0;34m\u001b[0m\u001b[0m\n\u001b[1;32m   1853\u001b[0m       return self._build_call_outputs(self._inference_function.call(\n\u001b[0;32m-> 1854\u001b[0;31m           ctx, args, cancellation_manager=cancellation_manager))\n\u001b[0m\u001b[1;32m   1855\u001b[0m     forward_backward = self._select_forward_and_backward_functions(\n\u001b[1;32m   1856\u001b[0m         \u001b[0margs\u001b[0m\u001b[0;34m,\u001b[0m\u001b[0;34m\u001b[0m\u001b[0;34m\u001b[0m\u001b[0m\n",
            "\u001b[0;32m/usr/local/lib/python3.7/dist-packages/tensorflow/python/eager/function.py\u001b[0m in \u001b[0;36mcall\u001b[0;34m(self, ctx, args, cancellation_manager)\u001b[0m\n\u001b[1;32m    502\u001b[0m               \u001b[0minputs\u001b[0m\u001b[0;34m=\u001b[0m\u001b[0margs\u001b[0m\u001b[0;34m,\u001b[0m\u001b[0;34m\u001b[0m\u001b[0;34m\u001b[0m\u001b[0m\n\u001b[1;32m    503\u001b[0m               \u001b[0mattrs\u001b[0m\u001b[0;34m=\u001b[0m\u001b[0mattrs\u001b[0m\u001b[0;34m,\u001b[0m\u001b[0;34m\u001b[0m\u001b[0;34m\u001b[0m\u001b[0m\n\u001b[0;32m--> 504\u001b[0;31m               ctx=ctx)\n\u001b[0m\u001b[1;32m    505\u001b[0m         \u001b[0;32melse\u001b[0m\u001b[0;34m:\u001b[0m\u001b[0;34m\u001b[0m\u001b[0;34m\u001b[0m\u001b[0m\n\u001b[1;32m    506\u001b[0m           outputs = execute.execute_with_cancellation(\n",
            "\u001b[0;32m/usr/local/lib/python3.7/dist-packages/tensorflow/python/eager/execute.py\u001b[0m in \u001b[0;36mquick_execute\u001b[0;34m(op_name, num_outputs, inputs, attrs, ctx, name)\u001b[0m\n\u001b[1;32m     53\u001b[0m     \u001b[0mctx\u001b[0m\u001b[0;34m.\u001b[0m\u001b[0mensure_initialized\u001b[0m\u001b[0;34m(\u001b[0m\u001b[0;34m)\u001b[0m\u001b[0;34m\u001b[0m\u001b[0;34m\u001b[0m\u001b[0m\n\u001b[1;32m     54\u001b[0m     tensors = pywrap_tfe.TFE_Py_Execute(ctx._handle, device_name, op_name,\n\u001b[0;32m---> 55\u001b[0;31m                                         inputs, attrs, num_outputs)\n\u001b[0m\u001b[1;32m     56\u001b[0m   \u001b[0;32mexcept\u001b[0m \u001b[0mcore\u001b[0m\u001b[0;34m.\u001b[0m\u001b[0m_NotOkStatusException\u001b[0m \u001b[0;32mas\u001b[0m \u001b[0me\u001b[0m\u001b[0;34m:\u001b[0m\u001b[0;34m\u001b[0m\u001b[0;34m\u001b[0m\u001b[0m\n\u001b[1;32m     57\u001b[0m     \u001b[0;32mif\u001b[0m \u001b[0mname\u001b[0m \u001b[0;32mis\u001b[0m \u001b[0;32mnot\u001b[0m \u001b[0;32mNone\u001b[0m\u001b[0;34m:\u001b[0m\u001b[0;34m\u001b[0m\u001b[0;34m\u001b[0m\u001b[0m\n",
            "\u001b[0;31mKeyboardInterrupt\u001b[0m: "
          ]
        }
      ]
    },
    {
      "cell_type": "code",
      "source": [
        "!gdown --id 1wd8KaeCSHxt-nEpMeuHFSNWrDp8joUXJ"
      ],
      "metadata": {
        "colab": {
          "base_uri": "https://localhost:8080/"
        },
        "id": "H4bqfI3t0I4u",
        "outputId": "0c7b0d6c-ccaf-480f-c12e-fcaf6a08403c"
      },
      "execution_count": 1,
      "outputs": [
        {
          "output_type": "stream",
          "name": "stdout",
          "text": [
            "/usr/local/lib/python3.7/dist-packages/gdown/cli.py:131: FutureWarning: Option `--id` was deprecated in version 4.3.1 and will be removed in 5.0. You don't need to pass it anymore to use a file ID.\n",
            "  category=FutureWarning,\n",
            "Downloading...\n",
            "From: https://drive.google.com/uc?id=1wd8KaeCSHxt-nEpMeuHFSNWrDp8joUXJ\n",
            "To: /content/training_cleaned.csv\n",
            "100% 239M/239M [00:02<00:00, 106MB/s]\n"
          ]
        }
      ]
    },
    {
      "cell_type": "code",
      "source": [
        "import csv\n",
        "import random"
      ],
      "metadata": {
        "id": "vMXQTY8R-0VG"
      },
      "execution_count": 2,
      "outputs": []
    },
    {
      "cell_type": "code",
      "source": [
        "with open('/content/training_cleaned.csv','r') as file:\n",
        "  lines=csv.reader(file,delimiter=',')\n",
        "  sentence=[]\n",
        "  label=[]\n",
        "  coupus=[]\n",
        "  for lin in lines:\n",
        "    coups=[]\n",
        "    coups.append(lin[5])\n",
        "    if lin[0]=='0':\n",
        "      coups.append(0)\n",
        "    else:\n",
        "      coups.append(1)\n",
        "    coupus.append(coups)\n",
        "\n",
        "\n"
      ],
      "metadata": {
        "id": "8rPcCi1BLr24"
      },
      "execution_count": 3,
      "outputs": []
    },
    {
      "cell_type": "code",
      "source": [
        "coupus[:2]"
      ],
      "metadata": {
        "colab": {
          "base_uri": "https://localhost:8080/"
        },
        "id": "LhGB0EBi1mMK",
        "outputId": "725a4fd8-9d26-49ef-e354-c6cee67c7cb4"
      },
      "execution_count": null,
      "outputs": [
        {
          "output_type": "execute_result",
          "data": {
            "text/plain": [
              "[[\"@switchfoot http://twitpic.com/2y1zl - Awww, that's a bummer.  You shoulda got David Carr of Third Day to do it. ;D\",\n",
              "  0],\n",
              " [\"is upset that he can't update his Facebook by texting it... and might cry as a result  School today also. Blah!\",\n",
              "  0]]"
            ]
          },
          "metadata": {},
          "execution_count": 43
        }
      ]
    },
    {
      "cell_type": "code",
      "source": [
        "random.shuffle(coupus)\n",
        "coupus[:2]"
      ],
      "metadata": {
        "colab": {
          "base_uri": "https://localhost:8080/"
        },
        "id": "TVsMtTi9_19J",
        "outputId": "5888f4b0-9ac6-4d04-f46d-0e4acb071f67"
      },
      "execution_count": 4,
      "outputs": [
        {
          "output_type": "execute_result",
          "data": {
            "text/plain": [
              "[['the party i was invited to was the one i enjoyed more  thank you charlotte',\n",
              "  1],\n",
              " [\"@SugarSync support: I'm still waiting for a Manager or Supervisor to contact me for 2500 missing files  #fail\",\n",
              "  0]]"
            ]
          },
          "metadata": {},
          "execution_count": 4
        }
      ]
    },
    {
      "cell_type": "code",
      "source": [
        ""
      ],
      "metadata": {
        "id": "9ZSv1X-bA99k"
      },
      "execution_count": null,
      "outputs": []
    },
    {
      "cell_type": "code",
      "source": [
        "train_size=160000"
      ],
      "metadata": {
        "id": "rT0wRrIuACyh"
      },
      "execution_count": 5,
      "outputs": []
    },
    {
      "cell_type": "code",
      "source": [
        "for i in range(train_size):\n",
        "  sentence.append(coupus[i][0])\n",
        "  label.append(coupus[i][1])\n"
      ],
      "metadata": {
        "id": "1gUqmW0tAwCa"
      },
      "execution_count": 6,
      "outputs": []
    },
    {
      "cell_type": "code",
      "source": [
        "test_portion=0.1\n",
        "test_size=int(len(sentence)*test_portion)\n"
      ],
      "metadata": {
        "id": "dPBRGYIKsfRc"
      },
      "execution_count": 7,
      "outputs": []
    },
    {
      "cell_type": "code",
      "source": [
        "#vocab_size=1000\n",
        "embedding_dim=100\n",
        "trunc_style='post'\n",
        "padding_style='post'\n",
        "max_length=32"
      ],
      "metadata": {
        "id": "cXYhNZzDThXe"
      },
      "execution_count": 8,
      "outputs": []
    },
    {
      "cell_type": "code",
      "source": [
        "tokenizer3=Tokenizer(oov_token='OOV')\n",
        "tokenizer3.fit_on_texts(sentence)\n",
        "seqs=tokenizer3.texts_to_sequences(sentence)\n",
        "pads=pad_sequences(seqs,truncating=trunc_style,padding=padding_style,maxlen=max_length)\n",
        "test_pads=pads[:test_size]\n",
        "train_pads=pads[test_size:]\n",
        "test_label=label[:test_size]\n",
        "train_label=label[test_size:]"
      ],
      "metadata": {
        "id": "MYM_a5zgtSts"
      },
      "execution_count": 13,
      "outputs": []
    },
    {
      "cell_type": "code",
      "source": [
        "vocab_size=len(tokenizer3.word_index)\n",
        "vocab_size"
      ],
      "metadata": {
        "colab": {
          "base_uri": "https://localhost:8080/"
        },
        "id": "rInEOnM2KI4w",
        "outputId": "d2f2db88-a552-456f-ad9d-fa1b1bd5e690"
      },
      "execution_count": 14,
      "outputs": [
        {
          "output_type": "execute_result",
          "data": {
            "text/plain": [
              "139125"
            ]
          },
          "metadata": {},
          "execution_count": 14
        }
      ]
    },
    {
      "cell_type": "code",
      "source": [
        "!gdown --id 1W5vZy2etitAblLdFn8_DxnsQKzfFJ98g"
      ],
      "metadata": {
        "colab": {
          "base_uri": "https://localhost:8080/"
        },
        "id": "ajiAT1ijCxEB",
        "outputId": "f1bc761b-1c8b-4d2c-eaf6-6e71be5316e1"
      },
      "execution_count": 15,
      "outputs": [
        {
          "output_type": "stream",
          "name": "stdout",
          "text": [
            "/usr/local/lib/python3.7/dist-packages/gdown/cli.py:131: FutureWarning: Option `--id` was deprecated in version 4.3.1 and will be removed in 5.0. You don't need to pass it anymore to use a file ID.\n",
            "  category=FutureWarning,\n",
            "Downloading...\n",
            "From: https://drive.google.com/uc?id=1W5vZy2etitAblLdFn8_DxnsQKzfFJ98g\n",
            "To: /content/glove.6B.100d.txt\n",
            "100% 347M/347M [00:02<00:00, 116MB/s]\n"
          ]
        }
      ]
    },
    {
      "cell_type": "code",
      "source": [
        "with open('/content/glove.6B.100d.txt','r') as file:\n",
        "  embedding_mat={}\n",
        "  for line in file:\n",
        "    lines=line.split()\n",
        "    word=lines[0]\n",
        "    row=lines[1:]\n",
        "    value=np.array(row,dtype='float32')\n",
        "    embedding_mat[word]=value\n",
        "embedding_matrix=np.zeros((vocab_size+1,embedding_dim))\n",
        "for key,value in tokenizer3.word_index.items():\n",
        "  vector=embedding_mat.get(key)\n",
        "  if vector is not None:\n",
        "    embedding_matrix[value]=vector\n",
        "\n"
      ],
      "metadata": {
        "id": "Y_ky95WKDGLE"
      },
      "execution_count": 17,
      "outputs": []
    },
    {
      "cell_type": "code",
      "source": [
        "embedding_matrix[-3:-1,:5]"
      ],
      "metadata": {
        "colab": {
          "base_uri": "https://localhost:8080/"
        },
        "id": "lsOGaaC8ZM59",
        "outputId": "da5a96ae-b435-4c1c-9cd1-a94f2f546529"
      },
      "execution_count": null,
      "outputs": [
        {
          "output_type": "execute_result",
          "data": {
            "text/plain": [
              "array([[ 0.00000000e+00,  0.00000000e+00,  0.00000000e+00,\n",
              "         0.00000000e+00,  0.00000000e+00],\n",
              "       [-7.34300017e-01, -4.61780012e-01,  8.82899985e-02,\n",
              "         4.48109990e-04, -4.98950005e-01]])"
            ]
          },
          "metadata": {},
          "execution_count": 40
        }
      ]
    },
    {
      "cell_type": "code",
      "source": [
        "model=Sequential([\n",
        "      Embedding(vocab_size+1,embedding_dim,input_length=max_length,weights=[embedding_matrix],trainable=False),\n",
        "      Dropout(0.1),      \n",
        "      Conv1D(64,5,activation='relu'),\n",
        "      MaxPooling1D(pool_size=2),\n",
        "      LSTM(64),\n",
        "      Dense(64,activation='relu'),\n",
        "      Dense(1,activation='sigmoid')\n",
        "\n",
        "])\n",
        "model.compile(loss='binary_crossentropy',optimizer='adam',metrics=['accuracy'])"
      ],
      "metadata": {
        "id": "Qfw7FmUeZM9b",
        "colab": {
          "base_uri": "https://localhost:8080/",
          "height": 253
        },
        "outputId": "6b327c80-7edf-4c56-94a4-bbfb26ed8c80"
      },
      "execution_count": 1,
      "outputs": [
        {
          "output_type": "error",
          "ename": "NameError",
          "evalue": "ignored",
          "traceback": [
            "\u001b[0;31m---------------------------------------------------------------------------\u001b[0m",
            "\u001b[0;31mNameError\u001b[0m                                 Traceback (most recent call last)",
            "\u001b[0;32m<ipython-input-1-f91d0a1cb0ed>\u001b[0m in \u001b[0;36m<module>\u001b[0;34m()\u001b[0m\n\u001b[0;32m----> 1\u001b[0;31m model=Sequential([\n\u001b[0m\u001b[1;32m      2\u001b[0m       \u001b[0mEmbedding\u001b[0m\u001b[0;34m(\u001b[0m\u001b[0mvocab_size\u001b[0m\u001b[0;34m+\u001b[0m\u001b[0;36m1\u001b[0m\u001b[0;34m,\u001b[0m\u001b[0membedding_dim\u001b[0m\u001b[0;34m,\u001b[0m\u001b[0minput_length\u001b[0m\u001b[0;34m=\u001b[0m\u001b[0mmax_length\u001b[0m\u001b[0;34m,\u001b[0m\u001b[0mweights\u001b[0m\u001b[0;34m=\u001b[0m\u001b[0;34m[\u001b[0m\u001b[0membedding_matrix\u001b[0m\u001b[0;34m]\u001b[0m\u001b[0;34m,\u001b[0m\u001b[0mtrainable\u001b[0m\u001b[0;34m=\u001b[0m\u001b[0;32mFalse\u001b[0m\u001b[0;34m)\u001b[0m\u001b[0;34m,\u001b[0m\u001b[0;34m\u001b[0m\u001b[0;34m\u001b[0m\u001b[0m\n\u001b[1;32m      3\u001b[0m       \u001b[0mDropout\u001b[0m\u001b[0;34m(\u001b[0m\u001b[0;36m0.1\u001b[0m\u001b[0;34m)\u001b[0m\u001b[0;34m,\u001b[0m\u001b[0;34m\u001b[0m\u001b[0;34m\u001b[0m\u001b[0m\n\u001b[1;32m      4\u001b[0m       \u001b[0mConv1D\u001b[0m\u001b[0;34m(\u001b[0m\u001b[0;36m64\u001b[0m\u001b[0;34m,\u001b[0m\u001b[0;36m5\u001b[0m\u001b[0;34m,\u001b[0m\u001b[0mactivation\u001b[0m\u001b[0;34m=\u001b[0m\u001b[0;34m'relu'\u001b[0m\u001b[0;34m)\u001b[0m\u001b[0;34m,\u001b[0m\u001b[0;34m\u001b[0m\u001b[0;34m\u001b[0m\u001b[0m\n\u001b[1;32m      5\u001b[0m       \u001b[0mMaxPooling1D\u001b[0m\u001b[0;34m(\u001b[0m\u001b[0mpool_size\u001b[0m\u001b[0;34m=\u001b[0m\u001b[0;36m2\u001b[0m\u001b[0;34m)\u001b[0m\u001b[0;34m,\u001b[0m\u001b[0;34m\u001b[0m\u001b[0;34m\u001b[0m\u001b[0m\n",
            "\u001b[0;31mNameError\u001b[0m: name 'Sequential' is not defined"
          ]
        }
      ]
    },
    {
      "cell_type": "code",
      "source": [
        "hist=model.fit(train_pads,np.array(train_label),epochs=25,validation_data=(test_pads,np.array(test_label)))"
      ],
      "metadata": {
        "colab": {
          "base_uri": "https://localhost:8080/",
          "height": 626
        },
        "id": "ecyK5PB8oIxQ",
        "outputId": "18d0ee69-a70a-426f-b7de-516a1d592a38"
      },
      "execution_count": null,
      "outputs": [
        {
          "output_type": "stream",
          "name": "stdout",
          "text": [
            "Epoch 1/25\n",
            "4500/4500 [==============================] - 45s 7ms/step - loss: 0.5295 - accuracy: 0.7306 - val_loss: 0.5055 - val_accuracy: 0.7565\n",
            "Epoch 2/25\n",
            "4500/4500 [==============================] - 33s 7ms/step - loss: 0.4728 - accuracy: 0.7732 - val_loss: 0.4889 - val_accuracy: 0.7571\n",
            "Epoch 3/25\n",
            "4500/4500 [==============================] - 33s 7ms/step - loss: 0.4466 - accuracy: 0.7900 - val_loss: 0.4737 - val_accuracy: 0.7708\n",
            "Epoch 4/25\n",
            "4500/4500 [==============================] - 33s 7ms/step - loss: 0.4280 - accuracy: 0.8012 - val_loss: 0.4736 - val_accuracy: 0.7706\n",
            "Epoch 5/25\n",
            "4500/4500 [==============================] - 32s 7ms/step - loss: 0.4117 - accuracy: 0.8109 - val_loss: 0.4811 - val_accuracy: 0.7703\n",
            "Epoch 6/25\n",
            "4500/4500 [==============================] - 33s 7ms/step - loss: 0.3944 - accuracy: 0.8215 - val_loss: 0.4978 - val_accuracy: 0.7679\n",
            "Epoch 7/25\n",
            "4500/4500 [==============================] - 32s 7ms/step - loss: 0.3802 - accuracy: 0.8286 - val_loss: 0.5160 - val_accuracy: 0.7657\n",
            "Epoch 8/25\n",
            "1348/4500 [=======>......................] - ETA: 21s - loss: 0.3518 - accuracy: 0.8444"
          ]
        },
        {
          "output_type": "error",
          "ename": "KeyboardInterrupt",
          "evalue": "ignored",
          "traceback": [
            "\u001b[0;31m---------------------------------------------------------------------------\u001b[0m",
            "\u001b[0;31mKeyboardInterrupt\u001b[0m                         Traceback (most recent call last)",
            "\u001b[0;32m<ipython-input-20-f800607b86a1>\u001b[0m in \u001b[0;36m<module>\u001b[0;34m()\u001b[0m\n\u001b[0;32m----> 1\u001b[0;31m \u001b[0mhist\u001b[0m\u001b[0;34m=\u001b[0m\u001b[0mmodel\u001b[0m\u001b[0;34m.\u001b[0m\u001b[0mfit\u001b[0m\u001b[0;34m(\u001b[0m\u001b[0mtrain_pads\u001b[0m\u001b[0;34m,\u001b[0m\u001b[0mnp\u001b[0m\u001b[0;34m.\u001b[0m\u001b[0marray\u001b[0m\u001b[0;34m(\u001b[0m\u001b[0mtrain_label\u001b[0m\u001b[0;34m)\u001b[0m\u001b[0;34m,\u001b[0m\u001b[0mepochs\u001b[0m\u001b[0;34m=\u001b[0m\u001b[0;36m25\u001b[0m\u001b[0;34m,\u001b[0m\u001b[0mvalidation_data\u001b[0m\u001b[0;34m=\u001b[0m\u001b[0;34m(\u001b[0m\u001b[0mtest_pads\u001b[0m\u001b[0;34m,\u001b[0m\u001b[0mnp\u001b[0m\u001b[0;34m.\u001b[0m\u001b[0marray\u001b[0m\u001b[0;34m(\u001b[0m\u001b[0mtest_label\u001b[0m\u001b[0;34m)\u001b[0m\u001b[0;34m)\u001b[0m\u001b[0;34m)\u001b[0m\u001b[0;34m\u001b[0m\u001b[0;34m\u001b[0m\u001b[0m\n\u001b[0m",
            "\u001b[0;32m/usr/local/lib/python3.7/dist-packages/keras/utils/traceback_utils.py\u001b[0m in \u001b[0;36merror_handler\u001b[0;34m(*args, **kwargs)\u001b[0m\n\u001b[1;32m     62\u001b[0m     \u001b[0mfiltered_tb\u001b[0m \u001b[0;34m=\u001b[0m \u001b[0;32mNone\u001b[0m\u001b[0;34m\u001b[0m\u001b[0;34m\u001b[0m\u001b[0m\n\u001b[1;32m     63\u001b[0m     \u001b[0;32mtry\u001b[0m\u001b[0;34m:\u001b[0m\u001b[0;34m\u001b[0m\u001b[0;34m\u001b[0m\u001b[0m\n\u001b[0;32m---> 64\u001b[0;31m       \u001b[0;32mreturn\u001b[0m \u001b[0mfn\u001b[0m\u001b[0;34m(\u001b[0m\u001b[0;34m*\u001b[0m\u001b[0margs\u001b[0m\u001b[0;34m,\u001b[0m \u001b[0;34m**\u001b[0m\u001b[0mkwargs\u001b[0m\u001b[0;34m)\u001b[0m\u001b[0;34m\u001b[0m\u001b[0;34m\u001b[0m\u001b[0m\n\u001b[0m\u001b[1;32m     65\u001b[0m     \u001b[0;32mexcept\u001b[0m \u001b[0mException\u001b[0m \u001b[0;32mas\u001b[0m \u001b[0me\u001b[0m\u001b[0;34m:\u001b[0m  \u001b[0;31m# pylint: disable=broad-except\u001b[0m\u001b[0;34m\u001b[0m\u001b[0;34m\u001b[0m\u001b[0m\n\u001b[1;32m     66\u001b[0m       \u001b[0mfiltered_tb\u001b[0m \u001b[0;34m=\u001b[0m \u001b[0m_process_traceback_frames\u001b[0m\u001b[0;34m(\u001b[0m\u001b[0me\u001b[0m\u001b[0;34m.\u001b[0m\u001b[0m__traceback__\u001b[0m\u001b[0;34m)\u001b[0m\u001b[0;34m\u001b[0m\u001b[0;34m\u001b[0m\u001b[0m\n",
            "\u001b[0;32m/usr/local/lib/python3.7/dist-packages/keras/engine/training.py\u001b[0m in \u001b[0;36mfit\u001b[0;34m(self, x, y, batch_size, epochs, verbose, callbacks, validation_split, validation_data, shuffle, class_weight, sample_weight, initial_epoch, steps_per_epoch, validation_steps, validation_batch_size, validation_freq, max_queue_size, workers, use_multiprocessing)\u001b[0m\n\u001b[1;32m   1387\u001b[0m               \u001b[0mlogs\u001b[0m \u001b[0;34m=\u001b[0m \u001b[0mtmp_logs\u001b[0m  \u001b[0;31m# No error, now safe to assign to logs.\u001b[0m\u001b[0;34m\u001b[0m\u001b[0;34m\u001b[0m\u001b[0m\n\u001b[1;32m   1388\u001b[0m               \u001b[0mend_step\u001b[0m \u001b[0;34m=\u001b[0m \u001b[0mstep\u001b[0m \u001b[0;34m+\u001b[0m \u001b[0mdata_handler\u001b[0m\u001b[0;34m.\u001b[0m\u001b[0mstep_increment\u001b[0m\u001b[0;34m\u001b[0m\u001b[0;34m\u001b[0m\u001b[0m\n\u001b[0;32m-> 1389\u001b[0;31m               \u001b[0mcallbacks\u001b[0m\u001b[0;34m.\u001b[0m\u001b[0mon_train_batch_end\u001b[0m\u001b[0;34m(\u001b[0m\u001b[0mend_step\u001b[0m\u001b[0;34m,\u001b[0m \u001b[0mlogs\u001b[0m\u001b[0;34m)\u001b[0m\u001b[0;34m\u001b[0m\u001b[0;34m\u001b[0m\u001b[0m\n\u001b[0m\u001b[1;32m   1390\u001b[0m               \u001b[0;32mif\u001b[0m \u001b[0mself\u001b[0m\u001b[0;34m.\u001b[0m\u001b[0mstop_training\u001b[0m\u001b[0;34m:\u001b[0m\u001b[0;34m\u001b[0m\u001b[0;34m\u001b[0m\u001b[0m\n\u001b[1;32m   1391\u001b[0m                 \u001b[0;32mbreak\u001b[0m\u001b[0;34m\u001b[0m\u001b[0;34m\u001b[0m\u001b[0m\n",
            "\u001b[0;32m/usr/local/lib/python3.7/dist-packages/keras/callbacks.py\u001b[0m in \u001b[0;36mon_train_batch_end\u001b[0;34m(self, batch, logs)\u001b[0m\n\u001b[1;32m    436\u001b[0m     \"\"\"\n\u001b[1;32m    437\u001b[0m     \u001b[0;32mif\u001b[0m \u001b[0mself\u001b[0m\u001b[0;34m.\u001b[0m\u001b[0m_should_call_train_batch_hooks\u001b[0m\u001b[0;34m:\u001b[0m\u001b[0;34m\u001b[0m\u001b[0;34m\u001b[0m\u001b[0m\n\u001b[0;32m--> 438\u001b[0;31m       \u001b[0mself\u001b[0m\u001b[0;34m.\u001b[0m\u001b[0m_call_batch_hook\u001b[0m\u001b[0;34m(\u001b[0m\u001b[0mModeKeys\u001b[0m\u001b[0;34m.\u001b[0m\u001b[0mTRAIN\u001b[0m\u001b[0;34m,\u001b[0m \u001b[0;34m'end'\u001b[0m\u001b[0;34m,\u001b[0m \u001b[0mbatch\u001b[0m\u001b[0;34m,\u001b[0m \u001b[0mlogs\u001b[0m\u001b[0;34m=\u001b[0m\u001b[0mlogs\u001b[0m\u001b[0;34m)\u001b[0m\u001b[0;34m\u001b[0m\u001b[0;34m\u001b[0m\u001b[0m\n\u001b[0m\u001b[1;32m    439\u001b[0m \u001b[0;34m\u001b[0m\u001b[0m\n\u001b[1;32m    440\u001b[0m   \u001b[0;32mdef\u001b[0m \u001b[0mon_test_batch_begin\u001b[0m\u001b[0;34m(\u001b[0m\u001b[0mself\u001b[0m\u001b[0;34m,\u001b[0m \u001b[0mbatch\u001b[0m\u001b[0;34m,\u001b[0m \u001b[0mlogs\u001b[0m\u001b[0;34m=\u001b[0m\u001b[0;32mNone\u001b[0m\u001b[0;34m)\u001b[0m\u001b[0;34m:\u001b[0m\u001b[0;34m\u001b[0m\u001b[0;34m\u001b[0m\u001b[0m\n",
            "\u001b[0;32m/usr/local/lib/python3.7/dist-packages/keras/callbacks.py\u001b[0m in \u001b[0;36m_call_batch_hook\u001b[0;34m(self, mode, hook, batch, logs)\u001b[0m\n\u001b[1;32m    295\u001b[0m       \u001b[0mself\u001b[0m\u001b[0;34m.\u001b[0m\u001b[0m_call_batch_begin_hook\u001b[0m\u001b[0;34m(\u001b[0m\u001b[0mmode\u001b[0m\u001b[0;34m,\u001b[0m \u001b[0mbatch\u001b[0m\u001b[0;34m,\u001b[0m \u001b[0mlogs\u001b[0m\u001b[0;34m)\u001b[0m\u001b[0;34m\u001b[0m\u001b[0;34m\u001b[0m\u001b[0m\n\u001b[1;32m    296\u001b[0m     \u001b[0;32melif\u001b[0m \u001b[0mhook\u001b[0m \u001b[0;34m==\u001b[0m \u001b[0;34m'end'\u001b[0m\u001b[0;34m:\u001b[0m\u001b[0;34m\u001b[0m\u001b[0;34m\u001b[0m\u001b[0m\n\u001b[0;32m--> 297\u001b[0;31m       \u001b[0mself\u001b[0m\u001b[0;34m.\u001b[0m\u001b[0m_call_batch_end_hook\u001b[0m\u001b[0;34m(\u001b[0m\u001b[0mmode\u001b[0m\u001b[0;34m,\u001b[0m \u001b[0mbatch\u001b[0m\u001b[0;34m,\u001b[0m \u001b[0mlogs\u001b[0m\u001b[0;34m)\u001b[0m\u001b[0;34m\u001b[0m\u001b[0;34m\u001b[0m\u001b[0m\n\u001b[0m\u001b[1;32m    298\u001b[0m     \u001b[0;32melse\u001b[0m\u001b[0;34m:\u001b[0m\u001b[0;34m\u001b[0m\u001b[0;34m\u001b[0m\u001b[0m\n\u001b[1;32m    299\u001b[0m       raise ValueError(\n",
            "\u001b[0;32m/usr/local/lib/python3.7/dist-packages/keras/callbacks.py\u001b[0m in \u001b[0;36m_call_batch_end_hook\u001b[0;34m(self, mode, batch, logs)\u001b[0m\n\u001b[1;32m    316\u001b[0m       \u001b[0mself\u001b[0m\u001b[0;34m.\u001b[0m\u001b[0m_batch_times\u001b[0m\u001b[0;34m.\u001b[0m\u001b[0mappend\u001b[0m\u001b[0;34m(\u001b[0m\u001b[0mbatch_time\u001b[0m\u001b[0;34m)\u001b[0m\u001b[0;34m\u001b[0m\u001b[0;34m\u001b[0m\u001b[0m\n\u001b[1;32m    317\u001b[0m \u001b[0;34m\u001b[0m\u001b[0m\n\u001b[0;32m--> 318\u001b[0;31m     \u001b[0mself\u001b[0m\u001b[0;34m.\u001b[0m\u001b[0m_call_batch_hook_helper\u001b[0m\u001b[0;34m(\u001b[0m\u001b[0mhook_name\u001b[0m\u001b[0;34m,\u001b[0m \u001b[0mbatch\u001b[0m\u001b[0;34m,\u001b[0m \u001b[0mlogs\u001b[0m\u001b[0;34m)\u001b[0m\u001b[0;34m\u001b[0m\u001b[0;34m\u001b[0m\u001b[0m\n\u001b[0m\u001b[1;32m    319\u001b[0m \u001b[0;34m\u001b[0m\u001b[0m\n\u001b[1;32m    320\u001b[0m     \u001b[0;32mif\u001b[0m \u001b[0mlen\u001b[0m\u001b[0;34m(\u001b[0m\u001b[0mself\u001b[0m\u001b[0;34m.\u001b[0m\u001b[0m_batch_times\u001b[0m\u001b[0;34m)\u001b[0m \u001b[0;34m>=\u001b[0m \u001b[0mself\u001b[0m\u001b[0;34m.\u001b[0m\u001b[0m_num_batches_for_timing_check\u001b[0m\u001b[0;34m:\u001b[0m\u001b[0;34m\u001b[0m\u001b[0;34m\u001b[0m\u001b[0m\n",
            "\u001b[0;32m/usr/local/lib/python3.7/dist-packages/keras/callbacks.py\u001b[0m in \u001b[0;36m_call_batch_hook_helper\u001b[0;34m(self, hook_name, batch, logs)\u001b[0m\n\u001b[1;32m    354\u001b[0m     \u001b[0;32mfor\u001b[0m \u001b[0mcallback\u001b[0m \u001b[0;32min\u001b[0m \u001b[0mself\u001b[0m\u001b[0;34m.\u001b[0m\u001b[0mcallbacks\u001b[0m\u001b[0;34m:\u001b[0m\u001b[0;34m\u001b[0m\u001b[0;34m\u001b[0m\u001b[0m\n\u001b[1;32m    355\u001b[0m       \u001b[0mhook\u001b[0m \u001b[0;34m=\u001b[0m \u001b[0mgetattr\u001b[0m\u001b[0;34m(\u001b[0m\u001b[0mcallback\u001b[0m\u001b[0;34m,\u001b[0m \u001b[0mhook_name\u001b[0m\u001b[0;34m)\u001b[0m\u001b[0;34m\u001b[0m\u001b[0;34m\u001b[0m\u001b[0m\n\u001b[0;32m--> 356\u001b[0;31m       \u001b[0mhook\u001b[0m\u001b[0;34m(\u001b[0m\u001b[0mbatch\u001b[0m\u001b[0;34m,\u001b[0m \u001b[0mlogs\u001b[0m\u001b[0;34m)\u001b[0m\u001b[0;34m\u001b[0m\u001b[0;34m\u001b[0m\u001b[0m\n\u001b[0m\u001b[1;32m    357\u001b[0m \u001b[0;34m\u001b[0m\u001b[0m\n\u001b[1;32m    358\u001b[0m     \u001b[0;32mif\u001b[0m \u001b[0mself\u001b[0m\u001b[0;34m.\u001b[0m\u001b[0m_check_timing\u001b[0m\u001b[0;34m:\u001b[0m\u001b[0;34m\u001b[0m\u001b[0;34m\u001b[0m\u001b[0m\n",
            "\u001b[0;32m/usr/local/lib/python3.7/dist-packages/keras/callbacks.py\u001b[0m in \u001b[0;36mon_train_batch_end\u001b[0;34m(self, batch, logs)\u001b[0m\n\u001b[1;32m   1032\u001b[0m \u001b[0;34m\u001b[0m\u001b[0m\n\u001b[1;32m   1033\u001b[0m   \u001b[0;32mdef\u001b[0m \u001b[0mon_train_batch_end\u001b[0m\u001b[0;34m(\u001b[0m\u001b[0mself\u001b[0m\u001b[0;34m,\u001b[0m \u001b[0mbatch\u001b[0m\u001b[0;34m,\u001b[0m \u001b[0mlogs\u001b[0m\u001b[0;34m=\u001b[0m\u001b[0;32mNone\u001b[0m\u001b[0;34m)\u001b[0m\u001b[0;34m:\u001b[0m\u001b[0;34m\u001b[0m\u001b[0;34m\u001b[0m\u001b[0m\n\u001b[0;32m-> 1034\u001b[0;31m     \u001b[0mself\u001b[0m\u001b[0;34m.\u001b[0m\u001b[0m_batch_update_progbar\u001b[0m\u001b[0;34m(\u001b[0m\u001b[0mbatch\u001b[0m\u001b[0;34m,\u001b[0m \u001b[0mlogs\u001b[0m\u001b[0;34m)\u001b[0m\u001b[0;34m\u001b[0m\u001b[0;34m\u001b[0m\u001b[0m\n\u001b[0m\u001b[1;32m   1035\u001b[0m \u001b[0;34m\u001b[0m\u001b[0m\n\u001b[1;32m   1036\u001b[0m   \u001b[0;32mdef\u001b[0m \u001b[0mon_test_batch_end\u001b[0m\u001b[0;34m(\u001b[0m\u001b[0mself\u001b[0m\u001b[0;34m,\u001b[0m \u001b[0mbatch\u001b[0m\u001b[0;34m,\u001b[0m \u001b[0mlogs\u001b[0m\u001b[0;34m=\u001b[0m\u001b[0;32mNone\u001b[0m\u001b[0;34m)\u001b[0m\u001b[0;34m:\u001b[0m\u001b[0;34m\u001b[0m\u001b[0;34m\u001b[0m\u001b[0m\n",
            "\u001b[0;32m/usr/local/lib/python3.7/dist-packages/keras/callbacks.py\u001b[0m in \u001b[0;36m_batch_update_progbar\u001b[0;34m(self, batch, logs)\u001b[0m\n\u001b[1;32m   1105\u001b[0m       \u001b[0;31m# Only block async when verbose = 1.\u001b[0m\u001b[0;34m\u001b[0m\u001b[0;34m\u001b[0m\u001b[0;34m\u001b[0m\u001b[0m\n\u001b[1;32m   1106\u001b[0m       \u001b[0mlogs\u001b[0m \u001b[0;34m=\u001b[0m \u001b[0mtf_utils\u001b[0m\u001b[0;34m.\u001b[0m\u001b[0msync_to_numpy_or_python_type\u001b[0m\u001b[0;34m(\u001b[0m\u001b[0mlogs\u001b[0m\u001b[0;34m)\u001b[0m\u001b[0;34m\u001b[0m\u001b[0;34m\u001b[0m\u001b[0m\n\u001b[0;32m-> 1107\u001b[0;31m       \u001b[0mself\u001b[0m\u001b[0;34m.\u001b[0m\u001b[0mprogbar\u001b[0m\u001b[0;34m.\u001b[0m\u001b[0mupdate\u001b[0m\u001b[0;34m(\u001b[0m\u001b[0mself\u001b[0m\u001b[0;34m.\u001b[0m\u001b[0mseen\u001b[0m\u001b[0;34m,\u001b[0m \u001b[0mlist\u001b[0m\u001b[0;34m(\u001b[0m\u001b[0mlogs\u001b[0m\u001b[0;34m.\u001b[0m\u001b[0mitems\u001b[0m\u001b[0;34m(\u001b[0m\u001b[0;34m)\u001b[0m\u001b[0;34m)\u001b[0m\u001b[0;34m,\u001b[0m \u001b[0mfinalize\u001b[0m\u001b[0;34m=\u001b[0m\u001b[0;32mFalse\u001b[0m\u001b[0;34m)\u001b[0m\u001b[0;34m\u001b[0m\u001b[0;34m\u001b[0m\u001b[0m\n\u001b[0m\u001b[1;32m   1108\u001b[0m \u001b[0;34m\u001b[0m\u001b[0m\n\u001b[1;32m   1109\u001b[0m   \u001b[0;32mdef\u001b[0m \u001b[0m_finalize_progbar\u001b[0m\u001b[0;34m(\u001b[0m\u001b[0mself\u001b[0m\u001b[0;34m,\u001b[0m \u001b[0mlogs\u001b[0m\u001b[0;34m,\u001b[0m \u001b[0mcounter\u001b[0m\u001b[0;34m)\u001b[0m\u001b[0;34m:\u001b[0m\u001b[0;34m\u001b[0m\u001b[0;34m\u001b[0m\u001b[0m\n",
            "\u001b[0;32m/usr/local/lib/python3.7/dist-packages/keras/utils/generic_utils.py\u001b[0m in \u001b[0;36mupdate\u001b[0;34m(self, current, values, finalize)\u001b[0m\n\u001b[1;32m    974\u001b[0m \u001b[0;34m\u001b[0m\u001b[0m\n\u001b[1;32m    975\u001b[0m       \u001b[0mmessage\u001b[0m \u001b[0;34m+=\u001b[0m \u001b[0minfo\u001b[0m\u001b[0;34m\u001b[0m\u001b[0;34m\u001b[0m\u001b[0m\n\u001b[0;32m--> 976\u001b[0;31m       \u001b[0mio_utils\u001b[0m\u001b[0;34m.\u001b[0m\u001b[0mprint_msg\u001b[0m\u001b[0;34m(\u001b[0m\u001b[0mmessage\u001b[0m\u001b[0;34m,\u001b[0m \u001b[0mline_break\u001b[0m\u001b[0;34m=\u001b[0m\u001b[0;32mFalse\u001b[0m\u001b[0;34m)\u001b[0m\u001b[0;34m\u001b[0m\u001b[0;34m\u001b[0m\u001b[0m\n\u001b[0m\u001b[1;32m    977\u001b[0m       \u001b[0mmessage\u001b[0m \u001b[0;34m=\u001b[0m \u001b[0;34m''\u001b[0m\u001b[0;34m\u001b[0m\u001b[0;34m\u001b[0m\u001b[0m\n\u001b[1;32m    978\u001b[0m \u001b[0;34m\u001b[0m\u001b[0m\n",
            "\u001b[0;32m/usr/local/lib/python3.7/dist-packages/keras/utils/io_utils.py\u001b[0m in \u001b[0;36mprint_msg\u001b[0;34m(message, line_break)\u001b[0m\n\u001b[1;32m     36\u001b[0m     \u001b[0;32melse\u001b[0m\u001b[0;34m:\u001b[0m\u001b[0;34m\u001b[0m\u001b[0;34m\u001b[0m\u001b[0m\n\u001b[1;32m     37\u001b[0m       \u001b[0msys\u001b[0m\u001b[0;34m.\u001b[0m\u001b[0mstdout\u001b[0m\u001b[0;34m.\u001b[0m\u001b[0mwrite\u001b[0m\u001b[0;34m(\u001b[0m\u001b[0mmessage\u001b[0m\u001b[0;34m)\u001b[0m\u001b[0;34m\u001b[0m\u001b[0;34m\u001b[0m\u001b[0m\n\u001b[0;32m---> 38\u001b[0;31m     \u001b[0msys\u001b[0m\u001b[0;34m.\u001b[0m\u001b[0mstdout\u001b[0m\u001b[0;34m.\u001b[0m\u001b[0mflush\u001b[0m\u001b[0;34m(\u001b[0m\u001b[0;34m)\u001b[0m\u001b[0;34m\u001b[0m\u001b[0;34m\u001b[0m\u001b[0m\n\u001b[0m\u001b[1;32m     39\u001b[0m \u001b[0;34m\u001b[0m\u001b[0m\n\u001b[1;32m     40\u001b[0m \u001b[0;34m\u001b[0m\u001b[0m\n",
            "\u001b[0;32m/usr/local/lib/python3.7/dist-packages/ipykernel/iostream.py\u001b[0m in \u001b[0;36mflush\u001b[0;34m(self)\u001b[0m\n\u001b[1;32m    347\u001b[0m                 \u001b[0mself\u001b[0m\u001b[0;34m.\u001b[0m\u001b[0mpub_thread\u001b[0m\u001b[0;34m.\u001b[0m\u001b[0mschedule\u001b[0m\u001b[0;34m(\u001b[0m\u001b[0mevt\u001b[0m\u001b[0;34m.\u001b[0m\u001b[0mset\u001b[0m\u001b[0;34m)\u001b[0m\u001b[0;34m\u001b[0m\u001b[0;34m\u001b[0m\u001b[0m\n\u001b[1;32m    348\u001b[0m                 \u001b[0;31m# and give a timeout to avoid\u001b[0m\u001b[0;34m\u001b[0m\u001b[0;34m\u001b[0m\u001b[0;34m\u001b[0m\u001b[0m\n\u001b[0;32m--> 349\u001b[0;31m                 \u001b[0;32mif\u001b[0m \u001b[0;32mnot\u001b[0m \u001b[0mevt\u001b[0m\u001b[0;34m.\u001b[0m\u001b[0mwait\u001b[0m\u001b[0;34m(\u001b[0m\u001b[0mself\u001b[0m\u001b[0;34m.\u001b[0m\u001b[0mflush_timeout\u001b[0m\u001b[0;34m)\u001b[0m\u001b[0;34m:\u001b[0m\u001b[0;34m\u001b[0m\u001b[0;34m\u001b[0m\u001b[0m\n\u001b[0m\u001b[1;32m    350\u001b[0m                     \u001b[0;31m# write directly to __stderr__ instead of warning because\u001b[0m\u001b[0;34m\u001b[0m\u001b[0;34m\u001b[0m\u001b[0;34m\u001b[0m\u001b[0m\n\u001b[1;32m    351\u001b[0m                     \u001b[0;31m# if this is happening sys.stderr may be the problem.\u001b[0m\u001b[0;34m\u001b[0m\u001b[0;34m\u001b[0m\u001b[0;34m\u001b[0m\u001b[0m\n",
            "\u001b[0;32m/usr/lib/python3.7/threading.py\u001b[0m in \u001b[0;36mwait\u001b[0;34m(self, timeout)\u001b[0m\n\u001b[1;32m    550\u001b[0m             \u001b[0msignaled\u001b[0m \u001b[0;34m=\u001b[0m \u001b[0mself\u001b[0m\u001b[0;34m.\u001b[0m\u001b[0m_flag\u001b[0m\u001b[0;34m\u001b[0m\u001b[0;34m\u001b[0m\u001b[0m\n\u001b[1;32m    551\u001b[0m             \u001b[0;32mif\u001b[0m \u001b[0;32mnot\u001b[0m \u001b[0msignaled\u001b[0m\u001b[0;34m:\u001b[0m\u001b[0;34m\u001b[0m\u001b[0;34m\u001b[0m\u001b[0m\n\u001b[0;32m--> 552\u001b[0;31m                 \u001b[0msignaled\u001b[0m \u001b[0;34m=\u001b[0m \u001b[0mself\u001b[0m\u001b[0;34m.\u001b[0m\u001b[0m_cond\u001b[0m\u001b[0;34m.\u001b[0m\u001b[0mwait\u001b[0m\u001b[0;34m(\u001b[0m\u001b[0mtimeout\u001b[0m\u001b[0;34m)\u001b[0m\u001b[0;34m\u001b[0m\u001b[0;34m\u001b[0m\u001b[0m\n\u001b[0m\u001b[1;32m    553\u001b[0m             \u001b[0;32mreturn\u001b[0m \u001b[0msignaled\u001b[0m\u001b[0;34m\u001b[0m\u001b[0;34m\u001b[0m\u001b[0m\n\u001b[1;32m    554\u001b[0m \u001b[0;34m\u001b[0m\u001b[0m\n",
            "\u001b[0;32m/usr/lib/python3.7/threading.py\u001b[0m in \u001b[0;36mwait\u001b[0;34m(self, timeout)\u001b[0m\n\u001b[1;32m    298\u001b[0m             \u001b[0;32melse\u001b[0m\u001b[0;34m:\u001b[0m\u001b[0;34m\u001b[0m\u001b[0;34m\u001b[0m\u001b[0m\n\u001b[1;32m    299\u001b[0m                 \u001b[0;32mif\u001b[0m \u001b[0mtimeout\u001b[0m \u001b[0;34m>\u001b[0m \u001b[0;36m0\u001b[0m\u001b[0;34m:\u001b[0m\u001b[0;34m\u001b[0m\u001b[0;34m\u001b[0m\u001b[0m\n\u001b[0;32m--> 300\u001b[0;31m                     \u001b[0mgotit\u001b[0m \u001b[0;34m=\u001b[0m \u001b[0mwaiter\u001b[0m\u001b[0;34m.\u001b[0m\u001b[0macquire\u001b[0m\u001b[0;34m(\u001b[0m\u001b[0;32mTrue\u001b[0m\u001b[0;34m,\u001b[0m \u001b[0mtimeout\u001b[0m\u001b[0;34m)\u001b[0m\u001b[0;34m\u001b[0m\u001b[0;34m\u001b[0m\u001b[0m\n\u001b[0m\u001b[1;32m    301\u001b[0m                 \u001b[0;32melse\u001b[0m\u001b[0;34m:\u001b[0m\u001b[0;34m\u001b[0m\u001b[0;34m\u001b[0m\u001b[0m\n\u001b[1;32m    302\u001b[0m                     \u001b[0mgotit\u001b[0m \u001b[0;34m=\u001b[0m \u001b[0mwaiter\u001b[0m\u001b[0;34m.\u001b[0m\u001b[0macquire\u001b[0m\u001b[0;34m(\u001b[0m\u001b[0;32mFalse\u001b[0m\u001b[0;34m)\u001b[0m\u001b[0;34m\u001b[0m\u001b[0;34m\u001b[0m\u001b[0m\n",
            "\u001b[0;31mKeyboardInterrupt\u001b[0m: "
          ]
        }
      ]
    },
    {
      "cell_type": "code",
      "source": [
        "!gdown --id 108jAePKK4R3BVYBbYJZ32JWUwxeMg20K\n"
      ],
      "metadata": {
        "colab": {
          "base_uri": "https://localhost:8080/"
        },
        "id": "UuruG14eoi0Z",
        "outputId": "0fd54afa-4ff8-42b3-a4bb-c4c45b3e9c6f"
      },
      "execution_count": 1,
      "outputs": [
        {
          "output_type": "stream",
          "name": "stdout",
          "text": [
            "/usr/local/lib/python3.7/dist-packages/gdown/cli.py:131: FutureWarning: Option `--id` was deprecated in version 4.3.1 and will be removed in 5.0. You don't need to pass it anymore to use a file ID.\n",
            "  category=FutureWarning,\n",
            "Downloading...\n",
            "From: https://drive.google.com/uc?id=108jAePKK4R3BVYBbYJZ32JWUwxeMg20K\n",
            "To: /content/sonnets.txt\n",
            "100% 93.6k/93.6k [00:00<00:00, 82.8MB/s]\n"
          ]
        }
      ]
    },
    {
      "cell_type": "code",
      "source": [
        "data=open('/content/sonnets.txt','r').read() \n",
        "corpus=data.lower().split('\\n')\n"
      ],
      "metadata": {
        "id": "g3C4hXWj1q1y"
      },
      "execution_count": 2,
      "outputs": []
    },
    {
      "cell_type": "code",
      "source": [
        ""
      ],
      "metadata": {
        "colab": {
          "base_uri": "https://localhost:8080/"
        },
        "id": "x7J6KV-j3qcL",
        "outputId": "d120c90d-6586-469d-8356-01a06ff81b9f"
      },
      "execution_count": 5,
      "outputs": [
        {
          "output_type": "execute_result",
          "data": {
            "text/plain": [
              "['from fairest creatures we desire increase,',\n",
              " \"that thereby beauty's rose might never die,\"]"
            ]
          },
          "metadata": {},
          "execution_count": 5
        }
      ]
    },
    {
      "cell_type": "code",
      "source": [
        "tokenizer=Tokenizer()\n",
        "tokenizer.fit_on_texts(corpus)"
      ],
      "metadata": {
        "id": "QMROS03i3ya0"
      },
      "execution_count": 5,
      "outputs": []
    },
    {
      "cell_type": "code",
      "source": [
        "np.unique(labels)"
      ],
      "metadata": {
        "colab": {
          "base_uri": "https://localhost:8080/"
        },
        "id": "5XsWt1sEJTwl",
        "outputId": "09c4f5da-240e-4b26-f75b-fc14ef78653b"
      },
      "execution_count": 26,
      "outputs": [
        {
          "output_type": "execute_result",
          "data": {
            "text/plain": [
              "array([   1,    2,    3, ..., 3208, 3209, 3210], dtype=int32)"
            ]
          },
          "metadata": {},
          "execution_count": 26
        }
      ]
    },
    {
      "cell_type": "code",
      "source": [
        "word_seq=[]\n",
        "for seten in corpus:\n",
        "  seq=tokenizer.texts_to_sequences([seten])[0]\n",
        "  for i in range(1,len(seq)):\n",
        "    word_seq.append(seq[:i+1])\n",
        "max_length=max([len(seq) for seq in word_seq])\n",
        "pad_seq=pad_sequences(word_seq,maxlen=max_length,truncating='pre',padding='pre')\n",
        "padds,labels=pad_seq[:,:-1],pad_seq[:,-1]\n",
        "\n",
        "\n"
      ],
      "metadata": {
        "id": "KSinEF_v8NNp"
      },
      "execution_count": 6,
      "outputs": []
    },
    {
      "cell_type": "code",
      "source": [
        "model=Sequential()\n",
        "model.add(Embedding(len(tokenizer.word_index)+1,32,input_length=max_length-1))\n",
        "model.add(LSTM(64,return_sequences=True))\n",
        "model.add(Dropout(0.5))\n",
        "model.add(LSTM(64))\n",
        "model.add(Dense(128,activation='relu'))\n",
        "model.add(Dense(3211,activation='softmax'))\n",
        "model.compile(loss='sparse_categorical_crossentropy',optimizer='adam',metrics=['accuracy'])"
      ],
      "metadata": {
        "id": "RBlINhE6-oVC"
      },
      "execution_count": 7,
      "outputs": []
    },
    {
      "cell_type": "code",
      "source": [
        "hist=model.fit(padds,labels,epochs=500)"
      ],
      "metadata": {
        "colab": {
          "base_uri": "https://localhost:8080/"
        },
        "id": "rjgXQ66u-p7d",
        "outputId": "93390456-200d-4844-9e6a-27c3bb2ca126"
      },
      "execution_count": 8,
      "outputs": [
        {
          "output_type": "stream",
          "name": "stdout",
          "text": [
            "Epoch 1/500\n",
            "484/484 [==============================] - 11s 7ms/step - loss: 6.9096 - accuracy: 0.0223\n",
            "Epoch 2/500\n",
            "484/484 [==============================] - 3s 7ms/step - loss: 6.5294 - accuracy: 0.0237\n",
            "Epoch 3/500\n",
            "484/484 [==============================] - 3s 7ms/step - loss: 6.4460 - accuracy: 0.0244\n",
            "Epoch 4/500\n",
            "484/484 [==============================] - 3s 7ms/step - loss: 6.3357 - accuracy: 0.0327\n",
            "Epoch 5/500\n",
            "484/484 [==============================] - 3s 7ms/step - loss: 6.1849 - accuracy: 0.0356\n",
            "Epoch 6/500\n",
            "484/484 [==============================] - 3s 7ms/step - loss: 6.0380 - accuracy: 0.0373\n",
            "Epoch 7/500\n",
            "484/484 [==============================] - 3s 7ms/step - loss: 5.9036 - accuracy: 0.0414\n",
            "Epoch 8/500\n",
            "484/484 [==============================] - 3s 7ms/step - loss: 5.7789 - accuracy: 0.0425\n",
            "Epoch 9/500\n",
            "484/484 [==============================] - 3s 7ms/step - loss: 5.6623 - accuracy: 0.0459\n",
            "Epoch 10/500\n",
            "484/484 [==============================] - 3s 6ms/step - loss: 5.5479 - accuracy: 0.0481\n",
            "Epoch 11/500\n",
            "484/484 [==============================] - 3s 7ms/step - loss: 5.4413 - accuracy: 0.0514\n",
            "Epoch 12/500\n",
            "484/484 [==============================] - 3s 7ms/step - loss: 5.3362 - accuracy: 0.0541\n",
            "Epoch 13/500\n",
            "484/484 [==============================] - 3s 6ms/step - loss: 5.2321 - accuracy: 0.0581\n",
            "Epoch 14/500\n",
            "484/484 [==============================] - 3s 7ms/step - loss: 5.1244 - accuracy: 0.0605\n",
            "Epoch 15/500\n",
            "484/484 [==============================] - 3s 7ms/step - loss: 5.0176 - accuracy: 0.0651\n",
            "Epoch 16/500\n",
            "484/484 [==============================] - 3s 7ms/step - loss: 4.9094 - accuracy: 0.0702\n",
            "Epoch 17/500\n",
            "484/484 [==============================] - 3s 6ms/step - loss: 4.7937 - accuracy: 0.0740\n",
            "Epoch 18/500\n",
            "484/484 [==============================] - 3s 7ms/step - loss: 4.6795 - accuracy: 0.0819\n",
            "Epoch 19/500\n",
            "484/484 [==============================] - 3s 7ms/step - loss: 4.5612 - accuracy: 0.0894\n",
            "Epoch 20/500\n",
            "484/484 [==============================] - 3s 6ms/step - loss: 4.4532 - accuracy: 0.0973\n",
            "Epoch 21/500\n",
            "484/484 [==============================] - 3s 6ms/step - loss: 4.3464 - accuracy: 0.1059\n",
            "Epoch 22/500\n",
            "484/484 [==============================] - 3s 7ms/step - loss: 4.2418 - accuracy: 0.1193\n",
            "Epoch 23/500\n",
            "484/484 [==============================] - 3s 7ms/step - loss: 4.1522 - accuracy: 0.1283\n",
            "Epoch 24/500\n",
            "484/484 [==============================] - 3s 7ms/step - loss: 4.0489 - accuracy: 0.1404\n",
            "Epoch 25/500\n",
            "484/484 [==============================] - 3s 7ms/step - loss: 3.9657 - accuracy: 0.1504\n",
            "Epoch 26/500\n",
            "484/484 [==============================] - 3s 7ms/step - loss: 3.8783 - accuracy: 0.1610\n",
            "Epoch 27/500\n",
            "484/484 [==============================] - 3s 7ms/step - loss: 3.7949 - accuracy: 0.1757\n",
            "Epoch 28/500\n",
            "484/484 [==============================] - 3s 7ms/step - loss: 3.7204 - accuracy: 0.1850\n",
            "Epoch 29/500\n",
            "484/484 [==============================] - 3s 7ms/step - loss: 3.6438 - accuracy: 0.1973\n",
            "Epoch 30/500\n",
            "484/484 [==============================] - 3s 7ms/step - loss: 3.5796 - accuracy: 0.2046\n",
            "Epoch 31/500\n",
            "484/484 [==============================] - 3s 6ms/step - loss: 3.5089 - accuracy: 0.2221\n",
            "Epoch 32/500\n",
            "484/484 [==============================] - 3s 6ms/step - loss: 3.4472 - accuracy: 0.2262\n",
            "Epoch 33/500\n",
            "484/484 [==============================] - 3s 6ms/step - loss: 3.3873 - accuracy: 0.2359\n",
            "Epoch 34/500\n",
            "484/484 [==============================] - 3s 7ms/step - loss: 3.3294 - accuracy: 0.2442\n",
            "Epoch 35/500\n",
            "484/484 [==============================] - 3s 6ms/step - loss: 3.2786 - accuracy: 0.2541\n",
            "Epoch 36/500\n",
            "484/484 [==============================] - 3s 7ms/step - loss: 3.2274 - accuracy: 0.2643\n",
            "Epoch 37/500\n",
            "484/484 [==============================] - 3s 7ms/step - loss: 3.1719 - accuracy: 0.2720\n",
            "Epoch 38/500\n",
            "484/484 [==============================] - 3s 7ms/step - loss: 3.1217 - accuracy: 0.2836\n",
            "Epoch 39/500\n",
            "484/484 [==============================] - 3s 6ms/step - loss: 3.0803 - accuracy: 0.2892\n",
            "Epoch 40/500\n",
            "484/484 [==============================] - 3s 7ms/step - loss: 3.0319 - accuracy: 0.2998\n",
            "Epoch 41/500\n",
            "484/484 [==============================] - 3s 7ms/step - loss: 2.9893 - accuracy: 0.3040\n",
            "Epoch 42/500\n",
            "484/484 [==============================] - 3s 7ms/step - loss: 2.9597 - accuracy: 0.3099\n",
            "Epoch 43/500\n",
            "484/484 [==============================] - 3s 7ms/step - loss: 2.9048 - accuracy: 0.3234\n",
            "Epoch 44/500\n",
            "484/484 [==============================] - 3s 7ms/step - loss: 2.8708 - accuracy: 0.3270\n",
            "Epoch 45/500\n",
            "484/484 [==============================] - 3s 7ms/step - loss: 2.8304 - accuracy: 0.3361\n",
            "Epoch 46/500\n",
            "484/484 [==============================] - 3s 7ms/step - loss: 2.8042 - accuracy: 0.3428\n",
            "Epoch 47/500\n",
            "484/484 [==============================] - 3s 7ms/step - loss: 2.7762 - accuracy: 0.3473\n",
            "Epoch 48/500\n",
            "484/484 [==============================] - 3s 7ms/step - loss: 2.7223 - accuracy: 0.3566\n",
            "Epoch 49/500\n",
            "484/484 [==============================] - 3s 7ms/step - loss: 2.6978 - accuracy: 0.3629\n",
            "Epoch 50/500\n",
            "484/484 [==============================] - 3s 7ms/step - loss: 2.6643 - accuracy: 0.3666\n",
            "Epoch 51/500\n",
            "484/484 [==============================] - 3s 7ms/step - loss: 2.6368 - accuracy: 0.3731\n",
            "Epoch 52/500\n",
            "484/484 [==============================] - 3s 7ms/step - loss: 2.6020 - accuracy: 0.3777\n",
            "Epoch 53/500\n",
            "484/484 [==============================] - 3s 7ms/step - loss: 2.5818 - accuracy: 0.3860\n",
            "Epoch 54/500\n",
            "484/484 [==============================] - 3s 7ms/step - loss: 2.5565 - accuracy: 0.3895\n",
            "Epoch 55/500\n",
            "484/484 [==============================] - 3s 7ms/step - loss: 2.5355 - accuracy: 0.3895\n",
            "Epoch 56/500\n",
            "484/484 [==============================] - 3s 7ms/step - loss: 2.5081 - accuracy: 0.3982\n",
            "Epoch 57/500\n",
            "484/484 [==============================] - 3s 7ms/step - loss: 2.4802 - accuracy: 0.4016\n",
            "Epoch 58/500\n",
            "484/484 [==============================] - 3s 7ms/step - loss: 2.4432 - accuracy: 0.4095\n",
            "Epoch 59/500\n",
            "484/484 [==============================] - 3s 7ms/step - loss: 2.4284 - accuracy: 0.4129\n",
            "Epoch 60/500\n",
            "484/484 [==============================] - 3s 7ms/step - loss: 2.4071 - accuracy: 0.4151\n",
            "Epoch 61/500\n",
            "484/484 [==============================] - 3s 7ms/step - loss: 2.3750 - accuracy: 0.4225\n",
            "Epoch 62/500\n",
            "484/484 [==============================] - 3s 7ms/step - loss: 2.3463 - accuracy: 0.4305\n",
            "Epoch 63/500\n",
            "484/484 [==============================] - 3s 7ms/step - loss: 2.3299 - accuracy: 0.4324\n",
            "Epoch 64/500\n",
            "484/484 [==============================] - 3s 7ms/step - loss: 2.3131 - accuracy: 0.4353\n",
            "Epoch 65/500\n",
            "484/484 [==============================] - 3s 7ms/step - loss: 2.2969 - accuracy: 0.4396\n",
            "Epoch 66/500\n",
            "484/484 [==============================] - 3s 7ms/step - loss: 2.2691 - accuracy: 0.4417\n",
            "Epoch 67/500\n",
            "484/484 [==============================] - 3s 7ms/step - loss: 2.2524 - accuracy: 0.4511\n",
            "Epoch 68/500\n",
            "484/484 [==============================] - 3s 7ms/step - loss: 2.2227 - accuracy: 0.4533\n",
            "Epoch 69/500\n",
            "484/484 [==============================] - 3s 7ms/step - loss: 2.2118 - accuracy: 0.4576\n",
            "Epoch 70/500\n",
            "484/484 [==============================] - 3s 7ms/step - loss: 2.2003 - accuracy: 0.4562\n",
            "Epoch 71/500\n",
            "484/484 [==============================] - 3s 7ms/step - loss: 2.1697 - accuracy: 0.4681\n",
            "Epoch 72/500\n",
            "484/484 [==============================] - 3s 7ms/step - loss: 2.1582 - accuracy: 0.4692\n",
            "Epoch 73/500\n",
            "484/484 [==============================] - 3s 7ms/step - loss: 2.1495 - accuracy: 0.4697\n",
            "Epoch 74/500\n",
            "484/484 [==============================] - 3s 7ms/step - loss: 2.1236 - accuracy: 0.4789\n",
            "Epoch 75/500\n",
            "484/484 [==============================] - 3s 7ms/step - loss: 2.1022 - accuracy: 0.4768\n",
            "Epoch 76/500\n",
            "484/484 [==============================] - 3s 7ms/step - loss: 2.0984 - accuracy: 0.4809\n",
            "Epoch 77/500\n",
            "484/484 [==============================] - 3s 7ms/step - loss: 2.0750 - accuracy: 0.4897\n",
            "Epoch 78/500\n",
            "484/484 [==============================] - 3s 7ms/step - loss: 2.0511 - accuracy: 0.4933\n",
            "Epoch 79/500\n",
            "484/484 [==============================] - 3s 7ms/step - loss: 2.0427 - accuracy: 0.4942\n",
            "Epoch 80/500\n",
            "484/484 [==============================] - 3s 7ms/step - loss: 2.0262 - accuracy: 0.4970\n",
            "Epoch 81/500\n",
            "484/484 [==============================] - 3s 7ms/step - loss: 2.0162 - accuracy: 0.4981\n",
            "Epoch 82/500\n",
            "484/484 [==============================] - 3s 7ms/step - loss: 2.0014 - accuracy: 0.4998\n",
            "Epoch 83/500\n",
            "484/484 [==============================] - 3s 7ms/step - loss: 1.9846 - accuracy: 0.5089\n",
            "Epoch 84/500\n",
            "484/484 [==============================] - 3s 7ms/step - loss: 1.9564 - accuracy: 0.5110\n",
            "Epoch 85/500\n",
            "484/484 [==============================] - 3s 7ms/step - loss: 1.9412 - accuracy: 0.5184\n",
            "Epoch 86/500\n",
            "484/484 [==============================] - 3s 7ms/step - loss: 1.9328 - accuracy: 0.5152\n",
            "Epoch 87/500\n",
            "484/484 [==============================] - 3s 7ms/step - loss: 1.9303 - accuracy: 0.5215\n",
            "Epoch 88/500\n",
            "484/484 [==============================] - 3s 7ms/step - loss: 1.9277 - accuracy: 0.5200\n",
            "Epoch 89/500\n",
            "484/484 [==============================] - 3s 7ms/step - loss: 1.9027 - accuracy: 0.5231\n",
            "Epoch 90/500\n",
            "484/484 [==============================] - 3s 7ms/step - loss: 1.8813 - accuracy: 0.5258\n",
            "Epoch 91/500\n",
            "484/484 [==============================] - 3s 7ms/step - loss: 1.8690 - accuracy: 0.5305\n",
            "Epoch 92/500\n",
            "484/484 [==============================] - 3s 7ms/step - loss: 1.8542 - accuracy: 0.5380\n",
            "Epoch 93/500\n",
            "484/484 [==============================] - 3s 7ms/step - loss: 1.8573 - accuracy: 0.5323\n",
            "Epoch 94/500\n",
            "484/484 [==============================] - 3s 7ms/step - loss: 1.8345 - accuracy: 0.5343\n",
            "Epoch 95/500\n",
            "484/484 [==============================] - 3s 7ms/step - loss: 1.8324 - accuracy: 0.5381\n",
            "Epoch 96/500\n",
            "484/484 [==============================] - 3s 7ms/step - loss: 1.8046 - accuracy: 0.5429\n",
            "Epoch 97/500\n",
            "484/484 [==============================] - 3s 7ms/step - loss: 1.7993 - accuracy: 0.5466\n",
            "Epoch 98/500\n",
            "484/484 [==============================] - 3s 7ms/step - loss: 1.7933 - accuracy: 0.5493\n",
            "Epoch 99/500\n",
            "484/484 [==============================] - 3s 7ms/step - loss: 1.7776 - accuracy: 0.5586\n",
            "Epoch 100/500\n",
            "484/484 [==============================] - 3s 7ms/step - loss: 1.7672 - accuracy: 0.5555\n",
            "Epoch 101/500\n",
            "484/484 [==============================] - 3s 7ms/step - loss: 1.7527 - accuracy: 0.5583\n",
            "Epoch 102/500\n",
            "484/484 [==============================] - 3s 7ms/step - loss: 1.7463 - accuracy: 0.5590\n",
            "Epoch 103/500\n",
            "484/484 [==============================] - 3s 7ms/step - loss: 1.7375 - accuracy: 0.5622\n",
            "Epoch 104/500\n",
            "484/484 [==============================] - 3s 7ms/step - loss: 1.7341 - accuracy: 0.5623\n",
            "Epoch 105/500\n",
            "484/484 [==============================] - 3s 7ms/step - loss: 1.7033 - accuracy: 0.5687\n",
            "Epoch 106/500\n",
            "484/484 [==============================] - 3s 7ms/step - loss: 1.7031 - accuracy: 0.5687\n",
            "Epoch 107/500\n",
            "484/484 [==============================] - 3s 7ms/step - loss: 1.6868 - accuracy: 0.5704\n",
            "Epoch 108/500\n",
            "484/484 [==============================] - 3s 7ms/step - loss: 1.6789 - accuracy: 0.5754\n",
            "Epoch 109/500\n",
            "484/484 [==============================] - 3s 7ms/step - loss: 1.6736 - accuracy: 0.5728\n",
            "Epoch 110/500\n",
            "484/484 [==============================] - 3s 7ms/step - loss: 1.6579 - accuracy: 0.5789\n",
            "Epoch 111/500\n",
            "484/484 [==============================] - 3s 7ms/step - loss: 1.6528 - accuracy: 0.5801\n",
            "Epoch 112/500\n",
            "484/484 [==============================] - 3s 7ms/step - loss: 1.6433 - accuracy: 0.5834\n",
            "Epoch 113/500\n",
            "484/484 [==============================] - 3s 7ms/step - loss: 1.6379 - accuracy: 0.5856\n",
            "Epoch 114/500\n",
            "484/484 [==============================] - 3s 7ms/step - loss: 1.6455 - accuracy: 0.5852\n",
            "Epoch 115/500\n",
            "484/484 [==============================] - 3s 7ms/step - loss: 1.6101 - accuracy: 0.5869\n",
            "Epoch 116/500\n",
            "484/484 [==============================] - 3s 7ms/step - loss: 1.6108 - accuracy: 0.5929\n",
            "Epoch 117/500\n",
            "484/484 [==============================] - 3s 7ms/step - loss: 1.5966 - accuracy: 0.5939\n",
            "Epoch 118/500\n",
            "484/484 [==============================] - 3s 7ms/step - loss: 1.6020 - accuracy: 0.5949\n",
            "Epoch 119/500\n",
            "484/484 [==============================] - 3s 7ms/step - loss: 1.5917 - accuracy: 0.5940\n",
            "Epoch 120/500\n",
            "484/484 [==============================] - 3s 7ms/step - loss: 1.5837 - accuracy: 0.5955\n",
            "Epoch 121/500\n",
            "484/484 [==============================] - 3s 7ms/step - loss: 1.5623 - accuracy: 0.6027\n",
            "Epoch 122/500\n",
            "484/484 [==============================] - 3s 7ms/step - loss: 1.5491 - accuracy: 0.6044\n",
            "Epoch 123/500\n",
            "484/484 [==============================] - 3s 7ms/step - loss: 1.5696 - accuracy: 0.5975\n",
            "Epoch 124/500\n",
            "484/484 [==============================] - 3s 7ms/step - loss: 1.5371 - accuracy: 0.6067\n",
            "Epoch 125/500\n",
            "484/484 [==============================] - 3s 7ms/step - loss: 1.5287 - accuracy: 0.6090\n",
            "Epoch 126/500\n",
            "484/484 [==============================] - 3s 7ms/step - loss: 1.5149 - accuracy: 0.6140\n",
            "Epoch 127/500\n",
            "484/484 [==============================] - 3s 7ms/step - loss: 1.5242 - accuracy: 0.6119\n",
            "Epoch 128/500\n",
            "484/484 [==============================] - 3s 7ms/step - loss: 1.5100 - accuracy: 0.6127\n",
            "Epoch 129/500\n",
            "484/484 [==============================] - 3s 7ms/step - loss: 1.4954 - accuracy: 0.6164\n",
            "Epoch 130/500\n",
            "484/484 [==============================] - 3s 7ms/step - loss: 1.5060 - accuracy: 0.6153\n",
            "Epoch 131/500\n",
            "484/484 [==============================] - 3s 7ms/step - loss: 1.5028 - accuracy: 0.6117\n",
            "Epoch 132/500\n",
            "484/484 [==============================] - 3s 6ms/step - loss: 1.4874 - accuracy: 0.6178\n",
            "Epoch 133/500\n",
            "484/484 [==============================] - 3s 7ms/step - loss: 1.4822 - accuracy: 0.6181\n",
            "Epoch 134/500\n",
            "484/484 [==============================] - 3s 7ms/step - loss: 1.4479 - accuracy: 0.6318\n",
            "Epoch 135/500\n",
            "484/484 [==============================] - 3s 7ms/step - loss: 1.4796 - accuracy: 0.6194\n",
            "Epoch 136/500\n",
            "484/484 [==============================] - 3s 7ms/step - loss: 1.4646 - accuracy: 0.6240\n",
            "Epoch 137/500\n",
            "484/484 [==============================] - 3s 7ms/step - loss: 1.4442 - accuracy: 0.6291\n",
            "Epoch 138/500\n",
            "484/484 [==============================] - 3s 7ms/step - loss: 1.4425 - accuracy: 0.6273\n",
            "Epoch 139/500\n",
            "484/484 [==============================] - 3s 7ms/step - loss: 1.4345 - accuracy: 0.6325\n",
            "Epoch 140/500\n",
            "484/484 [==============================] - 3s 7ms/step - loss: 1.4304 - accuracy: 0.6375\n",
            "Epoch 141/500\n",
            "484/484 [==============================] - 3s 7ms/step - loss: 1.4214 - accuracy: 0.6340\n",
            "Epoch 142/500\n",
            "484/484 [==============================] - 3s 7ms/step - loss: 1.4069 - accuracy: 0.6412\n",
            "Epoch 143/500\n",
            "484/484 [==============================] - 3s 7ms/step - loss: 1.3980 - accuracy: 0.6396\n",
            "Epoch 144/500\n",
            "484/484 [==============================] - 3s 7ms/step - loss: 1.4146 - accuracy: 0.6389\n",
            "Epoch 145/500\n",
            "484/484 [==============================] - 3s 7ms/step - loss: 1.4060 - accuracy: 0.6385\n",
            "Epoch 146/500\n",
            "484/484 [==============================] - 3s 7ms/step - loss: 1.3932 - accuracy: 0.6423\n",
            "Epoch 147/500\n",
            "484/484 [==============================] - 3s 7ms/step - loss: 1.3857 - accuracy: 0.6422\n",
            "Epoch 148/500\n",
            "484/484 [==============================] - 3s 7ms/step - loss: 1.3760 - accuracy: 0.6412\n",
            "Epoch 149/500\n",
            "484/484 [==============================] - 3s 7ms/step - loss: 1.3792 - accuracy: 0.6469\n",
            "Epoch 150/500\n",
            "484/484 [==============================] - 3s 7ms/step - loss: 1.3743 - accuracy: 0.6477\n",
            "Epoch 151/500\n",
            "484/484 [==============================] - 3s 7ms/step - loss: 1.3584 - accuracy: 0.6493\n",
            "Epoch 152/500\n",
            "484/484 [==============================] - 3s 7ms/step - loss: 1.3515 - accuracy: 0.6523\n",
            "Epoch 153/500\n",
            "484/484 [==============================] - 3s 7ms/step - loss: 1.3531 - accuracy: 0.6481\n",
            "Epoch 154/500\n",
            "484/484 [==============================] - 3s 7ms/step - loss: 1.3558 - accuracy: 0.6521\n",
            "Epoch 155/500\n",
            "484/484 [==============================] - 3s 7ms/step - loss: 1.3385 - accuracy: 0.6563\n",
            "Epoch 156/500\n",
            "484/484 [==============================] - 3s 7ms/step - loss: 1.3272 - accuracy: 0.6572\n",
            "Epoch 157/500\n",
            "484/484 [==============================] - 3s 7ms/step - loss: 1.3157 - accuracy: 0.6597\n",
            "Epoch 158/500\n",
            "484/484 [==============================] - 3s 7ms/step - loss: 1.3232 - accuracy: 0.6571\n",
            "Epoch 159/500\n",
            "484/484 [==============================] - 3s 7ms/step - loss: 1.3200 - accuracy: 0.6599\n",
            "Epoch 160/500\n",
            "484/484 [==============================] - 3s 7ms/step - loss: 1.3173 - accuracy: 0.6612\n",
            "Epoch 161/500\n",
            "484/484 [==============================] - 3s 7ms/step - loss: 1.2943 - accuracy: 0.6643\n",
            "Epoch 162/500\n",
            "484/484 [==============================] - 3s 7ms/step - loss: 1.2881 - accuracy: 0.6665\n",
            "Epoch 163/500\n",
            "484/484 [==============================] - 3s 7ms/step - loss: 1.3088 - accuracy: 0.6619\n",
            "Epoch 164/500\n",
            "484/484 [==============================] - 3s 7ms/step - loss: 1.2849 - accuracy: 0.6697\n",
            "Epoch 165/500\n",
            "484/484 [==============================] - 3s 7ms/step - loss: 1.2787 - accuracy: 0.6691\n",
            "Epoch 166/500\n",
            "484/484 [==============================] - 3s 6ms/step - loss: 1.2829 - accuracy: 0.6691\n",
            "Epoch 167/500\n",
            "484/484 [==============================] - 3s 6ms/step - loss: 1.2778 - accuracy: 0.6713\n",
            "Epoch 168/500\n",
            "484/484 [==============================] - 3s 7ms/step - loss: 1.2765 - accuracy: 0.6679\n",
            "Epoch 169/500\n",
            "484/484 [==============================] - 3s 7ms/step - loss: 1.2766 - accuracy: 0.6702\n",
            "Epoch 170/500\n",
            "484/484 [==============================] - 3s 7ms/step - loss: 1.2640 - accuracy: 0.6743\n",
            "Epoch 171/500\n",
            "484/484 [==============================] - 3s 7ms/step - loss: 1.2620 - accuracy: 0.6704\n",
            "Epoch 172/500\n",
            "484/484 [==============================] - 3s 7ms/step - loss: 1.2441 - accuracy: 0.6797\n",
            "Epoch 173/500\n",
            "484/484 [==============================] - 3s 7ms/step - loss: 1.2548 - accuracy: 0.6760\n",
            "Epoch 174/500\n",
            "484/484 [==============================] - 3s 7ms/step - loss: 1.2252 - accuracy: 0.6821\n",
            "Epoch 175/500\n",
            "484/484 [==============================] - 3s 7ms/step - loss: 1.2493 - accuracy: 0.6781\n",
            "Epoch 176/500\n",
            "484/484 [==============================] - 3s 7ms/step - loss: 1.2414 - accuracy: 0.6788\n",
            "Epoch 177/500\n",
            "484/484 [==============================] - 3s 7ms/step - loss: 1.2233 - accuracy: 0.6872\n",
            "Epoch 178/500\n",
            "484/484 [==============================] - 3s 7ms/step - loss: 1.2238 - accuracy: 0.6823\n",
            "Epoch 179/500\n",
            "484/484 [==============================] - 3s 7ms/step - loss: 1.2190 - accuracy: 0.6835\n",
            "Epoch 180/500\n",
            "484/484 [==============================] - 3s 7ms/step - loss: 1.2169 - accuracy: 0.6876\n",
            "Epoch 181/500\n",
            "484/484 [==============================] - 3s 7ms/step - loss: 1.2317 - accuracy: 0.6777\n",
            "Epoch 182/500\n",
            "484/484 [==============================] - 3s 7ms/step - loss: 1.2258 - accuracy: 0.6826\n",
            "Epoch 183/500\n",
            "484/484 [==============================] - 3s 7ms/step - loss: 1.2061 - accuracy: 0.6867\n",
            "Epoch 184/500\n",
            "484/484 [==============================] - 3s 7ms/step - loss: 1.2151 - accuracy: 0.6835\n",
            "Epoch 185/500\n",
            "484/484 [==============================] - 3s 7ms/step - loss: 1.1984 - accuracy: 0.6900\n",
            "Epoch 186/500\n",
            "484/484 [==============================] - 3s 7ms/step - loss: 1.1832 - accuracy: 0.6954\n",
            "Epoch 187/500\n",
            "484/484 [==============================] - 3s 7ms/step - loss: 1.1887 - accuracy: 0.6932\n",
            "Epoch 188/500\n",
            "484/484 [==============================] - 3s 7ms/step - loss: 1.1902 - accuracy: 0.6901\n",
            "Epoch 189/500\n",
            "484/484 [==============================] - 3s 7ms/step - loss: 1.1818 - accuracy: 0.6891\n",
            "Epoch 190/500\n",
            "484/484 [==============================] - 3s 7ms/step - loss: 1.1933 - accuracy: 0.6879\n",
            "Epoch 191/500\n",
            "484/484 [==============================] - 3s 7ms/step - loss: 1.1670 - accuracy: 0.6975\n",
            "Epoch 192/500\n",
            "484/484 [==============================] - 3s 7ms/step - loss: 1.1588 - accuracy: 0.7006\n",
            "Epoch 193/500\n",
            "484/484 [==============================] - 3s 7ms/step - loss: 1.1612 - accuracy: 0.6988\n",
            "Epoch 194/500\n",
            "484/484 [==============================] - 3s 7ms/step - loss: 1.1650 - accuracy: 0.6980\n",
            "Epoch 195/500\n",
            "484/484 [==============================] - 3s 7ms/step - loss: 1.1854 - accuracy: 0.6911\n",
            "Epoch 196/500\n",
            "484/484 [==============================] - 3s 7ms/step - loss: 1.1654 - accuracy: 0.6975\n",
            "Epoch 197/500\n",
            "484/484 [==============================] - 3s 7ms/step - loss: 1.1470 - accuracy: 0.7027\n",
            "Epoch 198/500\n",
            "484/484 [==============================] - 3s 7ms/step - loss: 1.1497 - accuracy: 0.7021\n",
            "Epoch 199/500\n",
            "484/484 [==============================] - 3s 7ms/step - loss: 1.1487 - accuracy: 0.6982\n",
            "Epoch 200/500\n",
            "484/484 [==============================] - 3s 7ms/step - loss: 1.1418 - accuracy: 0.7043\n",
            "Epoch 201/500\n",
            "484/484 [==============================] - 3s 7ms/step - loss: 1.1442 - accuracy: 0.7035\n",
            "Epoch 202/500\n",
            "484/484 [==============================] - 3s 7ms/step - loss: 1.1304 - accuracy: 0.7066\n",
            "Epoch 203/500\n",
            "484/484 [==============================] - 3s 7ms/step - loss: 1.1459 - accuracy: 0.7020\n",
            "Epoch 204/500\n",
            "484/484 [==============================] - 3s 7ms/step - loss: 1.1399 - accuracy: 0.7020\n",
            "Epoch 205/500\n",
            "484/484 [==============================] - 3s 7ms/step - loss: 1.1386 - accuracy: 0.7037\n",
            "Epoch 206/500\n",
            "484/484 [==============================] - 3s 7ms/step - loss: 1.1410 - accuracy: 0.7043\n",
            "Epoch 207/500\n",
            "484/484 [==============================] - 3s 7ms/step - loss: 1.1280 - accuracy: 0.7062\n",
            "Epoch 208/500\n",
            "484/484 [==============================] - 3s 7ms/step - loss: 1.1091 - accuracy: 0.7086\n",
            "Epoch 209/500\n",
            "484/484 [==============================] - 3s 7ms/step - loss: 1.1229 - accuracy: 0.7088\n",
            "Epoch 210/500\n",
            "484/484 [==============================] - 3s 7ms/step - loss: 1.0937 - accuracy: 0.7148\n",
            "Epoch 211/500\n",
            "484/484 [==============================] - 3s 7ms/step - loss: 1.1063 - accuracy: 0.7130\n",
            "Epoch 212/500\n",
            "484/484 [==============================] - 3s 7ms/step - loss: 1.1155 - accuracy: 0.7116\n",
            "Epoch 213/500\n",
            "484/484 [==============================] - 3s 7ms/step - loss: 1.1107 - accuracy: 0.7100\n",
            "Epoch 214/500\n",
            "484/484 [==============================] - 3s 7ms/step - loss: 1.0997 - accuracy: 0.7137\n",
            "Epoch 215/500\n",
            "484/484 [==============================] - 3s 7ms/step - loss: 1.1059 - accuracy: 0.7114\n",
            "Epoch 216/500\n",
            "484/484 [==============================] - 3s 7ms/step - loss: 1.0963 - accuracy: 0.7149\n",
            "Epoch 217/500\n",
            "484/484 [==============================] - 3s 7ms/step - loss: 1.0879 - accuracy: 0.7163\n",
            "Epoch 218/500\n",
            "484/484 [==============================] - 3s 7ms/step - loss: 1.0959 - accuracy: 0.7136\n",
            "Epoch 219/500\n",
            "484/484 [==============================] - 3s 7ms/step - loss: 1.0900 - accuracy: 0.7200\n",
            "Epoch 220/500\n",
            "484/484 [==============================] - 3s 7ms/step - loss: 1.0723 - accuracy: 0.7187\n",
            "Epoch 221/500\n",
            "484/484 [==============================] - 3s 7ms/step - loss: 1.0703 - accuracy: 0.7198\n",
            "Epoch 222/500\n",
            "484/484 [==============================] - 3s 7ms/step - loss: 1.0709 - accuracy: 0.7203\n",
            "Epoch 223/500\n",
            "484/484 [==============================] - 3s 7ms/step - loss: 1.0935 - accuracy: 0.7159\n",
            "Epoch 224/500\n",
            "484/484 [==============================] - 3s 7ms/step - loss: 1.0871 - accuracy: 0.7150\n",
            "Epoch 225/500\n",
            "484/484 [==============================] - 3s 7ms/step - loss: 1.0639 - accuracy: 0.7240\n",
            "Epoch 226/500\n",
            "484/484 [==============================] - 3s 7ms/step - loss: 1.0680 - accuracy: 0.7220\n",
            "Epoch 227/500\n",
            "484/484 [==============================] - 3s 7ms/step - loss: 1.0619 - accuracy: 0.7199\n",
            "Epoch 228/500\n",
            "484/484 [==============================] - 3s 7ms/step - loss: 1.0612 - accuracy: 0.7231\n",
            "Epoch 229/500\n",
            "484/484 [==============================] - 3s 7ms/step - loss: 1.0613 - accuracy: 0.7211\n",
            "Epoch 230/500\n",
            "484/484 [==============================] - 3s 7ms/step - loss: 1.0684 - accuracy: 0.7222\n",
            "Epoch 231/500\n",
            "484/484 [==============================] - 3s 7ms/step - loss: 1.0685 - accuracy: 0.7209\n",
            "Epoch 232/500\n",
            "484/484 [==============================] - 3s 7ms/step - loss: 1.0506 - accuracy: 0.7260\n",
            "Epoch 233/500\n",
            "484/484 [==============================] - 3s 7ms/step - loss: 1.0468 - accuracy: 0.7273\n",
            "Epoch 234/500\n",
            "484/484 [==============================] - 3s 7ms/step - loss: 1.0407 - accuracy: 0.7260\n",
            "Epoch 235/500\n",
            "484/484 [==============================] - 3s 7ms/step - loss: 1.0333 - accuracy: 0.7267\n",
            "Epoch 236/500\n",
            "484/484 [==============================] - 3s 7ms/step - loss: 1.0549 - accuracy: 0.7256\n",
            "Epoch 237/500\n",
            "484/484 [==============================] - 3s 7ms/step - loss: 1.0428 - accuracy: 0.7262\n",
            "Epoch 238/500\n",
            "484/484 [==============================] - 3s 7ms/step - loss: 1.0472 - accuracy: 0.7293\n",
            "Epoch 239/500\n",
            "484/484 [==============================] - 3s 7ms/step - loss: 1.0425 - accuracy: 0.7245\n",
            "Epoch 240/500\n",
            "484/484 [==============================] - 3s 7ms/step - loss: 1.0324 - accuracy: 0.7323\n",
            "Epoch 241/500\n",
            "484/484 [==============================] - 3s 7ms/step - loss: 1.0304 - accuracy: 0.7335\n",
            "Epoch 242/500\n",
            "484/484 [==============================] - 3s 7ms/step - loss: 1.0262 - accuracy: 0.7320\n",
            "Epoch 243/500\n",
            "484/484 [==============================] - 3s 7ms/step - loss: 1.0494 - accuracy: 0.7284\n",
            "Epoch 244/500\n",
            "484/484 [==============================] - 3s 7ms/step - loss: 1.0317 - accuracy: 0.7307\n",
            "Epoch 245/500\n",
            "484/484 [==============================] - 3s 7ms/step - loss: 1.0281 - accuracy: 0.7298\n",
            "Epoch 246/500\n",
            "484/484 [==============================] - 3s 7ms/step - loss: 1.0215 - accuracy: 0.7346\n",
            "Epoch 247/500\n",
            "484/484 [==============================] - 3s 7ms/step - loss: 1.0050 - accuracy: 0.7357\n",
            "Epoch 248/500\n",
            "484/484 [==============================] - 3s 7ms/step - loss: 1.0338 - accuracy: 0.7288\n",
            "Epoch 249/500\n",
            "484/484 [==============================] - 3s 7ms/step - loss: 1.0201 - accuracy: 0.7348\n",
            "Epoch 250/500\n",
            "484/484 [==============================] - 3s 7ms/step - loss: 1.0200 - accuracy: 0.7329\n",
            "Epoch 251/500\n",
            "484/484 [==============================] - 3s 7ms/step - loss: 1.0262 - accuracy: 0.7355\n",
            "Epoch 252/500\n",
            "484/484 [==============================] - 3s 7ms/step - loss: 1.0178 - accuracy: 0.7330\n",
            "Epoch 253/500\n",
            "484/484 [==============================] - 3s 7ms/step - loss: 0.9895 - accuracy: 0.7425\n",
            "Epoch 254/500\n",
            "484/484 [==============================] - 3s 7ms/step - loss: 1.0090 - accuracy: 0.7353\n",
            "Epoch 255/500\n",
            "484/484 [==============================] - 3s 7ms/step - loss: 1.0080 - accuracy: 0.7341\n",
            "Epoch 256/500\n",
            "484/484 [==============================] - 3s 7ms/step - loss: 1.0006 - accuracy: 0.7386\n",
            "Epoch 257/500\n",
            "484/484 [==============================] - 3s 7ms/step - loss: 1.0072 - accuracy: 0.7347\n",
            "Epoch 258/500\n",
            "484/484 [==============================] - 3s 7ms/step - loss: 1.0024 - accuracy: 0.7399\n",
            "Epoch 259/500\n",
            "484/484 [==============================] - 3s 7ms/step - loss: 0.9860 - accuracy: 0.7427\n",
            "Epoch 260/500\n",
            "484/484 [==============================] - 3s 7ms/step - loss: 1.0128 - accuracy: 0.7326\n",
            "Epoch 261/500\n",
            "484/484 [==============================] - 3s 7ms/step - loss: 1.0027 - accuracy: 0.7366\n",
            "Epoch 262/500\n",
            "484/484 [==============================] - 3s 7ms/step - loss: 0.9936 - accuracy: 0.7400\n",
            "Epoch 263/500\n",
            "484/484 [==============================] - 3s 7ms/step - loss: 0.9930 - accuracy: 0.7394\n",
            "Epoch 264/500\n",
            "484/484 [==============================] - 3s 7ms/step - loss: 0.9946 - accuracy: 0.7379\n",
            "Epoch 265/500\n",
            "484/484 [==============================] - 3s 7ms/step - loss: 0.9886 - accuracy: 0.7420\n",
            "Epoch 266/500\n",
            "484/484 [==============================] - 3s 7ms/step - loss: 0.9856 - accuracy: 0.7396\n",
            "Epoch 267/500\n",
            "484/484 [==============================] - 3s 7ms/step - loss: 0.9699 - accuracy: 0.7462\n",
            "Epoch 268/500\n",
            "484/484 [==============================] - 3s 7ms/step - loss: 0.9654 - accuracy: 0.7454\n",
            "Epoch 269/500\n",
            "484/484 [==============================] - 3s 7ms/step - loss: 0.9973 - accuracy: 0.7439\n",
            "Epoch 270/500\n",
            "484/484 [==============================] - 3s 7ms/step - loss: 0.9787 - accuracy: 0.7406\n",
            "Epoch 271/500\n",
            "484/484 [==============================] - 3s 7ms/step - loss: 0.9657 - accuracy: 0.7465\n",
            "Epoch 272/500\n",
            "484/484 [==============================] - 3s 7ms/step - loss: 0.9636 - accuracy: 0.7489\n",
            "Epoch 273/500\n",
            "484/484 [==============================] - 3s 7ms/step - loss: 0.9736 - accuracy: 0.7472\n",
            "Epoch 274/500\n",
            "484/484 [==============================] - 3s 7ms/step - loss: 0.9836 - accuracy: 0.7421\n",
            "Epoch 275/500\n",
            "484/484 [==============================] - 3s 7ms/step - loss: 0.9722 - accuracy: 0.7433\n",
            "Epoch 276/500\n",
            "484/484 [==============================] - 3s 7ms/step - loss: 0.9556 - accuracy: 0.7520\n",
            "Epoch 277/500\n",
            "484/484 [==============================] - 3s 7ms/step - loss: 0.9485 - accuracy: 0.7508\n",
            "Epoch 278/500\n",
            "484/484 [==============================] - 3s 7ms/step - loss: 0.9608 - accuracy: 0.7483\n",
            "Epoch 279/500\n",
            "484/484 [==============================] - 3s 7ms/step - loss: 0.9700 - accuracy: 0.7462\n",
            "Epoch 280/500\n",
            "484/484 [==============================] - 3s 7ms/step - loss: 0.9552 - accuracy: 0.7484\n",
            "Epoch 281/500\n",
            "484/484 [==============================] - 3s 7ms/step - loss: 0.9494 - accuracy: 0.7482\n",
            "Epoch 282/500\n",
            "484/484 [==============================] - 3s 7ms/step - loss: 0.9613 - accuracy: 0.7485\n",
            "Epoch 283/500\n",
            "484/484 [==============================] - 3s 7ms/step - loss: 0.9664 - accuracy: 0.7467\n",
            "Epoch 284/500\n",
            "484/484 [==============================] - 3s 7ms/step - loss: 0.9587 - accuracy: 0.7493\n",
            "Epoch 285/500\n",
            "484/484 [==============================] - 3s 7ms/step - loss: 0.9440 - accuracy: 0.7540\n",
            "Epoch 286/500\n",
            "484/484 [==============================] - 3s 7ms/step - loss: 0.9452 - accuracy: 0.7493\n",
            "Epoch 287/500\n",
            "484/484 [==============================] - 3s 7ms/step - loss: 0.9354 - accuracy: 0.7577\n",
            "Epoch 288/500\n",
            "484/484 [==============================] - 3s 7ms/step - loss: 0.9449 - accuracy: 0.7507\n",
            "Epoch 289/500\n",
            "484/484 [==============================] - 3s 7ms/step - loss: 0.9550 - accuracy: 0.7493\n",
            "Epoch 290/500\n",
            "484/484 [==============================] - 3s 7ms/step - loss: 0.9492 - accuracy: 0.7501\n",
            "Epoch 291/500\n",
            "484/484 [==============================] - 4s 9ms/step - loss: 0.9413 - accuracy: 0.7544\n",
            "Epoch 292/500\n",
            "484/484 [==============================] - 4s 8ms/step - loss: 0.9635 - accuracy: 0.7480\n",
            "Epoch 293/500\n",
            "484/484 [==============================] - 4s 7ms/step - loss: 0.9474 - accuracy: 0.7503\n",
            "Epoch 294/500\n",
            "484/484 [==============================] - 3s 7ms/step - loss: 0.9259 - accuracy: 0.7559\n",
            "Epoch 295/500\n",
            "484/484 [==============================] - 3s 7ms/step - loss: 0.9333 - accuracy: 0.7547\n",
            "Epoch 296/500\n",
            "484/484 [==============================] - 3s 7ms/step - loss: 0.9371 - accuracy: 0.7522\n",
            "Epoch 297/500\n",
            "484/484 [==============================] - 4s 8ms/step - loss: 0.9260 - accuracy: 0.7578\n",
            "Epoch 298/500\n",
            "484/484 [==============================] - 4s 9ms/step - loss: 0.9405 - accuracy: 0.7530\n",
            "Epoch 299/500\n",
            "484/484 [==============================] - 3s 7ms/step - loss: 0.9375 - accuracy: 0.7525\n",
            "Epoch 300/500\n",
            "484/484 [==============================] - 4s 8ms/step - loss: 0.9127 - accuracy: 0.7580\n",
            "Epoch 301/500\n",
            "484/484 [==============================] - 5s 10ms/step - loss: 0.9165 - accuracy: 0.7595\n",
            "Epoch 302/500\n",
            "484/484 [==============================] - 3s 7ms/step - loss: 0.9254 - accuracy: 0.7569\n",
            "Epoch 303/500\n",
            "484/484 [==============================] - 3s 7ms/step - loss: 0.9433 - accuracy: 0.7516\n",
            "Epoch 304/500\n",
            "484/484 [==============================] - 3s 7ms/step - loss: 0.9265 - accuracy: 0.7556\n",
            "Epoch 305/500\n",
            "484/484 [==============================] - 3s 7ms/step - loss: 0.9137 - accuracy: 0.7580\n",
            "Epoch 306/500\n",
            "484/484 [==============================] - 3s 7ms/step - loss: 0.9169 - accuracy: 0.7588\n",
            "Epoch 307/500\n",
            "484/484 [==============================] - 4s 7ms/step - loss: 0.9185 - accuracy: 0.7557\n",
            "Epoch 308/500\n",
            "484/484 [==============================] - 3s 7ms/step - loss: 0.9221 - accuracy: 0.7563\n",
            "Epoch 309/500\n",
            "484/484 [==============================] - 4s 7ms/step - loss: 0.9243 - accuracy: 0.7593\n",
            "Epoch 310/500\n",
            "484/484 [==============================] - 3s 7ms/step - loss: 0.9163 - accuracy: 0.7580\n",
            "Epoch 311/500\n",
            "484/484 [==============================] - 3s 7ms/step - loss: 0.9110 - accuracy: 0.7576\n",
            "Epoch 312/500\n",
            "484/484 [==============================] - 3s 7ms/step - loss: 0.9302 - accuracy: 0.7539\n",
            "Epoch 313/500\n",
            "484/484 [==============================] - 3s 7ms/step - loss: 0.9202 - accuracy: 0.7594\n",
            "Epoch 314/500\n",
            "484/484 [==============================] - 3s 7ms/step - loss: 0.9034 - accuracy: 0.7631\n",
            "Epoch 315/500\n",
            "484/484 [==============================] - 3s 7ms/step - loss: 0.9086 - accuracy: 0.7625\n",
            "Epoch 316/500\n",
            "484/484 [==============================] - 3s 7ms/step - loss: 0.9097 - accuracy: 0.7572\n",
            "Epoch 317/500\n",
            "484/484 [==============================] - 4s 7ms/step - loss: 0.8979 - accuracy: 0.7599\n",
            "Epoch 318/500\n",
            "484/484 [==============================] - 3s 7ms/step - loss: 0.8992 - accuracy: 0.7645\n",
            "Epoch 319/500\n",
            "484/484 [==============================] - 3s 7ms/step - loss: 0.9096 - accuracy: 0.7592\n",
            "Epoch 320/500\n",
            "484/484 [==============================] - 3s 7ms/step - loss: 0.9123 - accuracy: 0.7581\n",
            "Epoch 321/500\n",
            "484/484 [==============================] - 3s 7ms/step - loss: 0.8954 - accuracy: 0.7643\n",
            "Epoch 322/500\n",
            "484/484 [==============================] - 3s 7ms/step - loss: 0.8989 - accuracy: 0.7640\n",
            "Epoch 323/500\n",
            "484/484 [==============================] - 3s 7ms/step - loss: 0.8890 - accuracy: 0.7652\n",
            "Epoch 324/500\n",
            "484/484 [==============================] - 3s 7ms/step - loss: 0.8990 - accuracy: 0.7627\n",
            "Epoch 325/500\n",
            "484/484 [==============================] - 3s 7ms/step - loss: 0.8879 - accuracy: 0.7665\n",
            "Epoch 326/500\n",
            "484/484 [==============================] - 3s 7ms/step - loss: 0.9026 - accuracy: 0.7618\n",
            "Epoch 327/500\n",
            "484/484 [==============================] - 3s 7ms/step - loss: 0.9196 - accuracy: 0.7586\n",
            "Epoch 328/500\n",
            "484/484 [==============================] - 3s 7ms/step - loss: 0.8846 - accuracy: 0.7655\n",
            "Epoch 329/500\n",
            "484/484 [==============================] - 3s 7ms/step - loss: 0.8910 - accuracy: 0.7635\n",
            "Epoch 330/500\n",
            "484/484 [==============================] - 3s 7ms/step - loss: 0.8881 - accuracy: 0.7663\n",
            "Epoch 331/500\n",
            "484/484 [==============================] - 3s 7ms/step - loss: 0.8989 - accuracy: 0.7641\n",
            "Epoch 332/500\n",
            "484/484 [==============================] - 3s 7ms/step - loss: 0.8704 - accuracy: 0.7709\n",
            "Epoch 333/500\n",
            "484/484 [==============================] - 3s 7ms/step - loss: 0.8884 - accuracy: 0.7634\n",
            "Epoch 334/500\n",
            "484/484 [==============================] - 3s 7ms/step - loss: 0.9046 - accuracy: 0.7587\n",
            "Epoch 335/500\n",
            "484/484 [==============================] - 3s 7ms/step - loss: 0.8859 - accuracy: 0.7641\n",
            "Epoch 336/500\n",
            "484/484 [==============================] - 3s 7ms/step - loss: 0.8733 - accuracy: 0.7688\n",
            "Epoch 337/500\n",
            "484/484 [==============================] - 3s 7ms/step - loss: 0.8765 - accuracy: 0.7685\n",
            "Epoch 338/500\n",
            "484/484 [==============================] - 3s 7ms/step - loss: 0.8835 - accuracy: 0.7692\n",
            "Epoch 339/500\n",
            "484/484 [==============================] - 3s 7ms/step - loss: 0.8999 - accuracy: 0.7632\n",
            "Epoch 340/500\n",
            "484/484 [==============================] - 3s 7ms/step - loss: 0.8845 - accuracy: 0.7644\n",
            "Epoch 341/500\n",
            "484/484 [==============================] - 3s 7ms/step - loss: 0.8945 - accuracy: 0.7641\n",
            "Epoch 342/500\n",
            "484/484 [==============================] - 3s 7ms/step - loss: 0.8880 - accuracy: 0.7615\n",
            "Epoch 343/500\n",
            "484/484 [==============================] - 3s 7ms/step - loss: 0.8754 - accuracy: 0.7698\n",
            "Epoch 344/500\n",
            "484/484 [==============================] - 3s 7ms/step - loss: 0.8679 - accuracy: 0.7713\n",
            "Epoch 345/500\n",
            "484/484 [==============================] - 3s 7ms/step - loss: 0.8647 - accuracy: 0.7719\n",
            "Epoch 346/500\n",
            "484/484 [==============================] - 3s 7ms/step - loss: 0.8700 - accuracy: 0.7688\n",
            "Epoch 347/500\n",
            "484/484 [==============================] - 3s 7ms/step - loss: 0.8744 - accuracy: 0.7718\n",
            "Epoch 348/500\n",
            "484/484 [==============================] - 3s 7ms/step - loss: 0.8755 - accuracy: 0.7672\n",
            "Epoch 349/500\n",
            "484/484 [==============================] - 3s 7ms/step - loss: 0.8705 - accuracy: 0.7718\n",
            "Epoch 350/500\n",
            "484/484 [==============================] - 3s 7ms/step - loss: 0.8866 - accuracy: 0.7648\n",
            "Epoch 351/500\n",
            "484/484 [==============================] - 3s 7ms/step - loss: 0.8901 - accuracy: 0.7663\n",
            "Epoch 352/500\n",
            "484/484 [==============================] - 3s 7ms/step - loss: 0.8891 - accuracy: 0.7679\n",
            "Epoch 353/500\n",
            "484/484 [==============================] - 3s 7ms/step - loss: 0.8631 - accuracy: 0.7712\n",
            "Epoch 354/500\n",
            "484/484 [==============================] - 3s 7ms/step - loss: 0.8558 - accuracy: 0.7734\n",
            "Epoch 355/500\n",
            "484/484 [==============================] - 3s 7ms/step - loss: 0.8593 - accuracy: 0.7743\n",
            "Epoch 356/500\n",
            "484/484 [==============================] - 3s 7ms/step - loss: 0.8526 - accuracy: 0.7740\n",
            "Epoch 357/500\n",
            "484/484 [==============================] - 3s 7ms/step - loss: 0.8626 - accuracy: 0.7725\n",
            "Epoch 358/500\n",
            "484/484 [==============================] - 3s 7ms/step - loss: 0.8579 - accuracy: 0.7717\n",
            "Epoch 359/500\n",
            "484/484 [==============================] - 3s 7ms/step - loss: 0.8684 - accuracy: 0.7696\n",
            "Epoch 360/500\n",
            "484/484 [==============================] - 3s 7ms/step - loss: 0.8633 - accuracy: 0.7718\n",
            "Epoch 361/500\n",
            "484/484 [==============================] - 3s 7ms/step - loss: 0.8637 - accuracy: 0.7724\n",
            "Epoch 362/500\n",
            "484/484 [==============================] - 3s 7ms/step - loss: 0.8538 - accuracy: 0.7738\n",
            "Epoch 363/500\n",
            "484/484 [==============================] - 3s 7ms/step - loss: 0.8561 - accuracy: 0.7715\n",
            "Epoch 364/500\n",
            "484/484 [==============================] - 3s 7ms/step - loss: 0.8470 - accuracy: 0.7749\n",
            "Epoch 365/500\n",
            "484/484 [==============================] - 3s 7ms/step - loss: 0.8471 - accuracy: 0.7749\n",
            "Epoch 366/500\n",
            "484/484 [==============================] - 3s 7ms/step - loss: 0.8650 - accuracy: 0.7717\n",
            "Epoch 367/500\n",
            "484/484 [==============================] - 3s 7ms/step - loss: 0.8503 - accuracy: 0.7740\n",
            "Epoch 368/500\n",
            "484/484 [==============================] - 3s 7ms/step - loss: 0.8558 - accuracy: 0.7761\n",
            "Epoch 369/500\n",
            "484/484 [==============================] - 3s 7ms/step - loss: 0.8575 - accuracy: 0.7725\n",
            "Epoch 370/500\n",
            "484/484 [==============================] - 3s 7ms/step - loss: 0.8479 - accuracy: 0.7745\n",
            "Epoch 371/500\n",
            "484/484 [==============================] - 3s 7ms/step - loss: 0.8432 - accuracy: 0.7773\n",
            "Epoch 372/500\n",
            "484/484 [==============================] - 3s 7ms/step - loss: 0.8614 - accuracy: 0.7709\n",
            "Epoch 373/500\n",
            "484/484 [==============================] - 3s 7ms/step - loss: 0.8552 - accuracy: 0.7719\n",
            "Epoch 374/500\n",
            "484/484 [==============================] - 3s 7ms/step - loss: 0.8557 - accuracy: 0.7727\n",
            "Epoch 375/500\n",
            "484/484 [==============================] - 3s 7ms/step - loss: 0.8393 - accuracy: 0.7780\n",
            "Epoch 376/500\n",
            "484/484 [==============================] - 3s 7ms/step - loss: 0.8449 - accuracy: 0.7769\n",
            "Epoch 377/500\n",
            "484/484 [==============================] - 3s 7ms/step - loss: 0.8345 - accuracy: 0.7793\n",
            "Epoch 378/500\n",
            "484/484 [==============================] - 3s 7ms/step - loss: 0.8481 - accuracy: 0.7755\n",
            "Epoch 379/500\n",
            "484/484 [==============================] - 3s 7ms/step - loss: 0.8390 - accuracy: 0.7751\n",
            "Epoch 380/500\n",
            "484/484 [==============================] - 3s 7ms/step - loss: 0.8447 - accuracy: 0.7759\n",
            "Epoch 381/500\n",
            "484/484 [==============================] - 3s 7ms/step - loss: 0.8483 - accuracy: 0.7744\n",
            "Epoch 382/500\n",
            "484/484 [==============================] - 3s 7ms/step - loss: 0.8343 - accuracy: 0.7790\n",
            "Epoch 383/500\n",
            "484/484 [==============================] - 3s 7ms/step - loss: 0.8306 - accuracy: 0.7780\n",
            "Epoch 384/500\n",
            "484/484 [==============================] - 3s 7ms/step - loss: 0.8359 - accuracy: 0.7778\n",
            "Epoch 385/500\n",
            "484/484 [==============================] - 3s 7ms/step - loss: 0.8340 - accuracy: 0.7820\n",
            "Epoch 386/500\n",
            "484/484 [==============================] - 3s 7ms/step - loss: 0.8360 - accuracy: 0.7801\n",
            "Epoch 387/500\n",
            "484/484 [==============================] - 3s 7ms/step - loss: 0.8275 - accuracy: 0.7806\n",
            "Epoch 388/500\n",
            "484/484 [==============================] - 3s 7ms/step - loss: 0.8470 - accuracy: 0.7754\n",
            "Epoch 389/500\n",
            "484/484 [==============================] - 3s 7ms/step - loss: 0.8443 - accuracy: 0.7764\n",
            "Epoch 390/500\n",
            "484/484 [==============================] - 3s 7ms/step - loss: 0.8423 - accuracy: 0.7758\n",
            "Epoch 391/500\n",
            "484/484 [==============================] - 3s 7ms/step - loss: 0.8339 - accuracy: 0.7793\n",
            "Epoch 392/500\n",
            "484/484 [==============================] - 3s 7ms/step - loss: 0.8324 - accuracy: 0.7847\n",
            "Epoch 393/500\n",
            "484/484 [==============================] - 3s 7ms/step - loss: 0.8433 - accuracy: 0.7760\n",
            "Epoch 394/500\n",
            "484/484 [==============================] - 3s 7ms/step - loss: 0.8338 - accuracy: 0.7780\n",
            "Epoch 395/500\n",
            "484/484 [==============================] - 3s 7ms/step - loss: 0.8166 - accuracy: 0.7838\n",
            "Epoch 396/500\n",
            "484/484 [==============================] - 3s 7ms/step - loss: 0.8429 - accuracy: 0.7771\n",
            "Epoch 397/500\n",
            "484/484 [==============================] - 3s 7ms/step - loss: 0.8434 - accuracy: 0.7769\n",
            "Epoch 398/500\n",
            "484/484 [==============================] - 3s 7ms/step - loss: 0.8197 - accuracy: 0.7808\n",
            "Epoch 399/500\n",
            "484/484 [==============================] - 3s 7ms/step - loss: 0.8199 - accuracy: 0.7802\n",
            "Epoch 400/500\n",
            "484/484 [==============================] - 3s 7ms/step - loss: 0.8192 - accuracy: 0.7817\n",
            "Epoch 401/500\n",
            "484/484 [==============================] - 3s 7ms/step - loss: 0.8287 - accuracy: 0.7800\n",
            "Epoch 402/500\n",
            "484/484 [==============================] - 3s 7ms/step - loss: 0.8378 - accuracy: 0.7773\n",
            "Epoch 403/500\n",
            "484/484 [==============================] - 3s 7ms/step - loss: 0.8404 - accuracy: 0.7770\n",
            "Epoch 404/500\n",
            "484/484 [==============================] - 3s 7ms/step - loss: 0.8280 - accuracy: 0.7793\n",
            "Epoch 405/500\n",
            "484/484 [==============================] - 3s 7ms/step - loss: 0.8372 - accuracy: 0.7772\n",
            "Epoch 406/500\n",
            "484/484 [==============================] - 3s 7ms/step - loss: 0.8171 - accuracy: 0.7816\n",
            "Epoch 407/500\n",
            "484/484 [==============================] - 3s 7ms/step - loss: 0.8122 - accuracy: 0.7852\n",
            "Epoch 408/500\n",
            "484/484 [==============================] - 3s 7ms/step - loss: 0.8154 - accuracy: 0.7824\n",
            "Epoch 409/500\n",
            "484/484 [==============================] - 4s 7ms/step - loss: 0.8237 - accuracy: 0.7820\n",
            "Epoch 410/500\n",
            "484/484 [==============================] - 3s 7ms/step - loss: 0.8262 - accuracy: 0.7834\n",
            "Epoch 411/500\n",
            "484/484 [==============================] - 3s 7ms/step - loss: 0.8228 - accuracy: 0.7830\n",
            "Epoch 412/500\n",
            "484/484 [==============================] - 3s 7ms/step - loss: 0.8282 - accuracy: 0.7798\n",
            "Epoch 413/500\n",
            "484/484 [==============================] - 3s 7ms/step - loss: 0.8166 - accuracy: 0.7839\n",
            "Epoch 414/500\n",
            "484/484 [==============================] - 3s 7ms/step - loss: 0.8142 - accuracy: 0.7849\n",
            "Epoch 415/500\n",
            "484/484 [==============================] - 3s 7ms/step - loss: 0.8258 - accuracy: 0.7814\n",
            "Epoch 416/500\n",
            "484/484 [==============================] - 3s 7ms/step - loss: 0.8259 - accuracy: 0.7818\n",
            "Epoch 417/500\n",
            "484/484 [==============================] - 3s 7ms/step - loss: 0.8051 - accuracy: 0.7856\n",
            "Epoch 418/500\n",
            "484/484 [==============================] - 3s 7ms/step - loss: 0.8148 - accuracy: 0.7874\n",
            "Epoch 419/500\n",
            "484/484 [==============================] - 3s 7ms/step - loss: 0.8135 - accuracy: 0.7818\n",
            "Epoch 420/500\n",
            "484/484 [==============================] - 3s 7ms/step - loss: 0.8085 - accuracy: 0.7852\n",
            "Epoch 421/500\n",
            "484/484 [==============================] - 3s 7ms/step - loss: 0.8136 - accuracy: 0.7865\n",
            "Epoch 422/500\n",
            "484/484 [==============================] - 3s 7ms/step - loss: 0.8188 - accuracy: 0.7806\n",
            "Epoch 423/500\n",
            "484/484 [==============================] - 3s 7ms/step - loss: 0.8194 - accuracy: 0.7844\n",
            "Epoch 424/500\n",
            "484/484 [==============================] - 3s 7ms/step - loss: 0.8221 - accuracy: 0.7812\n",
            "Epoch 425/500\n",
            "484/484 [==============================] - 3s 7ms/step - loss: 0.8115 - accuracy: 0.7826\n",
            "Epoch 426/500\n",
            "484/484 [==============================] - 3s 7ms/step - loss: 0.7972 - accuracy: 0.7857\n",
            "Epoch 427/500\n",
            "484/484 [==============================] - 3s 7ms/step - loss: 0.7898 - accuracy: 0.7897\n",
            "Epoch 428/500\n",
            "484/484 [==============================] - 3s 7ms/step - loss: 0.8117 - accuracy: 0.7837\n",
            "Epoch 429/500\n",
            "484/484 [==============================] - 3s 7ms/step - loss: 0.8149 - accuracy: 0.7828\n",
            "Epoch 430/500\n",
            "484/484 [==============================] - 3s 7ms/step - loss: 0.8075 - accuracy: 0.7839\n",
            "Epoch 431/500\n",
            "484/484 [==============================] - 3s 7ms/step - loss: 0.8146 - accuracy: 0.7851\n",
            "Epoch 432/500\n",
            "484/484 [==============================] - 3s 7ms/step - loss: 0.8006 - accuracy: 0.7853\n",
            "Epoch 433/500\n",
            "484/484 [==============================] - 3s 7ms/step - loss: 0.8045 - accuracy: 0.7851\n",
            "Epoch 434/500\n",
            "484/484 [==============================] - 3s 7ms/step - loss: 0.8107 - accuracy: 0.7835\n",
            "Epoch 435/500\n",
            "484/484 [==============================] - 3s 7ms/step - loss: 0.8070 - accuracy: 0.7846\n",
            "Epoch 436/500\n",
            "484/484 [==============================] - 3s 7ms/step - loss: 0.8085 - accuracy: 0.7838\n",
            "Epoch 437/500\n",
            "484/484 [==============================] - 3s 7ms/step - loss: 0.8043 - accuracy: 0.7853\n",
            "Epoch 438/500\n",
            "484/484 [==============================] - 3s 7ms/step - loss: 0.7898 - accuracy: 0.7870\n",
            "Epoch 439/500\n",
            "484/484 [==============================] - 3s 7ms/step - loss: 0.8044 - accuracy: 0.7850\n",
            "Epoch 440/500\n",
            "484/484 [==============================] - 3s 7ms/step - loss: 0.8146 - accuracy: 0.7824\n",
            "Epoch 441/500\n",
            "484/484 [==============================] - 3s 7ms/step - loss: 0.8124 - accuracy: 0.7860\n",
            "Epoch 442/500\n",
            "484/484 [==============================] - 4s 9ms/step - loss: 0.8023 - accuracy: 0.7871\n",
            "Epoch 443/500\n",
            "484/484 [==============================] - 4s 7ms/step - loss: 0.7919 - accuracy: 0.7899\n",
            "Epoch 444/500\n",
            "484/484 [==============================] - 4s 8ms/step - loss: 0.7824 - accuracy: 0.7896\n",
            "Epoch 445/500\n",
            "484/484 [==============================] - 4s 8ms/step - loss: 0.8081 - accuracy: 0.7866\n",
            "Epoch 446/500\n",
            "484/484 [==============================] - 5s 10ms/step - loss: 0.7914 - accuracy: 0.7875\n",
            "Epoch 447/500\n",
            "484/484 [==============================] - 5s 9ms/step - loss: 0.7921 - accuracy: 0.7880\n",
            "Epoch 448/500\n",
            "484/484 [==============================] - 4s 9ms/step - loss: 0.7984 - accuracy: 0.7879\n",
            "Epoch 449/500\n",
            "484/484 [==============================] - 4s 9ms/step - loss: 0.7937 - accuracy: 0.7877\n",
            "Epoch 450/500\n",
            "484/484 [==============================] - 4s 8ms/step - loss: 0.7939 - accuracy: 0.7888\n",
            "Epoch 451/500\n",
            "484/484 [==============================] - 4s 8ms/step - loss: 0.7965 - accuracy: 0.7897\n",
            "Epoch 452/500\n",
            "484/484 [==============================] - 4s 8ms/step - loss: 0.7992 - accuracy: 0.7876\n",
            "Epoch 453/500\n",
            "484/484 [==============================] - 4s 8ms/step - loss: 0.7704 - accuracy: 0.7937\n",
            "Epoch 454/500\n",
            "484/484 [==============================] - 3s 7ms/step - loss: 0.7849 - accuracy: 0.7902\n",
            "Epoch 455/500\n",
            "484/484 [==============================] - 3s 7ms/step - loss: 0.7920 - accuracy: 0.7899\n",
            "Epoch 456/500\n",
            "484/484 [==============================] - 3s 7ms/step - loss: 0.7836 - accuracy: 0.7917\n",
            "Epoch 457/500\n",
            "484/484 [==============================] - 4s 7ms/step - loss: 0.7976 - accuracy: 0.7886\n",
            "Epoch 458/500\n",
            "484/484 [==============================] - 3s 7ms/step - loss: 0.7969 - accuracy: 0.7855\n",
            "Epoch 459/500\n",
            "484/484 [==============================] - 3s 7ms/step - loss: 0.7805 - accuracy: 0.7900\n",
            "Epoch 460/500\n",
            "484/484 [==============================] - 3s 7ms/step - loss: 0.7890 - accuracy: 0.7903\n",
            "Epoch 461/500\n",
            "484/484 [==============================] - 3s 7ms/step - loss: 0.7828 - accuracy: 0.7929\n",
            "Epoch 462/500\n",
            "484/484 [==============================] - 3s 7ms/step - loss: 0.7839 - accuracy: 0.7892\n",
            "Epoch 463/500\n",
            "484/484 [==============================] - 3s 7ms/step - loss: 0.7904 - accuracy: 0.7892\n",
            "Epoch 464/500\n",
            "484/484 [==============================] - 3s 7ms/step - loss: 0.7746 - accuracy: 0.7942\n",
            "Epoch 465/500\n",
            "484/484 [==============================] - 3s 7ms/step - loss: 0.7874 - accuracy: 0.7909\n",
            "Epoch 466/500\n",
            "484/484 [==============================] - 3s 7ms/step - loss: 0.7852 - accuracy: 0.7881\n",
            "Epoch 467/500\n",
            "484/484 [==============================] - 3s 7ms/step - loss: 0.7855 - accuracy: 0.7906\n",
            "Epoch 468/500\n",
            "484/484 [==============================] - 3s 7ms/step - loss: 0.7898 - accuracy: 0.7869\n",
            "Epoch 469/500\n",
            "484/484 [==============================] - 3s 7ms/step - loss: 0.7907 - accuracy: 0.7908\n",
            "Epoch 470/500\n",
            "484/484 [==============================] - 4s 7ms/step - loss: 0.7730 - accuracy: 0.7943\n",
            "Epoch 471/500\n",
            "484/484 [==============================] - 4s 7ms/step - loss: 0.7698 - accuracy: 0.7974\n",
            "Epoch 472/500\n",
            "484/484 [==============================] - 4s 7ms/step - loss: 0.7953 - accuracy: 0.7856\n",
            "Epoch 473/500\n",
            "484/484 [==============================] - 3s 7ms/step - loss: 0.7969 - accuracy: 0.7921\n",
            "Epoch 474/500\n",
            "484/484 [==============================] - 3s 7ms/step - loss: 0.7787 - accuracy: 0.7916\n",
            "Epoch 475/500\n",
            "484/484 [==============================] - 3s 7ms/step - loss: 0.7718 - accuracy: 0.7914\n",
            "Epoch 476/500\n",
            "484/484 [==============================] - 3s 7ms/step - loss: 0.7750 - accuracy: 0.7908\n",
            "Epoch 477/500\n",
            "484/484 [==============================] - 3s 7ms/step - loss: 0.7806 - accuracy: 0.7891\n",
            "Epoch 478/500\n",
            "484/484 [==============================] - 3s 7ms/step - loss: 0.7959 - accuracy: 0.7909\n",
            "Epoch 479/500\n",
            "484/484 [==============================] - 3s 7ms/step - loss: 0.7730 - accuracy: 0.7939\n",
            "Epoch 480/500\n",
            "484/484 [==============================] - 3s 7ms/step - loss: 0.7773 - accuracy: 0.7922\n",
            "Epoch 481/500\n",
            "484/484 [==============================] - 3s 7ms/step - loss: 0.7851 - accuracy: 0.7862\n",
            "Epoch 482/500\n",
            "484/484 [==============================] - 3s 7ms/step - loss: 0.7925 - accuracy: 0.7901\n",
            "Epoch 483/500\n",
            "484/484 [==============================] - 3s 7ms/step - loss: 0.7646 - accuracy: 0.7923\n",
            "Epoch 484/500\n",
            "484/484 [==============================] - 3s 7ms/step - loss: 0.7896 - accuracy: 0.7882\n",
            "Epoch 485/500\n",
            "484/484 [==============================] - 3s 7ms/step - loss: 0.7736 - accuracy: 0.7921\n",
            "Epoch 486/500\n",
            "484/484 [==============================] - 3s 7ms/step - loss: 0.7757 - accuracy: 0.7954\n",
            "Epoch 487/500\n",
            "484/484 [==============================] - 3s 7ms/step - loss: 0.7719 - accuracy: 0.7945\n",
            "Epoch 488/500\n",
            "484/484 [==============================] - 3s 7ms/step - loss: 0.7606 - accuracy: 0.7961\n",
            "Epoch 489/500\n",
            "484/484 [==============================] - 3s 7ms/step - loss: 0.7782 - accuracy: 0.7930\n",
            "Epoch 490/500\n",
            "484/484 [==============================] - 3s 7ms/step - loss: 0.7640 - accuracy: 0.7935\n",
            "Epoch 491/500\n",
            "484/484 [==============================] - 3s 7ms/step - loss: 0.7700 - accuracy: 0.7950\n",
            "Epoch 492/500\n",
            "484/484 [==============================] - 3s 7ms/step - loss: 0.7516 - accuracy: 0.7979\n",
            "Epoch 493/500\n",
            "484/484 [==============================] - 4s 7ms/step - loss: 0.7745 - accuracy: 0.7934\n",
            "Epoch 494/500\n",
            "484/484 [==============================] - 3s 7ms/step - loss: 0.7701 - accuracy: 0.7960\n",
            "Epoch 495/500\n",
            "484/484 [==============================] - 3s 7ms/step - loss: 0.7736 - accuracy: 0.7936\n",
            "Epoch 496/500\n",
            "484/484 [==============================] - 3s 7ms/step - loss: 0.7680 - accuracy: 0.7965\n",
            "Epoch 497/500\n",
            "484/484 [==============================] - 3s 7ms/step - loss: 0.7739 - accuracy: 0.7899\n",
            "Epoch 498/500\n",
            "484/484 [==============================] - 3s 7ms/step - loss: 0.7599 - accuracy: 0.7961\n",
            "Epoch 499/500\n",
            "484/484 [==============================] - 3s 7ms/step - loss: 0.7723 - accuracy: 0.7943\n",
            "Epoch 500/500\n",
            "484/484 [==============================] - 3s 7ms/step - loss: 0.7768 - accuracy: 0.7913\n"
          ]
        }
      ]
    },
    {
      "cell_type": "code",
      "source": [
        "seed_text = \"Help me Obi Wan Kenobi, you're my only hope\"\n",
        "next_words = 100\n",
        "for _ in range(100):\n",
        "  seed_seq=tokenizer.texts_to_sequences([seed_text])[0]\n",
        "  seed_pad=pad_sequences([seed_seq],maxlen=max_length-1,truncating='pre',padding='pre')\n",
        "  word_num=np.argmax(model.predict(seed_pad),axis=1)\n",
        "  word=''\n",
        "  for key,value in tokenizer.word_index.items():\n",
        "    if word_num==value:\n",
        "      word=key\n",
        "      break\n",
        "  seed_text+=' '+word\n",
        "\n"
      ],
      "metadata": {
        "id": "qeQffDCmI3py"
      },
      "execution_count": 19,
      "outputs": []
    },
    {
      "cell_type": "code",
      "source": [
        "seed_text"
      ],
      "metadata": {
        "colab": {
          "base_uri": "https://localhost:8080/",
          "height": 105
        },
        "id": "OqnIubIxRMhu",
        "outputId": "91c1874d-213d-4aeb-9670-80b382846075"
      },
      "execution_count": 20,
      "outputs": [
        {
          "output_type": "execute_result",
          "data": {
            "text/plain": [
              "\"Help me Obi Wan Kenobi, you're my only hope answer such make them me ' your ' hath knit her mind esteem feast thee young brow near near gone ' abundant ' east my rhyme ' ' truth her 'will' ' fair fair ' great fall of it latch dead grew rolling dress reap rolling rolling dress clears heaven fair horse ' groan young up tongue groan fair your feature ' thine and have ' ' great ' ' so grave of thee his heart ' ' young it ' ' grave her dear love in thee his devil breast ' ' ' ' her grave her ' sight\""
            ],
            "application/vnd.google.colaboratory.intrinsic+json": {
              "type": "string"
            }
          },
          "metadata": {},
          "execution_count": 20
        }
      ]
    },
    {
      "cell_type": "code",
      "source": [
        ""
      ],
      "metadata": {
        "id": "WVCK150kTmCr"
      },
      "execution_count": null,
      "outputs": []
    }
  ]
}