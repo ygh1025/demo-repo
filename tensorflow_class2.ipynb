{
  "cells": [
    {
      "cell_type": "markdown",
      "metadata": {
        "id": "view-in-github",
        "colab_type": "text"
      },
      "source": [
        "<a href=\"https://colab.research.google.com/github/ygh1025/demo-repo/blob/main/tensorflow_class2.ipynb\" target=\"_parent\"><img src=\"https://colab.research.google.com/assets/colab-badge.svg\" alt=\"Open In Colab\"/></a>"
      ]
    },
    {
      "cell_type": "code",
      "execution_count": 2,
      "metadata": {
        "colab": {
          "base_uri": "https://localhost:8080/"
        },
        "id": "dsOUL-wOev4e",
        "outputId": "39eb7e00-8432-43da-de45-ce8367eebc2b"
      },
      "outputs": [
        {
          "output_type": "stream",
          "name": "stdout",
          "text": [
            "--2022-05-01 02:39:48--  https://download.microsoft.com/download/3/E/1/3E1C3F21-ECDB-4869-8368-6DEBA77B919F/kagglecatsanddogs_3367a.zip\n",
            "Resolving download.microsoft.com (download.microsoft.com)... 23.72.44.106, 2600:1417:3f:128b::e59, 2600:1417:3f:1285::e59\n",
            "Connecting to download.microsoft.com (download.microsoft.com)|23.72.44.106|:443... connected.\n",
            "HTTP request sent, awaiting response... 200 OK\n",
            "Length: 824894548 (787M) [application/octet-stream]\n",
            "Saving to: ‘/tmp/cats-and-dogs.zip’\n",
            "\n",
            "/tmp/cats-and-dogs. 100%[===================>] 786.68M   212MB/s    in 3.9s    \n",
            "\n",
            "2022-05-01 02:39:52 (200 MB/s) - ‘/tmp/cats-and-dogs.zip’ saved [824894548/824894548]\n",
            "\n"
          ]
        }
      ],
      "source": [
        "!wget --no-check-certificate \\\n",
        "    \"https://download.microsoft.com/download/3/E/1/3E1C3F21-ECDB-4869-8368-6DEBA77B919F/kagglecatsanddogs_3367a.zip\" \\\n",
        "    -O \"/tmp/cats-and-dogs.zip\"\n"
      ]
    },
    {
      "cell_type": "code",
      "execution_count": 3,
      "metadata": {
        "id": "mz5jLZzKfBsj"
      },
      "outputs": [],
      "source": [
        "import zipfile\n",
        "import os\n"
      ]
    },
    {
      "cell_type": "code",
      "execution_count": 4,
      "metadata": {
        "id": "zNlt0v52g7lu"
      },
      "outputs": [],
      "source": [
        "from shutil import copyfile"
      ]
    },
    {
      "cell_type": "code",
      "execution_count": 5,
      "metadata": {
        "id": "kzjEH9ybfKA5"
      },
      "outputs": [],
      "source": [
        "fileref=zipfile.ZipFile('/tmp/cats-and-dogs.zip','r')\n",
        "fileref.extractall()\n",
        "fileref.close()"
      ]
    },
    {
      "cell_type": "code",
      "execution_count": 6,
      "metadata": {
        "id": "btk7W-tVgJcu"
      },
      "outputs": [],
      "source": [
        "import random"
      ]
    },
    {
      "cell_type": "code",
      "execution_count": 7,
      "metadata": {
        "colab": {
          "base_uri": "https://localhost:8080/",
          "height": 166
        },
        "id": "spcNd59GhUZw",
        "outputId": "54af7955-3308-4cca-88d7-1b9662ee22c7"
      },
      "outputs": [
        {
          "output_type": "error",
          "ename": "AttributeError",
          "evalue": "ignored",
          "traceback": [
            "\u001b[0;31m---------------------------------------------------------------------------\u001b[0m",
            "\u001b[0;31mAttributeError\u001b[0m                            Traceback (most recent call last)",
            "\u001b[0;32m<ipython-input-7-89e5ce74453d>\u001b[0m in \u001b[0;36m<module>\u001b[0;34m()\u001b[0m\n\u001b[0;32m----> 1\u001b[0;31m \u001b[0mos\u001b[0m\u001b[0;34m.\u001b[0m\u001b[0mlistdir\u001b[0m\u001b[0;34m(\u001b[0m\u001b[0;34m'PetImages/Cat'\u001b[0m\u001b[0;34m)\u001b[0m\u001b[0;34m[\u001b[0m\u001b[0;36m0\u001b[0m\u001b[0;34m]\u001b[0m\u001b[0;34m.\u001b[0m\u001b[0msize\u001b[0m\u001b[0;34m\u001b[0m\u001b[0;34m\u001b[0m\u001b[0m\n\u001b[0m",
            "\u001b[0;31mAttributeError\u001b[0m: 'str' object has no attribute 'size'"
          ]
        }
      ],
      "source": [
        "os.listdir('PetImages/Cat')[0].size"
      ]
    },
    {
      "cell_type": "code",
      "execution_count": null,
      "metadata": {
        "id": "3znvK70VlEPY"
      },
      "outputs": [],
      "source": [
        "os.join"
      ]
    },
    {
      "cell_type": "code",
      "execution_count": 8,
      "metadata": {
        "id": "zzmNj1mbht6j",
        "colab": {
          "base_uri": "https://localhost:8080/",
          "height": 235
        },
        "outputId": "5849dfed-b79a-445e-a621-8cc54d91182b"
      },
      "outputs": [
        {
          "output_type": "error",
          "ename": "FileExistsError",
          "evalue": "ignored",
          "traceback": [
            "\u001b[0;31m---------------------------------------------------------------------------\u001b[0m",
            "\u001b[0;31mFileExistsError\u001b[0m                           Traceback (most recent call last)",
            "\u001b[0;32m<ipython-input-8-68abab80e45a>\u001b[0m in \u001b[0;36m<module>\u001b[0;34m()\u001b[0m\n\u001b[0;32m----> 1\u001b[0;31m \u001b[0mos\u001b[0m\u001b[0;34m.\u001b[0m\u001b[0mmkdir\u001b[0m\u001b[0;34m(\u001b[0m\u001b[0;34m'train'\u001b[0m\u001b[0;34m)\u001b[0m\u001b[0;34m\u001b[0m\u001b[0;34m\u001b[0m\u001b[0m\n\u001b[0m\u001b[1;32m      2\u001b[0m \u001b[0mos\u001b[0m\u001b[0;34m.\u001b[0m\u001b[0mmkdir\u001b[0m\u001b[0;34m(\u001b[0m\u001b[0;34m'test'\u001b[0m\u001b[0;34m)\u001b[0m\u001b[0;34m\u001b[0m\u001b[0;34m\u001b[0m\u001b[0m\n\u001b[1;32m      3\u001b[0m \u001b[0mos\u001b[0m\u001b[0;34m.\u001b[0m\u001b[0mmkdir\u001b[0m\u001b[0;34m(\u001b[0m\u001b[0;34m'train/Cat'\u001b[0m\u001b[0;34m)\u001b[0m\u001b[0;34m\u001b[0m\u001b[0;34m\u001b[0m\u001b[0m\n\u001b[1;32m      4\u001b[0m \u001b[0mos\u001b[0m\u001b[0;34m.\u001b[0m\u001b[0mmkdir\u001b[0m\u001b[0;34m(\u001b[0m\u001b[0;34m'train/Dog'\u001b[0m\u001b[0;34m)\u001b[0m\u001b[0;34m\u001b[0m\u001b[0;34m\u001b[0m\u001b[0m\n\u001b[1;32m      5\u001b[0m \u001b[0mos\u001b[0m\u001b[0;34m.\u001b[0m\u001b[0mmkdir\u001b[0m\u001b[0;34m(\u001b[0m\u001b[0;34m'test/Cat'\u001b[0m\u001b[0;34m)\u001b[0m\u001b[0;34m\u001b[0m\u001b[0;34m\u001b[0m\u001b[0m\n",
            "\u001b[0;31mFileExistsError\u001b[0m: [Errno 17] File exists: 'train'"
          ]
        }
      ],
      "source": [
        "os.mkdir('train')\n",
        "os.mkdir('test')\n",
        "os.mkdir('train/Cat')\n",
        "os.mkdir('train/Dog')\n",
        "os.mkdir('test/Cat')\n",
        "os.mkdir('test/Dog')"
      ]
    },
    {
      "cell_type": "code",
      "execution_count": null,
      "metadata": {
        "id": "AmGGsz1to6Ls"
      },
      "outputs": [],
      "source": [
        ""
      ]
    },
    {
      "cell_type": "code",
      "execution_count": 51,
      "metadata": {
        "id": "EiKWm_xGivOU"
      },
      "outputs": [],
      "source": [
        "def files_copy(source,destination,file_size=0.9):\n",
        "  filenames=os.listdir(source)\n",
        "  file=[]\n",
        "  for filename in filenames:\n",
        "    if os.path.getsize(os.path.join(source,filename))>0:\n",
        "      file.append(filename)\n",
        "  sfilename=random.sample(file,len(file))\n",
        "  total_size=len(sfilename)\n",
        "  final_size=int(total_size*file_size)\n",
        "  final_filename=sfilename[:final_size]\n",
        "  for name in final_filename:\n",
        "    copyfile(os.path.join(source,name),os.path.join(destination,name))\n",
        "  "
      ]
    },
    {
      "cell_type": "code",
      "execution_count": 52,
      "metadata": {
        "id": "x0gwd7TkivQ4"
      },
      "outputs": [],
      "source": [
        "files_copy('PetImages/Cat','train/Cat')"
      ]
    },
    {
      "cell_type": "code",
      "execution_count": 53,
      "metadata": {
        "id": "98P1VMwvpKiE"
      },
      "outputs": [],
      "source": [
        "files_copy('PetImages/Dog','train/Dog')\n",
        "files_copy('PetImages/Cat','test/Cat',file_size=0.1)\n",
        "files_copy('PetImages/Dog','test/Dog',file_size=0.1)"
      ]
    },
    {
      "cell_type": "code",
      "execution_count": null,
      "metadata": {
        "id": "ITPmdcLwrIJC"
      },
      "outputs": [],
      "source": [
        ""
      ]
    },
    {
      "cell_type": "code",
      "execution_count": 9,
      "metadata": {
        "colab": {
          "base_uri": "https://localhost:8080/"
        },
        "id": "wJvZONHkpv_x",
        "outputId": "f7854264-b6d3-46f2-e23c-813d6f769f4c"
      },
      "outputs": [
        {
          "output_type": "stream",
          "name": "stdout",
          "text": [
            "11250\n",
            "11250\n",
            "1250\n",
            "1250\n"
          ]
        }
      ],
      "source": [
        "print(len(os.listdir('train/Cat')))\n",
        "print(len(os.listdir('train/Dog')))\n",
        "print(len(os.listdir('test/Cat')))\n",
        "print(len(os.listdir('test/Dog')))\n"
      ]
    },
    {
      "cell_type": "code",
      "execution_count": 31,
      "metadata": {
        "id": "QhZw3pePqLOf"
      },
      "outputs": [],
      "source": [
        "from tensorflow.keras.layers import Conv2D,AveragePooling2D,MaxPooling2D,Flatten,Dense\n",
        "from tensorflow.keras import Sequential,Model\n",
        "from tensorflow.keras.preprocessing.image import ImageDataGenerator\n",
        "from tensorflow.keras.optimizers import RMSprop"
      ]
    },
    {
      "cell_type": "code",
      "execution_count": 11,
      "metadata": {
        "colab": {
          "base_uri": "https://localhost:8080/"
        },
        "id": "UvPoDLUqrDiT",
        "outputId": "f8007bac-221b-4d97-a74b-3593a64fb5db"
      },
      "outputs": [
        {
          "output_type": "stream",
          "name": "stdout",
          "text": [
            "Found 22498 images belonging to 2 classes.\n",
            "Found 2500 images belonging to 2 classes.\n"
          ]
        }
      ],
      "source": [
        "train_Datagen=ImageDataGenerator(rescale=1./255.,rotation_range=40,width_shift_range=0.2,\n",
        "                                 height_shift_range=0.2,zoom_range=0.2,shear_range=0.2,\n",
        "                                 horizontal_flip=True,vertical_flip=True)\n",
        "test_Datagen=ImageDataGenerator(rescale=1./255.)\n",
        "train_data=train_Datagen.flow_from_directory('train/',target_size=(150,150),batch_size=100,class_mode='binary')\n",
        "test_data=train_Datagen.flow_from_directory('test/',target_size=(150,150),batch_size=20,class_mode='binary')\n"
      ]
    },
    {
      "cell_type": "markdown",
      "metadata": {
        "id": "d4GJGM61rzMA"
      },
      "source": [
        ""
      ]
    },
    {
      "cell_type": "code",
      "execution_count": 12,
      "metadata": {
        "colab": {
          "base_uri": "https://localhost:8080/"
        },
        "id": "3Wrcp5BFsCOj",
        "outputId": "01678875-8249-4751-87b4-24b5085843bb"
      },
      "outputs": [
        {
          "output_type": "stream",
          "name": "stdout",
          "text": [
            "Model: \"sequential\"\n",
            "_________________________________________________________________\n",
            " Layer (type)                Output Shape              Param #   \n",
            "=================================================================\n",
            " conv2d (Conv2D)             (None, 74, 74, 32)        1568      \n",
            "                                                                 \n",
            " max_pooling2d (MaxPooling2D  (None, 37, 37, 32)       0         \n",
            " )                                                               \n",
            "                                                                 \n",
            " conv2d_1 (Conv2D)           (None, 17, 17, 64)        32832     \n",
            "                                                                 \n",
            " max_pooling2d_1 (MaxPooling  (None, 8, 8, 64)         0         \n",
            " 2D)                                                             \n",
            "                                                                 \n",
            " conv2d_2 (Conv2D)           (None, 3, 3, 64)          65600     \n",
            "                                                                 \n",
            " max_pooling2d_2 (MaxPooling  (None, 1, 1, 64)         0         \n",
            " 2D)                                                             \n",
            "                                                                 \n",
            " flatten (Flatten)           (None, 64)                0         \n",
            "                                                                 \n",
            " dense (Dense)               (None, 512)               33280     \n",
            "                                                                 \n",
            " dense_1 (Dense)             (None, 1)                 513       \n",
            "                                                                 \n",
            "=================================================================\n",
            "Total params: 133,793\n",
            "Trainable params: 133,793\n",
            "Non-trainable params: 0\n",
            "_________________________________________________________________\n"
          ]
        }
      ],
      "source": [
        "model=Sequential([\n",
        "    Conv2D(32,kernel_size=(4,4),strides=2,activation='relu',input_shape=(150,150,3)),\n",
        "    MaxPooling2D(pool_size=(2,2),strides=(2,2)),\n",
        "    Conv2D(64,kernel_size=(4,4),strides=2,activation='relu'),\n",
        "    MaxPooling2D(pool_size=(2,2),strides=(2,2)),\n",
        "    Conv2D(64,kernel_size=(4,4),strides=2,activation='relu'),\n",
        "    MaxPooling2D(pool_size=(2,2),strides=(2,2)),\n",
        "    Flatten(),\n",
        "    Dense(512,activation='relu'),\n",
        "    Dense(1,activation='sigmoid')    \n",
        "])\n",
        "model.summary()"
      ]
    },
    {
      "cell_type": "code",
      "execution_count": null,
      "metadata": {
        "id": "W31Srd0G3c4E"
      },
      "outputs": [],
      "source": [
        ": 0.0698 - accuracy: 0.9775 - val_loss: 0.0631 - val_accuracy: 0.9820"
      ]
    },
    {
      "cell_type": "code",
      "execution_count": 13,
      "metadata": {
        "colab": {
          "base_uri": "https://localhost:8080/",
          "height": 1000
        },
        "id": "NvfD_C6DtKks",
        "outputId": "e073c9b2-2459-4b53-cee7-f69ac0b0e01f"
      },
      "outputs": [
        {
          "output_type": "stream",
          "name": "stdout",
          "text": [
            "Epoch 1/50\n",
            "112/112 [==============================] - 90s 766ms/step - loss: 0.7013 - accuracy: 0.5223 - val_loss: 0.6917 - val_accuracy: 0.5323\n",
            "Epoch 2/50\n",
            " 11/112 [=>............................] - ETA: 1:10 - loss: 0.6884 - accuracy: 0.5218"
          ]
        },
        {
          "output_type": "stream",
          "name": "stderr",
          "text": [
            "/usr/local/lib/python3.7/dist-packages/PIL/TiffImagePlugin.py:770: UserWarning: Possibly corrupt EXIF data.  Expecting to read 32 bytes but only got 0. Skipping tag 270\n",
            "  \" Skipping tag %s\" % (size, len(data), tag)\n",
            "/usr/local/lib/python3.7/dist-packages/PIL/TiffImagePlugin.py:770: UserWarning: Possibly corrupt EXIF data.  Expecting to read 5 bytes but only got 0. Skipping tag 271\n",
            "  \" Skipping tag %s\" % (size, len(data), tag)\n",
            "/usr/local/lib/python3.7/dist-packages/PIL/TiffImagePlugin.py:770: UserWarning: Possibly corrupt EXIF data.  Expecting to read 8 bytes but only got 0. Skipping tag 272\n",
            "  \" Skipping tag %s\" % (size, len(data), tag)\n",
            "/usr/local/lib/python3.7/dist-packages/PIL/TiffImagePlugin.py:770: UserWarning: Possibly corrupt EXIF data.  Expecting to read 8 bytes but only got 0. Skipping tag 282\n",
            "  \" Skipping tag %s\" % (size, len(data), tag)\n",
            "/usr/local/lib/python3.7/dist-packages/PIL/TiffImagePlugin.py:770: UserWarning: Possibly corrupt EXIF data.  Expecting to read 8 bytes but only got 0. Skipping tag 283\n",
            "  \" Skipping tag %s\" % (size, len(data), tag)\n",
            "/usr/local/lib/python3.7/dist-packages/PIL/TiffImagePlugin.py:770: UserWarning: Possibly corrupt EXIF data.  Expecting to read 20 bytes but only got 0. Skipping tag 306\n",
            "  \" Skipping tag %s\" % (size, len(data), tag)\n",
            "/usr/local/lib/python3.7/dist-packages/PIL/TiffImagePlugin.py:770: UserWarning: Possibly corrupt EXIF data.  Expecting to read 48 bytes but only got 0. Skipping tag 532\n",
            "  \" Skipping tag %s\" % (size, len(data), tag)\n",
            "/usr/local/lib/python3.7/dist-packages/PIL/TiffImagePlugin.py:788: UserWarning: Corrupt EXIF data.  Expecting to read 2 bytes but only got 0. \n",
            "  warnings.warn(str(msg))\n"
          ]
        },
        {
          "output_type": "stream",
          "name": "stdout",
          "text": [
            "112/112 [==============================] - 86s 765ms/step - loss: 0.6886 - accuracy: 0.5454 - val_loss: 0.7429 - val_accuracy: 0.4935\n",
            "Epoch 3/50\n",
            "112/112 [==============================] - 87s 778ms/step - loss: 0.6882 - accuracy: 0.5604 - val_loss: 0.7059 - val_accuracy: 0.5371\n",
            "Epoch 4/50\n",
            "112/112 [==============================] - 86s 764ms/step - loss: 0.6802 - accuracy: 0.5900 - val_loss: 0.6465 - val_accuracy: 0.6339\n",
            "Epoch 5/50\n",
            "112/112 [==============================] - 86s 768ms/step - loss: 0.6629 - accuracy: 0.6019 - val_loss: 0.6486 - val_accuracy: 0.6347\n",
            "Epoch 6/50\n",
            "112/112 [==============================] - 86s 770ms/step - loss: 0.6510 - accuracy: 0.6221 - val_loss: 0.6182 - val_accuracy: 0.6653\n",
            "Epoch 7/50\n",
            "112/112 [==============================] - 84s 753ms/step - loss: 0.6578 - accuracy: 0.6306 - val_loss: 0.5983 - val_accuracy: 0.6911\n",
            "Epoch 8/50\n",
            "112/112 [==============================] - 84s 754ms/step - loss: 0.6438 - accuracy: 0.6263 - val_loss: 0.6235 - val_accuracy: 0.6573\n",
            "Epoch 9/50\n",
            "112/112 [==============================] - 84s 749ms/step - loss: 0.6408 - accuracy: 0.6376 - val_loss: 0.6283 - val_accuracy: 0.6403\n",
            "Epoch 10/50\n",
            "112/112 [==============================] - 84s 750ms/step - loss: 0.6441 - accuracy: 0.6323 - val_loss: 0.6234 - val_accuracy: 0.6798\n",
            "Epoch 11/50\n",
            "112/112 [==============================] - 84s 752ms/step - loss: 0.6288 - accuracy: 0.6582 - val_loss: 0.6299 - val_accuracy: 0.6540\n",
            "Epoch 12/50\n",
            " 26/112 [=====>........................] - ETA: 57s - loss: 0.6266 - accuracy: 0.6454"
          ]
        },
        {
          "output_type": "error",
          "ename": "KeyboardInterrupt",
          "evalue": "ignored",
          "traceback": [
            "\u001b[0;31m---------------------------------------------------------------------------\u001b[0m",
            "\u001b[0;31mKeyboardInterrupt\u001b[0m                         Traceback (most recent call last)",
            "\u001b[0;32m<ipython-input-13-60a1cdb53fcf>\u001b[0m in \u001b[0;36m<module>\u001b[0;34m()\u001b[0m\n\u001b[1;32m      1\u001b[0m \u001b[0mmodel\u001b[0m\u001b[0;34m.\u001b[0m\u001b[0mcompile\u001b[0m\u001b[0;34m(\u001b[0m\u001b[0mloss\u001b[0m\u001b[0;34m=\u001b[0m\u001b[0;34m'binary_crossentropy'\u001b[0m\u001b[0;34m,\u001b[0m\u001b[0moptimizer\u001b[0m\u001b[0;34m=\u001b[0m\u001b[0mRMSprop\u001b[0m\u001b[0;34m(\u001b[0m\u001b[0mlearning_rate\u001b[0m\u001b[0;34m=\u001b[0m\u001b[0;36m0.003\u001b[0m\u001b[0;34m)\u001b[0m\u001b[0;34m,\u001b[0m\u001b[0mmetrics\u001b[0m\u001b[0;34m=\u001b[0m\u001b[0;34m[\u001b[0m\u001b[0;34m'accuracy'\u001b[0m\u001b[0;34m]\u001b[0m\u001b[0;34m)\u001b[0m\u001b[0;34m\u001b[0m\u001b[0;34m\u001b[0m\u001b[0m\n\u001b[0;32m----> 2\u001b[0;31m \u001b[0mhist\u001b[0m\u001b[0;34m=\u001b[0m\u001b[0mmodel\u001b[0m\u001b[0;34m.\u001b[0m\u001b[0mfit\u001b[0m\u001b[0;34m(\u001b[0m\u001b[0mtrain_data\u001b[0m\u001b[0;34m,\u001b[0m\u001b[0mepochs\u001b[0m\u001b[0;34m=\u001b[0m\u001b[0;36m50\u001b[0m\u001b[0;34m,\u001b[0m\u001b[0msteps_per_epoch\u001b[0m\u001b[0;34m=\u001b[0m\u001b[0mint\u001b[0m\u001b[0;34m(\u001b[0m\u001b[0;36m11250\u001b[0m\u001b[0;34m/\u001b[0m\u001b[0;36m100\u001b[0m\u001b[0;34m)\u001b[0m\u001b[0;34m,\u001b[0m\u001b[0mvalidation_steps\u001b[0m\u001b[0;34m=\u001b[0m\u001b[0mint\u001b[0m\u001b[0;34m(\u001b[0m\u001b[0;36m1250\u001b[0m\u001b[0;34m/\u001b[0m\u001b[0;36m20\u001b[0m\u001b[0;34m)\u001b[0m\u001b[0;34m,\u001b[0m\u001b[0mvalidation_data\u001b[0m\u001b[0;34m=\u001b[0m\u001b[0mtest_data\u001b[0m\u001b[0;34m)\u001b[0m\u001b[0;34m\u001b[0m\u001b[0;34m\u001b[0m\u001b[0m\n\u001b[0m",
            "\u001b[0;32m/usr/local/lib/python3.7/dist-packages/keras/utils/traceback_utils.py\u001b[0m in \u001b[0;36merror_handler\u001b[0;34m(*args, **kwargs)\u001b[0m\n\u001b[1;32m     62\u001b[0m     \u001b[0mfiltered_tb\u001b[0m \u001b[0;34m=\u001b[0m \u001b[0;32mNone\u001b[0m\u001b[0;34m\u001b[0m\u001b[0;34m\u001b[0m\u001b[0m\n\u001b[1;32m     63\u001b[0m     \u001b[0;32mtry\u001b[0m\u001b[0;34m:\u001b[0m\u001b[0;34m\u001b[0m\u001b[0;34m\u001b[0m\u001b[0m\n\u001b[0;32m---> 64\u001b[0;31m       \u001b[0;32mreturn\u001b[0m \u001b[0mfn\u001b[0m\u001b[0;34m(\u001b[0m\u001b[0;34m*\u001b[0m\u001b[0margs\u001b[0m\u001b[0;34m,\u001b[0m \u001b[0;34m**\u001b[0m\u001b[0mkwargs\u001b[0m\u001b[0;34m)\u001b[0m\u001b[0;34m\u001b[0m\u001b[0;34m\u001b[0m\u001b[0m\n\u001b[0m\u001b[1;32m     65\u001b[0m     \u001b[0;32mexcept\u001b[0m \u001b[0mException\u001b[0m \u001b[0;32mas\u001b[0m \u001b[0me\u001b[0m\u001b[0;34m:\u001b[0m  \u001b[0;31m# pylint: disable=broad-except\u001b[0m\u001b[0;34m\u001b[0m\u001b[0;34m\u001b[0m\u001b[0m\n\u001b[1;32m     66\u001b[0m       \u001b[0mfiltered_tb\u001b[0m \u001b[0;34m=\u001b[0m \u001b[0m_process_traceback_frames\u001b[0m\u001b[0;34m(\u001b[0m\u001b[0me\u001b[0m\u001b[0;34m.\u001b[0m\u001b[0m__traceback__\u001b[0m\u001b[0;34m)\u001b[0m\u001b[0;34m\u001b[0m\u001b[0;34m\u001b[0m\u001b[0m\n",
            "\u001b[0;32m/usr/local/lib/python3.7/dist-packages/keras/engine/training.py\u001b[0m in \u001b[0;36mfit\u001b[0;34m(self, x, y, batch_size, epochs, verbose, callbacks, validation_split, validation_data, shuffle, class_weight, sample_weight, initial_epoch, steps_per_epoch, validation_steps, validation_batch_size, validation_freq, max_queue_size, workers, use_multiprocessing)\u001b[0m\n\u001b[1;32m   1382\u001b[0m                 _r=1):\n\u001b[1;32m   1383\u001b[0m               \u001b[0mcallbacks\u001b[0m\u001b[0;34m.\u001b[0m\u001b[0mon_train_batch_begin\u001b[0m\u001b[0;34m(\u001b[0m\u001b[0mstep\u001b[0m\u001b[0;34m)\u001b[0m\u001b[0;34m\u001b[0m\u001b[0;34m\u001b[0m\u001b[0m\n\u001b[0;32m-> 1384\u001b[0;31m               \u001b[0mtmp_logs\u001b[0m \u001b[0;34m=\u001b[0m \u001b[0mself\u001b[0m\u001b[0;34m.\u001b[0m\u001b[0mtrain_function\u001b[0m\u001b[0;34m(\u001b[0m\u001b[0miterator\u001b[0m\u001b[0;34m)\u001b[0m\u001b[0;34m\u001b[0m\u001b[0;34m\u001b[0m\u001b[0m\n\u001b[0m\u001b[1;32m   1385\u001b[0m               \u001b[0;32mif\u001b[0m \u001b[0mdata_handler\u001b[0m\u001b[0;34m.\u001b[0m\u001b[0mshould_sync\u001b[0m\u001b[0;34m:\u001b[0m\u001b[0;34m\u001b[0m\u001b[0;34m\u001b[0m\u001b[0m\n\u001b[1;32m   1386\u001b[0m                 \u001b[0mcontext\u001b[0m\u001b[0;34m.\u001b[0m\u001b[0masync_wait\u001b[0m\u001b[0;34m(\u001b[0m\u001b[0;34m)\u001b[0m\u001b[0;34m\u001b[0m\u001b[0;34m\u001b[0m\u001b[0m\n",
            "\u001b[0;32m/usr/local/lib/python3.7/dist-packages/tensorflow/python/util/traceback_utils.py\u001b[0m in \u001b[0;36merror_handler\u001b[0;34m(*args, **kwargs)\u001b[0m\n\u001b[1;32m    148\u001b[0m     \u001b[0mfiltered_tb\u001b[0m \u001b[0;34m=\u001b[0m \u001b[0;32mNone\u001b[0m\u001b[0;34m\u001b[0m\u001b[0;34m\u001b[0m\u001b[0m\n\u001b[1;32m    149\u001b[0m     \u001b[0;32mtry\u001b[0m\u001b[0;34m:\u001b[0m\u001b[0;34m\u001b[0m\u001b[0;34m\u001b[0m\u001b[0m\n\u001b[0;32m--> 150\u001b[0;31m       \u001b[0;32mreturn\u001b[0m \u001b[0mfn\u001b[0m\u001b[0;34m(\u001b[0m\u001b[0;34m*\u001b[0m\u001b[0margs\u001b[0m\u001b[0;34m,\u001b[0m \u001b[0;34m**\u001b[0m\u001b[0mkwargs\u001b[0m\u001b[0;34m)\u001b[0m\u001b[0;34m\u001b[0m\u001b[0;34m\u001b[0m\u001b[0m\n\u001b[0m\u001b[1;32m    151\u001b[0m     \u001b[0;32mexcept\u001b[0m \u001b[0mException\u001b[0m \u001b[0;32mas\u001b[0m \u001b[0me\u001b[0m\u001b[0;34m:\u001b[0m\u001b[0;34m\u001b[0m\u001b[0;34m\u001b[0m\u001b[0m\n\u001b[1;32m    152\u001b[0m       \u001b[0mfiltered_tb\u001b[0m \u001b[0;34m=\u001b[0m \u001b[0m_process_traceback_frames\u001b[0m\u001b[0;34m(\u001b[0m\u001b[0me\u001b[0m\u001b[0;34m.\u001b[0m\u001b[0m__traceback__\u001b[0m\u001b[0;34m)\u001b[0m\u001b[0;34m\u001b[0m\u001b[0;34m\u001b[0m\u001b[0m\n",
            "\u001b[0;32m/usr/local/lib/python3.7/dist-packages/tensorflow/python/eager/def_function.py\u001b[0m in \u001b[0;36m__call__\u001b[0;34m(self, *args, **kwds)\u001b[0m\n\u001b[1;32m    913\u001b[0m \u001b[0;34m\u001b[0m\u001b[0m\n\u001b[1;32m    914\u001b[0m       \u001b[0;32mwith\u001b[0m \u001b[0mOptionalXlaContext\u001b[0m\u001b[0;34m(\u001b[0m\u001b[0mself\u001b[0m\u001b[0;34m.\u001b[0m\u001b[0m_jit_compile\u001b[0m\u001b[0;34m)\u001b[0m\u001b[0;34m:\u001b[0m\u001b[0;34m\u001b[0m\u001b[0;34m\u001b[0m\u001b[0m\n\u001b[0;32m--> 915\u001b[0;31m         \u001b[0mresult\u001b[0m \u001b[0;34m=\u001b[0m \u001b[0mself\u001b[0m\u001b[0;34m.\u001b[0m\u001b[0m_call\u001b[0m\u001b[0;34m(\u001b[0m\u001b[0;34m*\u001b[0m\u001b[0margs\u001b[0m\u001b[0;34m,\u001b[0m \u001b[0;34m**\u001b[0m\u001b[0mkwds\u001b[0m\u001b[0;34m)\u001b[0m\u001b[0;34m\u001b[0m\u001b[0;34m\u001b[0m\u001b[0m\n\u001b[0m\u001b[1;32m    916\u001b[0m \u001b[0;34m\u001b[0m\u001b[0m\n\u001b[1;32m    917\u001b[0m       \u001b[0mnew_tracing_count\u001b[0m \u001b[0;34m=\u001b[0m \u001b[0mself\u001b[0m\u001b[0;34m.\u001b[0m\u001b[0mexperimental_get_tracing_count\u001b[0m\u001b[0;34m(\u001b[0m\u001b[0;34m)\u001b[0m\u001b[0;34m\u001b[0m\u001b[0;34m\u001b[0m\u001b[0m\n",
            "\u001b[0;32m/usr/local/lib/python3.7/dist-packages/tensorflow/python/eager/def_function.py\u001b[0m in \u001b[0;36m_call\u001b[0;34m(self, *args, **kwds)\u001b[0m\n\u001b[1;32m    945\u001b[0m       \u001b[0;31m# In this case we have created variables on the first call, so we run the\u001b[0m\u001b[0;34m\u001b[0m\u001b[0;34m\u001b[0m\u001b[0;34m\u001b[0m\u001b[0m\n\u001b[1;32m    946\u001b[0m       \u001b[0;31m# defunned version which is guaranteed to never create variables.\u001b[0m\u001b[0;34m\u001b[0m\u001b[0;34m\u001b[0m\u001b[0;34m\u001b[0m\u001b[0m\n\u001b[0;32m--> 947\u001b[0;31m       \u001b[0;32mreturn\u001b[0m \u001b[0mself\u001b[0m\u001b[0;34m.\u001b[0m\u001b[0m_stateless_fn\u001b[0m\u001b[0;34m(\u001b[0m\u001b[0;34m*\u001b[0m\u001b[0margs\u001b[0m\u001b[0;34m,\u001b[0m \u001b[0;34m**\u001b[0m\u001b[0mkwds\u001b[0m\u001b[0;34m)\u001b[0m  \u001b[0;31m# pylint: disable=not-callable\u001b[0m\u001b[0;34m\u001b[0m\u001b[0;34m\u001b[0m\u001b[0m\n\u001b[0m\u001b[1;32m    948\u001b[0m     \u001b[0;32melif\u001b[0m \u001b[0mself\u001b[0m\u001b[0;34m.\u001b[0m\u001b[0m_stateful_fn\u001b[0m \u001b[0;32mis\u001b[0m \u001b[0;32mnot\u001b[0m \u001b[0;32mNone\u001b[0m\u001b[0;34m:\u001b[0m\u001b[0;34m\u001b[0m\u001b[0;34m\u001b[0m\u001b[0m\n\u001b[1;32m    949\u001b[0m       \u001b[0;31m# Release the lock early so that multiple threads can perform the call\u001b[0m\u001b[0;34m\u001b[0m\u001b[0;34m\u001b[0m\u001b[0;34m\u001b[0m\u001b[0m\n",
            "\u001b[0;32m/usr/local/lib/python3.7/dist-packages/tensorflow/python/eager/function.py\u001b[0m in \u001b[0;36m__call__\u001b[0;34m(self, *args, **kwargs)\u001b[0m\n\u001b[1;32m   2955\u001b[0m        filtered_flat_args) = self._maybe_define_function(args, kwargs)\n\u001b[1;32m   2956\u001b[0m     return graph_function._call_flat(\n\u001b[0;32m-> 2957\u001b[0;31m         filtered_flat_args, captured_inputs=graph_function.captured_inputs)  # pylint: disable=protected-access\n\u001b[0m\u001b[1;32m   2958\u001b[0m \u001b[0;34m\u001b[0m\u001b[0m\n\u001b[1;32m   2959\u001b[0m   \u001b[0;34m@\u001b[0m\u001b[0mproperty\u001b[0m\u001b[0;34m\u001b[0m\u001b[0;34m\u001b[0m\u001b[0m\n",
            "\u001b[0;32m/usr/local/lib/python3.7/dist-packages/tensorflow/python/eager/function.py\u001b[0m in \u001b[0;36m_call_flat\u001b[0;34m(self, args, captured_inputs, cancellation_manager)\u001b[0m\n\u001b[1;32m   1852\u001b[0m       \u001b[0;31m# No tape is watching; skip to running the function.\u001b[0m\u001b[0;34m\u001b[0m\u001b[0;34m\u001b[0m\u001b[0;34m\u001b[0m\u001b[0m\n\u001b[1;32m   1853\u001b[0m       return self._build_call_outputs(self._inference_function.call(\n\u001b[0;32m-> 1854\u001b[0;31m           ctx, args, cancellation_manager=cancellation_manager))\n\u001b[0m\u001b[1;32m   1855\u001b[0m     forward_backward = self._select_forward_and_backward_functions(\n\u001b[1;32m   1856\u001b[0m         \u001b[0margs\u001b[0m\u001b[0;34m,\u001b[0m\u001b[0;34m\u001b[0m\u001b[0;34m\u001b[0m\u001b[0m\n",
            "\u001b[0;32m/usr/local/lib/python3.7/dist-packages/tensorflow/python/eager/function.py\u001b[0m in \u001b[0;36mcall\u001b[0;34m(self, ctx, args, cancellation_manager)\u001b[0m\n\u001b[1;32m    502\u001b[0m               \u001b[0minputs\u001b[0m\u001b[0;34m=\u001b[0m\u001b[0margs\u001b[0m\u001b[0;34m,\u001b[0m\u001b[0;34m\u001b[0m\u001b[0;34m\u001b[0m\u001b[0m\n\u001b[1;32m    503\u001b[0m               \u001b[0mattrs\u001b[0m\u001b[0;34m=\u001b[0m\u001b[0mattrs\u001b[0m\u001b[0;34m,\u001b[0m\u001b[0;34m\u001b[0m\u001b[0;34m\u001b[0m\u001b[0m\n\u001b[0;32m--> 504\u001b[0;31m               ctx=ctx)\n\u001b[0m\u001b[1;32m    505\u001b[0m         \u001b[0;32melse\u001b[0m\u001b[0;34m:\u001b[0m\u001b[0;34m\u001b[0m\u001b[0;34m\u001b[0m\u001b[0m\n\u001b[1;32m    506\u001b[0m           outputs = execute.execute_with_cancellation(\n",
            "\u001b[0;32m/usr/local/lib/python3.7/dist-packages/tensorflow/python/eager/execute.py\u001b[0m in \u001b[0;36mquick_execute\u001b[0;34m(op_name, num_outputs, inputs, attrs, ctx, name)\u001b[0m\n\u001b[1;32m     53\u001b[0m     \u001b[0mctx\u001b[0m\u001b[0;34m.\u001b[0m\u001b[0mensure_initialized\u001b[0m\u001b[0;34m(\u001b[0m\u001b[0;34m)\u001b[0m\u001b[0;34m\u001b[0m\u001b[0;34m\u001b[0m\u001b[0m\n\u001b[1;32m     54\u001b[0m     tensors = pywrap_tfe.TFE_Py_Execute(ctx._handle, device_name, op_name,\n\u001b[0;32m---> 55\u001b[0;31m                                         inputs, attrs, num_outputs)\n\u001b[0m\u001b[1;32m     56\u001b[0m   \u001b[0;32mexcept\u001b[0m \u001b[0mcore\u001b[0m\u001b[0;34m.\u001b[0m\u001b[0m_NotOkStatusException\u001b[0m \u001b[0;32mas\u001b[0m \u001b[0me\u001b[0m\u001b[0;34m:\u001b[0m\u001b[0;34m\u001b[0m\u001b[0;34m\u001b[0m\u001b[0m\n\u001b[1;32m     57\u001b[0m     \u001b[0;32mif\u001b[0m \u001b[0mname\u001b[0m \u001b[0;32mis\u001b[0m \u001b[0;32mnot\u001b[0m \u001b[0;32mNone\u001b[0m\u001b[0;34m:\u001b[0m\u001b[0;34m\u001b[0m\u001b[0;34m\u001b[0m\u001b[0m\n",
            "\u001b[0;31mKeyboardInterrupt\u001b[0m: "
          ]
        }
      ],
      "source": [
        "model.compile(loss='binary_crossentropy',optimizer=RMSprop(learning_rate=0.003),metrics=['accuracy'])\n",
        "hist=model.fit(train_data,epochs=50,steps_per_epoch=int(11250/100),validation_steps=int(1250/20),validation_data=test_data)"
      ]
    },
    {
      "cell_type": "code",
      "source": [
        ""
      ],
      "metadata": {
        "id": "QH9-1SICkbmt"
      },
      "execution_count": null,
      "outputs": []
    },
    {
      "cell_type": "code",
      "source": [
        ""
      ],
      "metadata": {
        "id": "WOF_VVNxilX-"
      },
      "execution_count": null,
      "outputs": []
    },
    {
      "cell_type": "code",
      "source": [
        ""
      ],
      "metadata": {
        "id": "KyqJy4PeilUZ"
      },
      "execution_count": null,
      "outputs": []
    },
    {
      "cell_type": "code",
      "source": [
        ""
      ],
      "metadata": {
        "id": "KAZUzP1MilP_"
      },
      "execution_count": null,
      "outputs": []
    },
    {
      "cell_type": "markdown",
      "source": [
        ""
      ],
      "metadata": {
        "id": "K7_YPN77ilII"
      }
    },
    {
      "cell_type": "markdown",
      "source": [
        ""
      ],
      "metadata": {
        "id": "0lcX9hgAhjXF"
      }
    },
    {
      "cell_type": "code",
      "source": [
        ""
      ],
      "metadata": {
        "id": "LMN53HtBhjL8"
      },
      "execution_count": null,
      "outputs": []
    },
    {
      "cell_type": "code",
      "execution_count": 12,
      "metadata": {
        "id": "dkk9vS7qubhv"
      },
      "outputs": [],
      "source": [
        "from tensorflow.keras.applications.inception_v3 import InceptionV3\n",
        "from tensorflow.keras import Sequential,Model\n"
      ]
    },
    {
      "cell_type": "code",
      "execution_count": 13,
      "metadata": {
        "id": "3wzYOOWgubdB"
      },
      "outputs": [],
      "source": [
        "premodel=InceptionV3(input_shape=(150,150,3),include_top=False,weights=None)"
      ]
    },
    {
      "cell_type": "code",
      "execution_count": 14,
      "metadata": {
        "id": "4V1QTSpjL7Bx",
        "colab": {
          "base_uri": "https://localhost:8080/"
        },
        "outputId": "f611093d-91ae-49c0-b04f-9a8569584e06"
      },
      "outputs": [
        {
          "output_type": "stream",
          "name": "stdout",
          "text": [
            "--2022-04-30 01:57:48--  https://storage.googleapis.com/mledu-datasets/inception_v3_weights_tf_dim_ordering_tf_kernels_notop.h5\n",
            "Resolving storage.googleapis.com (storage.googleapis.com)... 173.194.197.128, 173.194.74.128, 173.194.192.128, ...\n",
            "Connecting to storage.googleapis.com (storage.googleapis.com)|173.194.197.128|:443... connected.\n",
            "HTTP request sent, awaiting response... 200 OK\n",
            "Length: 87910968 (84M) [application/x-hdf]\n",
            "Saving to: ‘/tmp/inception_v3_weights_tf_dim_ordering_tf_kernels_notop.h5’\n",
            "\n",
            "/tmp/inception_v3_w 100%[===================>]  83.84M   187MB/s    in 0.4s    \n",
            "\n",
            "2022-04-30 01:57:48 (187 MB/s) - ‘/tmp/inception_v3_weights_tf_dim_ordering_tf_kernels_notop.h5’ saved [87910968/87910968]\n",
            "\n"
          ]
        }
      ],
      "source": [
        "!wget --no-check-certificate \\\n",
        "    https://storage.googleapis.com/mledu-datasets/inception_v3_weights_tf_dim_ordering_tf_kernels_notop.h5 \\\n",
        "    -O /tmp/inception_v3_weights_tf_dim_ordering_tf_kernels_notop.h5\n",
        "\n"
      ]
    },
    {
      "cell_type": "code",
      "execution_count": 15,
      "metadata": {
        "id": "xQAoGBxdL6-C"
      },
      "outputs": [],
      "source": [
        "local_weight='/tmp/inception_v3_weights_tf_dim_ordering_tf_kernels_notop.h5'\n",
        "premodel.load_weights(local_weight)\n",
        "for layer in premodel.layers:\n",
        "  layer.trainable=False\n",
        "#premodel.summary()"
      ]
    },
    {
      "cell_type": "code",
      "execution_count": 16,
      "metadata": {
        "id": "m_4iPzUhL63z"
      },
      "outputs": [],
      "source": [
        "last_layer=premodel.get_layer('mixed7')\n",
        "last_output=last_layer.output"
      ]
    },
    {
      "cell_type": "code",
      "execution_count": 17,
      "metadata": {
        "id": "25crKbFpiqmo"
      },
      "outputs": [],
      "source": [
        "X=Flatten()(last_output)\n",
        "X=Dense(512,activation='relu')(X)\n",
        "X=Dense(1,activation='sigmoid')(X)\n",
        "model=Model(inputs=premodel.input,outputs=X)\n",
        "#model.summary()\n"
      ]
    },
    {
      "cell_type": "code",
      "execution_count": 21,
      "metadata": {
        "id": "xuMmug2UiVcK",
        "colab": {
          "base_uri": "https://localhost:8080/"
        },
        "outputId": "58212aac-2af0-4ccf-cf7a-5bf988aa4705"
      },
      "outputs": [
        {
          "output_type": "stream",
          "name": "stdout",
          "text": [
            "Epoch 1/20\n",
            " 18/225 [=>............................] - ETA: 2:56 - loss: 0.1433 - accuracy: 0.9406"
          ]
        },
        {
          "output_type": "stream",
          "name": "stderr",
          "text": [
            "/usr/local/lib/python3.7/dist-packages/PIL/TiffImagePlugin.py:770: UserWarning: Possibly corrupt EXIF data.  Expecting to read 32 bytes but only got 0. Skipping tag 270\n",
            "  \" Skipping tag %s\" % (size, len(data), tag)\n",
            "/usr/local/lib/python3.7/dist-packages/PIL/TiffImagePlugin.py:770: UserWarning: Possibly corrupt EXIF data.  Expecting to read 5 bytes but only got 0. Skipping tag 271\n",
            "  \" Skipping tag %s\" % (size, len(data), tag)\n",
            "/usr/local/lib/python3.7/dist-packages/PIL/TiffImagePlugin.py:770: UserWarning: Possibly corrupt EXIF data.  Expecting to read 8 bytes but only got 0. Skipping tag 272\n",
            "  \" Skipping tag %s\" % (size, len(data), tag)\n",
            "/usr/local/lib/python3.7/dist-packages/PIL/TiffImagePlugin.py:770: UserWarning: Possibly corrupt EXIF data.  Expecting to read 8 bytes but only got 0. Skipping tag 282\n",
            "  \" Skipping tag %s\" % (size, len(data), tag)\n",
            "/usr/local/lib/python3.7/dist-packages/PIL/TiffImagePlugin.py:770: UserWarning: Possibly corrupt EXIF data.  Expecting to read 8 bytes but only got 0. Skipping tag 283\n",
            "  \" Skipping tag %s\" % (size, len(data), tag)\n",
            "/usr/local/lib/python3.7/dist-packages/PIL/TiffImagePlugin.py:770: UserWarning: Possibly corrupt EXIF data.  Expecting to read 20 bytes but only got 0. Skipping tag 306\n",
            "  \" Skipping tag %s\" % (size, len(data), tag)\n",
            "/usr/local/lib/python3.7/dist-packages/PIL/TiffImagePlugin.py:770: UserWarning: Possibly corrupt EXIF data.  Expecting to read 48 bytes but only got 0. Skipping tag 532\n",
            "  \" Skipping tag %s\" % (size, len(data), tag)\n",
            "/usr/local/lib/python3.7/dist-packages/PIL/TiffImagePlugin.py:788: UserWarning: Corrupt EXIF data.  Expecting to read 2 bytes but only got 0. \n",
            "  warnings.warn(str(msg))\n"
          ]
        },
        {
          "output_type": "stream",
          "name": "stdout",
          "text": [
            "225/225 [==============================] - 216s 940ms/step - loss: 0.1495 - accuracy: 0.9379 - val_loss: 0.1330 - val_accuracy: 0.9460\n",
            "Epoch 2/20\n",
            "225/225 [==============================] - 210s 933ms/step - loss: 0.1469 - accuracy: 0.9397 - val_loss: 0.1427 - val_accuracy: 0.9428\n",
            "Epoch 3/20\n",
            "225/225 [==============================] - 205s 912ms/step - loss: 0.1455 - accuracy: 0.9402 - val_loss: 0.1305 - val_accuracy: 0.9488\n",
            "Epoch 4/20\n",
            "225/225 [==============================] - 206s 917ms/step - loss: 0.1411 - accuracy: 0.9415 - val_loss: 0.1459 - val_accuracy: 0.9428\n",
            "Epoch 5/20\n",
            "225/225 [==============================] - 204s 905ms/step - loss: 0.1405 - accuracy: 0.9418 - val_loss: 0.1330 - val_accuracy: 0.9468\n",
            "Epoch 6/20\n",
            "225/225 [==============================] - 205s 911ms/step - loss: 0.1397 - accuracy: 0.9426 - val_loss: 0.1358 - val_accuracy: 0.9424\n",
            "Epoch 7/20\n",
            "225/225 [==============================] - 207s 920ms/step - loss: 0.1364 - accuracy: 0.9443 - val_loss: 0.1326 - val_accuracy: 0.9460\n",
            "Epoch 8/20\n",
            "225/225 [==============================] - 208s 923ms/step - loss: 0.1377 - accuracy: 0.9446 - val_loss: 0.1308 - val_accuracy: 0.9444\n",
            "Epoch 9/20\n",
            "225/225 [==============================] - 208s 923ms/step - loss: 0.1335 - accuracy: 0.9449 - val_loss: 0.1358 - val_accuracy: 0.9476\n",
            "Epoch 10/20\n",
            "225/225 [==============================] - 205s 910ms/step - loss: 0.1384 - accuracy: 0.9435 - val_loss: 0.1323 - val_accuracy: 0.9504\n",
            "Epoch 11/20\n",
            "225/225 [==============================] - 204s 906ms/step - loss: 0.1307 - accuracy: 0.9473 - val_loss: 0.1326 - val_accuracy: 0.9492\n",
            "Epoch 12/20\n",
            "225/225 [==============================] - 204s 906ms/step - loss: 0.1307 - accuracy: 0.9477 - val_loss: 0.1396 - val_accuracy: 0.9404\n",
            "Epoch 13/20\n",
            "225/225 [==============================] - 203s 903ms/step - loss: 0.1325 - accuracy: 0.9460 - val_loss: 0.1246 - val_accuracy: 0.9516\n",
            "Epoch 14/20\n",
            "225/225 [==============================] - 203s 902ms/step - loss: 0.1314 - accuracy: 0.9463 - val_loss: 0.1086 - val_accuracy: 0.9536\n",
            "Epoch 15/20\n",
            "225/225 [==============================] - 204s 907ms/step - loss: 0.1299 - accuracy: 0.9466 - val_loss: 0.1296 - val_accuracy: 0.9452\n",
            "Epoch 16/20\n",
            "225/225 [==============================] - 204s 906ms/step - loss: 0.1280 - accuracy: 0.9482 - val_loss: 0.1200 - val_accuracy: 0.9544\n",
            "Epoch 17/20\n",
            "225/225 [==============================] - 204s 907ms/step - loss: 0.1266 - accuracy: 0.9483 - val_loss: 0.1166 - val_accuracy: 0.9564\n",
            "Epoch 18/20\n",
            "225/225 [==============================] - 206s 917ms/step - loss: 0.1292 - accuracy: 0.9457 - val_loss: 0.1171 - val_accuracy: 0.9520\n",
            "Epoch 19/20\n",
            "225/225 [==============================] - 207s 919ms/step - loss: 0.1254 - accuracy: 0.9497 - val_loss: 0.1114 - val_accuracy: 0.9552\n",
            "Epoch 20/20\n",
            "225/225 [==============================] - 209s 927ms/step - loss: 0.1255 - accuracy: 0.9483 - val_loss: 0.0954 - val_accuracy: 0.9636\n"
          ]
        },
        {
          "output_type": "execute_result",
          "data": {
            "text/plain": [
              "<keras.callbacks.History at 0x7f629679cfd0>"
            ]
          },
          "metadata": {},
          "execution_count": 21
        }
      ],
      "source": [
        "model.compile(loss='binary_crossentropy',optimizer='adam',metrics=['accuracy'])\n",
        "model.fit(train_data,epochs=20,validation_data=test_data)\n"
      ]
    },
    {
      "cell_type": "code",
      "source": [
        "!gdown --id 1z0DkA9BytlLxO1C0BAWzknLyQmZAp0HR\n",
        "\n",
        "!gdown --id 1z1BIj4qmri59GWBG4ivMNFtpZ4AXIbzg"
      ],
      "metadata": {
        "colab": {
          "base_uri": "https://localhost:8080/"
        },
        "id": "cBBwr_oSL2Go",
        "outputId": "953926ed-3fdc-444f-c7db-733f1fca5466"
      },
      "execution_count": 1,
      "outputs": [
        {
          "output_type": "stream",
          "name": "stdout",
          "text": [
            "/usr/local/lib/python3.7/dist-packages/gdown/cli.py:131: FutureWarning: Option `--id` was deprecated in version 4.3.1 and will be removed in 5.0. You don't need to pass it anymore to use a file ID.\n",
            "  category=FutureWarning,\n",
            "Downloading...\n",
            "From: https://drive.google.com/uc?id=1z0DkA9BytlLxO1C0BAWzknLyQmZAp0HR\n",
            "To: /content/sign_mnist_train.csv\n",
            "100% 83.3M/83.3M [00:00<00:00, 85.6MB/s]\n",
            "/usr/local/lib/python3.7/dist-packages/gdown/cli.py:131: FutureWarning: Option `--id` was deprecated in version 4.3.1 and will be removed in 5.0. You don't need to pass it anymore to use a file ID.\n",
            "  category=FutureWarning,\n",
            "Downloading...\n",
            "From: https://drive.google.com/uc?id=1z1BIj4qmri59GWBG4ivMNFtpZ4AXIbzg\n",
            "To: /content/sign_mnist_test.csv\n",
            "100% 21.8M/21.8M [00:00<00:00, 58.0MB/s]\n"
          ]
        }
      ]
    },
    {
      "cell_type": "code",
      "source": [
        "ls"
      ],
      "metadata": {
        "colab": {
          "base_uri": "https://localhost:8080/"
        },
        "id": "Y-hpwlXr36yE",
        "outputId": "2bb007d6-3696-41e4-da6e-ebaa44f79528"
      },
      "execution_count": 3,
      "outputs": [
        {
          "output_type": "stream",
          "name": "stdout",
          "text": [
            "\u001b[0m\u001b[01;34msample_data\u001b[0m/\n"
          ]
        }
      ]
    },
    {
      "cell_type": "markdown",
      "metadata": {
        "id": "ecGsQLHi1TAC"
      },
      "source": [
        ""
      ]
    },
    {
      "cell_type": "code",
      "source": [
        "import csv\n",
        "import numpy as np"
      ],
      "metadata": {
        "id": "7vHIL4G3L-k2"
      },
      "execution_count": 2,
      "outputs": []
    },
    {
      "cell_type": "code",
      "source": [
        "def csv_file(source):\n",
        "  with open(source,'r') as file:\n",
        "    lines=csv.reader(file,delimiter=',')\n",
        "    next(lines)\n",
        "    label=[]\n",
        "    data=[]\n",
        "    for line in lines:\n",
        "      label.append(line[0])\n",
        "      data.append(line[1:])\n",
        "  return np.array(data,dtype='float32'),np.array(label,dtype='float32')"
      ],
      "metadata": {
        "id": "xSyVoXAGNQ0P"
      },
      "execution_count": 3,
      "outputs": []
    },
    {
      "cell_type": "code",
      "source": [
        "train_X,train_y=csv_file('/content/sign_mnist_train.csv')"
      ],
      "metadata": {
        "id": "SEjQLwRS3m6p"
      },
      "execution_count": 4,
      "outputs": []
    },
    {
      "cell_type": "code",
      "source": [
        "test_X,test_y=csv_file('/content/sign_mnist_test.csv')"
      ],
      "metadata": {
        "id": "8wTOndtL4B7r"
      },
      "execution_count": 5,
      "outputs": []
    },
    {
      "cell_type": "markdown",
      "metadata": {
        "id": "ZZW5mL8Y1S8_"
      },
      "source": [
        ""
      ]
    },
    {
      "cell_type": "code",
      "source": [
        "train_X=train_X.reshape(-1,28,28,1)\n",
        "test_X=test_X.reshape(-1,28,28,1)"
      ],
      "metadata": {
        "id": "pvBpHTNV4RcP"
      },
      "execution_count": 6,
      "outputs": []
    },
    {
      "cell_type": "code",
      "source": [
        "train_X[0]"
      ],
      "metadata": {
        "colab": {
          "base_uri": "https://localhost:8080/"
        },
        "id": "aTCR3kcO5x39",
        "outputId": "8d5821e1-2e9f-454e-a90e-fd049b80f464"
      },
      "execution_count": 19,
      "outputs": [
        {
          "output_type": "execute_result",
          "data": {
            "text/plain": [
              "array([107., 118., 127., 134., 139., 143., 146., 150., 153., 156., 158.,\n",
              "       160., 163., 165., 159., 166., 168., 170., 170., 171., 171., 171.,\n",
              "       172., 171., 171., 170., 170., 169., 111., 121., 129., 135., 141.,\n",
              "       144., 148., 151., 154., 157., 160., 163., 164., 170., 119., 152.,\n",
              "       171., 171., 170., 171., 172., 172., 172., 172., 172., 171., 171.,\n",
              "       170., 113., 123., 131., 137., 142., 145., 150., 152., 155., 158.,\n",
              "       161., 163., 164., 172., 105., 142., 170., 171., 171., 171., 172.,\n",
              "       172., 173., 173., 172., 171., 171., 171., 116., 125., 133., 139.,\n",
              "       143., 146., 151., 153., 156., 159., 162., 163., 167., 167.,  95.,\n",
              "       144., 171., 172., 172., 172., 172., 172., 173., 173., 173., 172.,\n",
              "       172., 171., 117., 126., 134., 140., 145., 149., 153., 156., 158.,\n",
              "       161., 163., 164., 175., 156.,  87., 154., 172., 173., 173., 173.,\n",
              "       173., 173., 174., 174., 174., 173., 172., 172., 119., 128., 136.,\n",
              "       142., 146., 150., 153., 156., 159., 163., 165., 164., 184., 148.,\n",
              "        89., 164., 172., 174., 174., 174., 174., 175., 175., 174., 175.,\n",
              "       174., 173., 173., 122., 130., 138., 143., 147., 150., 154., 158.,\n",
              "       162., 165., 166., 172., 181., 128.,  94., 170., 173., 175., 174.,\n",
              "       175., 176., 177., 177., 177., 177., 175., 175., 174., 122., 132.,\n",
              "       139., 145., 149., 152., 156., 160., 163., 165., 166., 181., 172.,\n",
              "       103., 113., 175., 176., 178., 178., 179., 179., 179., 179., 178.,\n",
              "       179., 177., 175., 174., 125., 134., 141., 147., 150., 153., 157.,\n",
              "       161., 164., 167., 168., 184., 179., 116., 126., 165., 176., 179.,\n",
              "       180., 180., 181., 180., 180., 180., 179., 178., 177., 176., 128.,\n",
              "       135., 142., 148., 152., 154., 158., 162., 165., 168., 170., 187.,\n",
              "       180., 156., 161., 124., 143., 179., 178., 178., 181., 182., 181.,\n",
              "       180., 181., 180., 179., 179., 129., 136., 144., 150., 153., 155.,\n",
              "       159., 163., 166., 169., 172., 187., 184., 153., 102., 117., 110.,\n",
              "       175., 169., 154., 182., 183., 183., 182., 182., 181., 181., 179.,\n",
              "       131., 138., 145., 150., 155., 157., 161., 165., 168., 174., 190.,\n",
              "       189., 175., 146.,  94.,  97., 113., 151., 158., 129., 184., 184.,\n",
              "       184., 184., 183., 183., 182., 180., 131., 139., 146., 151., 155.,\n",
              "       159., 163., 167., 175., 182., 179., 171., 159., 114., 102.,  89.,\n",
              "       121., 136., 136.,  96., 172., 186., 186., 185., 185., 184., 182.,\n",
              "       181., 131., 140., 147., 154., 157., 160., 164., 179., 186., 191.,\n",
              "       187., 180., 157., 100.,  88.,  84., 108., 111., 126.,  90., 120.,\n",
              "       186., 187., 187., 186., 185., 184., 182., 133., 141., 149., 155.,\n",
              "       158., 160., 174., 201., 189., 165., 151., 143., 146., 120.,  87.,\n",
              "        78.,  87.,  76., 108.,  98.,  96., 181., 188., 187., 186., 186.,\n",
              "       185., 183., 133., 141., 150., 156., 160., 161., 179., 197., 174.,\n",
              "       135.,  99.,  72.,  95., 134.,  97.,  72.,  74.,  68., 116., 105.,\n",
              "       108., 187., 189., 187., 187., 186., 186., 185., 134., 143., 151.,\n",
              "       156., 161., 163., 179., 194., 156., 110.,  74.,  42.,  52., 139.,\n",
              "        94.,  67.,  75.,  75., 118., 106., 129., 189., 191., 190., 188.,\n",
              "       188., 187., 186., 135., 144., 152., 158., 163., 163., 177., 193.,\n",
              "       161., 122.,  84.,  43.,  71., 134.,  81.,  57.,  71.,  88., 112.,\n",
              "        98., 157., 193., 193., 192., 190., 190., 189., 188., 136., 144.,\n",
              "       152., 158., 162., 163., 176., 192., 164., 128.,  98.,  62.,  60.,\n",
              "       100.,  71.,  76.,  96., 101., 105.,  95., 174., 195., 194., 194.,\n",
              "       194., 193., 191., 190., 137., 145., 152., 159., 164., 165., 178.,\n",
              "       191., 164., 135., 113.,  82.,  59.,  87.,  98., 111., 120., 108.,\n",
              "        97., 108., 190., 196., 195., 195., 194., 193., 193., 192., 139.,\n",
              "       146., 154., 160., 164., 165., 175., 186., 163., 139., 112.,  85.,\n",
              "        67., 102., 126., 133., 126., 105., 104., 176., 197., 198., 197.,\n",
              "       196., 195., 195., 194., 193., 138., 147., 155., 161., 165., 167.,\n",
              "       172., 186., 163., 137., 107.,  87.,  76., 106., 122., 125., 117.,\n",
              "        96., 156., 199., 199., 200., 198., 196., 196., 195., 195., 194.,\n",
              "       139., 148., 156., 163., 166., 168., 172., 180., 158., 131., 108.,\n",
              "        99.,  86., 108., 118., 116., 103., 107., 191., 202., 201., 200.,\n",
              "       200., 200., 199., 197., 198., 196., 140., 149., 157., 164., 168.,\n",
              "       167., 177., 178., 155., 131., 118., 105.,  87., 100., 106., 100.,\n",
              "        96., 164., 202., 202., 202., 202., 202., 201., 200., 199., 199.,\n",
              "       198., 140., 150., 157., 165., 167., 170., 181., 175., 152., 130.,\n",
              "       115.,  98.,  82.,  85.,  90.,  99., 165., 202., 203., 204., 203.,\n",
              "       203., 202., 202., 201., 201., 200., 200., 142., 150., 159., 165.,\n",
              "       170., 191., 173., 157., 144., 119.,  97.,  84.,  79.,  79.,  91.,\n",
              "       172., 202., 203., 203., 205., 204., 204., 204., 203., 202., 202.,\n",
              "       201., 200., 142., 151., 160., 165., 188., 190., 187., 150., 119.,\n",
              "       109.,  85.,  79.,  79.,  78., 137., 203., 205., 206., 206., 207.,\n",
              "       207., 206., 206., 204., 205., 204., 203., 202., 142., 151., 160.,\n",
              "       172., 196., 188., 188., 190., 135.,  96.,  86.,  77.,  77.,  79.,\n",
              "       176., 205., 207., 207., 207., 207., 207., 207., 206., 206., 206.,\n",
              "       204., 203., 202.], dtype=float32)"
            ]
          },
          "metadata": {},
          "execution_count": 19
        }
      ]
    },
    {
      "cell_type": "code",
      "source": [
        "np.unique(train_y)"
      ],
      "metadata": {
        "colab": {
          "base_uri": "https://localhost:8080/"
        },
        "id": "KY-rCv8U5xJE",
        "outputId": "3f046930-9f16-4447-afb9-394f3ec5f499"
      },
      "execution_count": 21,
      "outputs": [
        {
          "output_type": "execute_result",
          "data": {
            "text/plain": [
              "array([ 0.,  1.,  2.,  3.,  4.,  5.,  6.,  7.,  8., 10., 11., 12., 13.,\n",
              "       14., 15., 16., 17., 18., 19., 20., 21., 22., 23., 24.],\n",
              "      dtype=float32)"
            ]
          },
          "metadata": {},
          "execution_count": 21
        }
      ]
    },
    {
      "cell_type": "code",
      "source": [
        "train_dataGen=ImageDataGenerator(rescale=1./255.,rotation_range=0.4,width_shift_range=0.2,\n",
        "                                 height_shift_range=0.2,zoom_range=0.2,shear_range=0.2,vertical_flip=True,\n",
        "                                 horizontal_flip=True)\n",
        "test_dataGen=ImageDataGenerator(rescale=1/255.)\n",
        "train_data=train_dataGen.flow(train_X,train_y,batch_size=32)\n",
        "test_data=test_dataGen.flow(test_X,test_y,batch_size=32)"
      ],
      "metadata": {
        "id": "jfiEq43O4wEJ"
      },
      "execution_count": 34,
      "outputs": []
    },
    {
      "cell_type": "code",
      "source": [
        "model=Sequential([\n",
        "      Conv2D(64,kernel_size=3,strides=1,activation='relu',input_shape=(28,28,1)),\n",
        "      MaxPooling2D(2,2),\n",
        "      Conv2D(64,kernel_size=3,strides=1,activation='relu'),\n",
        "      MaxPooling2D(2,2),\n",
        "      Flatten(),\n",
        "      Dense(128,activation='relu'),\n",
        "      Dense(26,activation='softmax')\n",
        "])\n",
        "model.compile(loss='sparse_categorical_crossentropy',optimizer='adam',metrics=['accuracy'])\n",
        "model.summary()"
      ],
      "metadata": {
        "colab": {
          "base_uri": "https://localhost:8080/"
        },
        "id": "F9W-btLG79jW",
        "outputId": "782cd6d6-1f5a-4cc8-b272-a236190ef5ab"
      },
      "execution_count": 42,
      "outputs": [
        {
          "output_type": "stream",
          "name": "stdout",
          "text": [
            "Model: \"sequential_10\"\n",
            "_________________________________________________________________\n",
            " Layer (type)                Output Shape              Param #   \n",
            "=================================================================\n",
            " conv2d_20 (Conv2D)          (None, 26, 26, 64)        640       \n",
            "                                                                 \n",
            " max_pooling2d_20 (MaxPoolin  (None, 13, 13, 64)       0         \n",
            " g2D)                                                            \n",
            "                                                                 \n",
            " conv2d_21 (Conv2D)          (None, 11, 11, 64)        36928     \n",
            "                                                                 \n",
            " max_pooling2d_21 (MaxPoolin  (None, 5, 5, 64)         0         \n",
            " g2D)                                                            \n",
            "                                                                 \n",
            " flatten_10 (Flatten)        (None, 1600)              0         \n",
            "                                                                 \n",
            " dense_20 (Dense)            (None, 128)               204928    \n",
            "                                                                 \n",
            " dense_21 (Dense)            (None, 26)                3354      \n",
            "                                                                 \n",
            "=================================================================\n",
            "Total params: 245,850\n",
            "Trainable params: 245,850\n",
            "Non-trainable params: 0\n",
            "_________________________________________________________________\n"
          ]
        }
      ]
    },
    {
      "cell_type": "code",
      "source": [
        "hist=model.fit(train_data,epochs=15,steps_per_epoch=len(train_X)/32,validation_steps=len(test_X)/32,validation_data=test_data)"
      ],
      "metadata": {
        "colab": {
          "base_uri": "https://localhost:8080/"
        },
        "id": "zxwdOH0o9c0m",
        "outputId": "2d274bf7-29b2-4eab-85ff-0b618e2edbd1"
      },
      "execution_count": 43,
      "outputs": [
        {
          "output_type": "stream",
          "name": "stdout",
          "text": [
            "Epoch 1/15\n",
            "857/857 [==============================] - 11s 13ms/step - loss: 2.8528 - accuracy: 0.1336 - val_loss: 2.2585 - val_accuracy: 0.2450\n",
            "Epoch 2/15\n",
            "857/857 [==============================] - 11s 12ms/step - loss: 2.0922 - accuracy: 0.3291 - val_loss: 1.6950 - val_accuracy: 0.4459\n",
            "Epoch 3/15\n",
            "857/857 [==============================] - 11s 13ms/step - loss: 1.7573 - accuracy: 0.4257 - val_loss: 1.2384 - val_accuracy: 0.5697\n",
            "Epoch 4/15\n",
            "857/857 [==============================] - 11s 12ms/step - loss: 1.5420 - accuracy: 0.4920 - val_loss: 1.1388 - val_accuracy: 0.5986\n",
            "Epoch 5/15\n",
            "857/857 [==============================] - 11s 12ms/step - loss: 1.3622 - accuracy: 0.5535 - val_loss: 0.9160 - val_accuracy: 0.6899\n",
            "Epoch 6/15\n",
            "857/857 [==============================] - 11s 12ms/step - loss: 1.2236 - accuracy: 0.5930 - val_loss: 0.8494 - val_accuracy: 0.6852\n",
            "Epoch 7/15\n",
            "857/857 [==============================] - 11s 12ms/step - loss: 1.1139 - accuracy: 0.6276 - val_loss: 0.7740 - val_accuracy: 0.6863\n",
            "Epoch 8/15\n",
            "857/857 [==============================] - 11s 12ms/step - loss: 1.0192 - accuracy: 0.6611 - val_loss: 0.6987 - val_accuracy: 0.7553\n",
            "Epoch 9/15\n",
            "857/857 [==============================] - 11s 12ms/step - loss: 0.9357 - accuracy: 0.6862 - val_loss: 0.6613 - val_accuracy: 0.7504\n",
            "Epoch 10/15\n",
            "857/857 [==============================] - 11s 12ms/step - loss: 0.8684 - accuracy: 0.7073 - val_loss: 0.5659 - val_accuracy: 0.7860\n",
            "Epoch 11/15\n",
            "857/857 [==============================] - 10s 12ms/step - loss: 0.8099 - accuracy: 0.7270 - val_loss: 0.5148 - val_accuracy: 0.8083\n",
            "Epoch 12/15\n",
            "857/857 [==============================] - 11s 12ms/step - loss: 0.7981 - accuracy: 0.7341 - val_loss: 0.5928 - val_accuracy: 0.7907\n",
            "Epoch 13/15\n",
            "857/857 [==============================] - 10s 12ms/step - loss: 0.7354 - accuracy: 0.7521 - val_loss: 0.7256 - val_accuracy: 0.7469\n",
            "Epoch 14/15\n",
            "857/857 [==============================] - 10s 12ms/step - loss: 0.7026 - accuracy: 0.7621 - val_loss: 0.4395 - val_accuracy: 0.8236\n",
            "Epoch 15/15\n",
            "857/857 [==============================] - 10s 12ms/step - loss: 0.6713 - accuracy: 0.7744 - val_loss: 0.5029 - val_accuracy: 0.8249\n"
          ]
        }
      ]
    },
    {
      "cell_type": "code",
      "source": [
        "model.evaluate(test_X,test_y)"
      ],
      "metadata": {
        "colab": {
          "base_uri": "https://localhost:8080/"
        },
        "id": "yJVVfsMSIlxU",
        "outputId": "0477136f-aa16-45ed-eba7-6c61d509e21b"
      },
      "execution_count": 44,
      "outputs": [
        {
          "output_type": "stream",
          "name": "stdout",
          "text": [
            "225/225 [==============================] - 1s 3ms/step - loss: 302.6133 - accuracy: 0.5567\n"
          ]
        },
        {
          "output_type": "execute_result",
          "data": {
            "text/plain": [
              "[302.61334228515625, 0.5567484498023987]"
            ]
          },
          "metadata": {},
          "execution_count": 44
        }
      ]
    },
    {
      "cell_type": "code",
      "source": [
        "!gdown --id 1onaG42NZft3wCE1WH0GDEbUhu75fedP5\n",
        "\n",
        "# Get the Horse or Human Validation dataset\n",
        "!gdown --id 1LYeusSEIiZQpwN-mthh5nKdA75VsKG1U\n"
      ],
      "metadata": {
        "colab": {
          "base_uri": "https://localhost:8080/"
        },
        "id": "G26IGkeEk3v0",
        "outputId": "5b37e495-77d8-4d99-d8d5-1fbc7d02b502"
      },
      "execution_count": 14,
      "outputs": [
        {
          "output_type": "stream",
          "name": "stdout",
          "text": [
            "/usr/local/lib/python3.7/dist-packages/gdown/cli.py:131: FutureWarning: Option `--id` was deprecated in version 4.3.1 and will be removed in 5.0. You don't need to pass it anymore to use a file ID.\n",
            "  category=FutureWarning,\n",
            "Downloading...\n",
            "From: https://drive.google.com/uc?id=1onaG42NZft3wCE1WH0GDEbUhu75fedP5\n",
            "To: /content/horse-or-human.zip\n",
            "100% 150M/150M [00:02<00:00, 60.2MB/s]\n",
            "/usr/local/lib/python3.7/dist-packages/gdown/cli.py:131: FutureWarning: Option `--id` was deprecated in version 4.3.1 and will be removed in 5.0. You don't need to pass it anymore to use a file ID.\n",
            "  category=FutureWarning,\n",
            "Downloading...\n",
            "From: https://drive.google.com/uc?id=1LYeusSEIiZQpwN-mthh5nKdA75VsKG1U\n",
            "To: /content/validation-horse-or-human.zip\n",
            "100% 11.5M/11.5M [00:00<00:00, 21.7MB/s]\n"
          ]
        }
      ]
    },
    {
      "cell_type": "code",
      "source": [
        "os.mkdir('hhtrain/')\n",
        "os.mkdir('hhtest/')"
      ],
      "metadata": {
        "id": "Z8yDHVxFl9Q2"
      },
      "execution_count": 16,
      "outputs": []
    },
    {
      "cell_type": "code",
      "source": [
        "zipref=zipfile.ZipFile('/content/horse-or-human.zip','r')\n",
        "zipref.extractall('hhtrain/')\n",
        "zipref.close()\n",
        "zipref=zipfile.ZipFile('/content/validation-horse-or-human.zip','r')\n",
        "zipref.extractall('hhtest/')\n",
        "zipref.close()\n"
      ],
      "metadata": {
        "id": "nDTXC-uHk9bv"
      },
      "execution_count": 17,
      "outputs": []
    },
    {
      "cell_type": "code",
      "source": [
        "len(os.listdir('hhtest/horses'))"
      ],
      "metadata": {
        "colab": {
          "base_uri": "https://localhost:8080/"
        },
        "id": "ZTYj89QEmjSl",
        "outputId": "3fca0f05-39c9-44c0-de71-e63c33b8039f"
      },
      "execution_count": 22,
      "outputs": [
        {
          "output_type": "execute_result",
          "data": {
            "text/plain": [
              "128"
            ]
          },
          "metadata": {},
          "execution_count": 22
        }
      ]
    },
    {
      "cell_type": "code",
      "source": [
        "!wget --no-check-certificate \\\n",
        "    https://storage.googleapis.com/mledu-datasets/inception_v3_weights_tf_dim_ordering_tf_kernels_notop.h5 \\\n",
        "    -O /tmp/inception_v3_weights_tf_dim_ordering_tf_kernels_notop.h5\n"
      ],
      "metadata": {
        "colab": {
          "base_uri": "https://localhost:8080/"
        },
        "id": "pe0VHUWUnCTg",
        "outputId": "558baafe-7315-4422-a5d2-1dfa9ab7d123"
      },
      "execution_count": 23,
      "outputs": [
        {
          "output_type": "stream",
          "name": "stdout",
          "text": [
            "--2022-05-01 03:14:26--  https://storage.googleapis.com/mledu-datasets/inception_v3_weights_tf_dim_ordering_tf_kernels_notop.h5\n",
            "Resolving storage.googleapis.com (storage.googleapis.com)... 142.250.4.128, 142.251.10.128, 142.251.12.128, ...\n",
            "Connecting to storage.googleapis.com (storage.googleapis.com)|142.250.4.128|:443... connected.\n",
            "HTTP request sent, awaiting response... 200 OK\n",
            "Length: 87910968 (84M) [application/x-hdf]\n",
            "Saving to: ‘/tmp/inception_v3_weights_tf_dim_ordering_tf_kernels_notop.h5’\n",
            "\n",
            "/tmp/inception_v3_w 100%[===================>]  83.84M   116MB/s    in 0.7s    \n",
            "\n",
            "2022-05-01 03:14:27 (116 MB/s) - ‘/tmp/inception_v3_weights_tf_dim_ordering_tf_kernels_notop.h5’ saved [87910968/87910968]\n",
            "\n"
          ]
        }
      ]
    },
    {
      "cell_type": "code",
      "source": [
        "from tensorflow.keras.applications.inception_v3 import InceptionV3"
      ],
      "metadata": {
        "id": "u5ubHDKwnNtL"
      },
      "execution_count": 24,
      "outputs": []
    },
    {
      "cell_type": "code",
      "source": [
        "pre_model=InceptionV3(input_shape=(150,150,3),weights=None,include_top=False)\n",
        "weight=pre_model.load_weights('/tmp/inception_v3_weights_tf_dim_ordering_tf_kernels_notop.h5')\n",
        "for layer in pre_model.layers:\n",
        "  layer.trainable=False\n",
        "last_layer=pre_model.get_layer('mixed7')\n",
        "last_output=last_layer.output"
      ],
      "metadata": {
        "id": "aPg_hBuondYB"
      },
      "execution_count": 25,
      "outputs": []
    },
    {
      "cell_type": "code",
      "source": [
        "train_gen=ImageDataGenerator(rescale=1./255.)\n",
        "test_gen=ImageDataGenerator(rescale=1./255.)\n",
        "train_data=train_gen.flow_from_directory('hhtrain/',target_size=(150,150),batch_size=30,class_mode='binary')\n",
        "test_data=test_gen.flow_from_directory('hhtest/',target_size=(150,150),batch_size=10,class_mode='binary')"
      ],
      "metadata": {
        "colab": {
          "base_uri": "https://localhost:8080/"
        },
        "id": "LEc7BNFdpiwv",
        "outputId": "8d79be4f-c7bc-4f12-8622-e46c8d68b58d"
      },
      "execution_count": 26,
      "outputs": [
        {
          "output_type": "stream",
          "name": "stdout",
          "text": [
            "Found 1027 images belonging to 2 classes.\n",
            "Found 256 images belonging to 2 classes.\n"
          ]
        }
      ]
    },
    {
      "cell_type": "code",
      "source": [
        "import tensorflow as tf"
      ],
      "metadata": {
        "id": "R0Gwm2m4rfJt"
      },
      "execution_count": 28,
      "outputs": []
    },
    {
      "cell_type": "code",
      "source": [
        "class mycallback(tf.keras.callbacks.Callback):\n",
        "  def on_epoch_end(self,epoch,logs=None):\n",
        "    if logs.get('accuracy') is not None and logs.get('accuracy')>=0.999:\n",
        "      print('the goal reaches 99.9% and has to stop!')\n",
        "      self.model.stop_training=True"
      ],
      "metadata": {
        "id": "LOdd2d-OqwWg"
      },
      "execution_count": 29,
      "outputs": []
    },
    {
      "cell_type": "markdown",
      "source": [
        ""
      ],
      "metadata": {
        "id": "6NwCci9G_U8c"
      }
    },
    {
      "cell_type": "code",
      "source": [
        "X=Flatten()(last_output)\n",
        "X=Dense(128,activation='relu')(X)\n",
        "X=Dense(1,activation='sigmoid')(X)\n",
        "model=Model(inputs=pre_model.input,outputs=X)\n",
        "model.compile(loss='binary_crossentropy',optimizer='adam',metrics=['accuracy'])\n",
        "\n"
      ],
      "metadata": {
        "id": "vT0Y8KAxo1er"
      },
      "execution_count": 32,
      "outputs": []
    },
    {
      "cell_type": "markdown",
      "metadata": {
        "id": "kMEfBOI21S4V"
      },
      "source": [
        ""
      ]
    },
    {
      "cell_type": "code",
      "source": [
        "model.fit(train_data,epochs=20,validation_data=test_data,callbacks=[mycallback()])"
      ],
      "metadata": {
        "colab": {
          "base_uri": "https://localhost:8080/"
        },
        "id": "Rs_ISMJQr-sv",
        "outputId": "8efc571c-abf6-49ce-e7f0-fefe6a3a4dc8"
      },
      "execution_count": 33,
      "outputs": [
        {
          "output_type": "stream",
          "name": "stdout",
          "text": [
            "Epoch 1/20\n",
            "35/35 [==============================] - 12s 245ms/step - loss: 0.0400 - accuracy: 0.9796 - val_loss: 5.5239e-04 - val_accuracy: 1.0000\n",
            "Epoch 2/20\n",
            "35/35 [==============================] - ETA: 0s - loss: 1.6582e-04 - accuracy: 1.0000the goal reaches 99.9% and has to stop!\n",
            "35/35 [==============================] - 7s 192ms/step - loss: 1.6582e-04 - accuracy: 1.0000 - val_loss: 0.0843 - val_accuracy: 0.9922\n"
          ]
        },
        {
          "output_type": "execute_result",
          "data": {
            "text/plain": [
              "<keras.callbacks.History at 0x7fea7c9b2fd0>"
            ]
          },
          "metadata": {},
          "execution_count": 33
        }
      ]
    },
    {
      "cell_type": "markdown",
      "metadata": {
        "id": "6Y0xyuVz1Sf1"
      },
      "source": [
        ""
      ]
    },
    {
      "cell_type": "markdown",
      "metadata": {
        "id": "fTfpw0XO1Sc3"
      },
      "source": [
        ""
      ]
    }
  ],
  "metadata": {
    "colab": {
      "name": "tensorflow_class2.ipynb",
      "provenance": [],
      "authorship_tag": "ABX9TyOgag1gF0FwvlzI8AqzBaCF",
      "include_colab_link": true
    },
    "kernelspec": {
      "display_name": "Python 3",
      "name": "python3"
    },
    "language_info": {
      "name": "python"
    },
    "accelerator": "GPU"
  },
  "nbformat": 4,
  "nbformat_minor": 0
}