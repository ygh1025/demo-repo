{
  "nbformat": 4,
  "nbformat_minor": 0,
  "metadata": {
    "colab": {
      "name": "Untitled6.ipynb",
      "provenance": [],
      "authorship_tag": "ABX9TyMjxWn8OknzKT1Tybql92vA",
      "include_colab_link": true
    },
    "kernelspec": {
      "name": "python3",
      "display_name": "Python 3"
    },
    "language_info": {
      "name": "python"
    }
  },
  "cells": [
    {
      "cell_type": "markdown",
      "metadata": {
        "id": "view-in-github",
        "colab_type": "text"
      },
      "source": [
        "<a href=\"https://colab.research.google.com/github/ygh1025/demo-repo/blob/main/hands%20on%20tensorflow%20chapter1.ipynb\" target=\"_parent\"><img src=\"https://colab.research.google.com/assets/colab-badge.svg\" alt=\"Open In Colab\"/></a>"
      ]
    },
    {
      "cell_type": "code",
      "execution_count": 2,
      "metadata": {
        "id": "skmurY920fa5"
      },
      "outputs": [],
      "source": [
        "import tensorflow as tf\n",
        "from tensorflow import keras\n"
      ]
    },
    {
      "cell_type": "code",
      "source": [
        "import numpy as np\n",
        "from keras.layers import Dense,Flatten,Concatenate\n",
        "from keras import Sequential,Model,Input,datasets,optimizers\n",
        "#from keras.optimizers import SGD"
      ],
      "metadata": {
        "id": "tk-AKxIL02FJ"
      },
      "execution_count": 3,
      "outputs": []
    },
    {
      "cell_type": "code",
      "source": [
        "(x_train,y_train),(x_test,y_test)=keras.datasets.fashion_mnist.load_data()"
      ],
      "metadata": {
        "colab": {
          "base_uri": "https://localhost:8080/"
        },
        "id": "41C7bJU90_60",
        "outputId": "7534ed02-22f7-4a4d-c2e8-b0eda4bb9b74"
      },
      "execution_count": null,
      "outputs": [
        {
          "output_type": "stream",
          "name": "stdout",
          "text": [
            "Downloading data from https://storage.googleapis.com/tensorflow/tf-keras-datasets/train-labels-idx1-ubyte.gz\n",
            "32768/29515 [=================================] - 0s 0us/step\n",
            "40960/29515 [=========================================] - 0s 0us/step\n",
            "Downloading data from https://storage.googleapis.com/tensorflow/tf-keras-datasets/train-images-idx3-ubyte.gz\n",
            "26427392/26421880 [==============================] - 0s 0us/step\n",
            "26435584/26421880 [==============================] - 0s 0us/step\n",
            "Downloading data from https://storage.googleapis.com/tensorflow/tf-keras-datasets/t10k-labels-idx1-ubyte.gz\n",
            "16384/5148 [===============================================================================================] - 0s 0us/step\n",
            "Downloading data from https://storage.googleapis.com/tensorflow/tf-keras-datasets/t10k-images-idx3-ubyte.gz\n",
            "4423680/4422102 [==============================] - 0s 0us/step\n",
            "4431872/4422102 [==============================] - 0s 0us/step\n"
          ]
        }
      ]
    },
    {
      "cell_type": "code",
      "source": [
        "x_valid,x_act_train=x_train[:5000]/255.0,x_train[5000:]/255.\n",
        "y_valid,y_act_train=y_train[:5000],y_train[5000:]\n"
      ],
      "metadata": {
        "id": "XY9B5aWe2PsG"
      },
      "execution_count": null,
      "outputs": []
    },
    {
      "cell_type": "code",
      "source": [
        "x_act_train.shape"
      ],
      "metadata": {
        "colab": {
          "base_uri": "https://localhost:8080/"
        },
        "id": "tjiotIv99MGQ",
        "outputId": "7d0eb911-8229-4ebf-8671-53cd04017868"
      },
      "execution_count": null,
      "outputs": [
        {
          "output_type": "execute_result",
          "data": {
            "text/plain": [
              "(55000, 28, 28)"
            ]
          },
          "metadata": {},
          "execution_count": 17
        }
      ]
    },
    {
      "cell_type": "code",
      "source": [
        "np.unique(y_train)"
      ],
      "metadata": {
        "colab": {
          "base_uri": "https://localhost:8080/"
        },
        "id": "cXW9aHVz2SAg",
        "outputId": "afbf2da8-3d85-42ef-85f3-1372d369156c"
      },
      "execution_count": null,
      "outputs": [
        {
          "output_type": "execute_result",
          "data": {
            "text/plain": [
              "array([0, 1, 2, 3, 4, 5, 6, 7, 8, 9], dtype=uint8)"
            ]
          },
          "metadata": {},
          "execution_count": 13
        }
      ]
    },
    {
      "cell_type": "markdown",
      "source": [
        ""
      ],
      "metadata": {
        "id": "Gzaf32Sj__Xa"
      }
    },
    {
      "cell_type": "code",
      "source": [
        "model=Sequential([\n",
        "                  Flatten(input_shape=[28,28]),\n",
        "                  Dense(128,activation='relu'),\n",
        "                  Dense(64,activation='relu'),\n",
        "                  Dense(10,activation='softmax')\n",
        "])\n",
        "model.compile(loss='sparse_categorical_crossentropy',optimizer=keras.optimizers.SGD(),metrics=['accuracy'])\n",
        "model.summary()"
      ],
      "metadata": {
        "colab": {
          "base_uri": "https://localhost:8080/"
        },
        "id": "BvWMaUqk2dzy",
        "outputId": "368cb84b-6b9f-4210-91d5-281ce4c78a52"
      },
      "execution_count": null,
      "outputs": [
        {
          "output_type": "stream",
          "name": "stdout",
          "text": [
            "Model: \"sequential\"\n",
            "_________________________________________________________________\n",
            " Layer (type)                Output Shape              Param #   \n",
            "=================================================================\n",
            " flatten (Flatten)           (None, 784)               0         \n",
            "                                                                 \n",
            " dense (Dense)               (None, 128)               100480    \n",
            "                                                                 \n",
            " dense_1 (Dense)             (None, 64)                8256      \n",
            "                                                                 \n",
            " dense_2 (Dense)             (None, 10)                650       \n",
            "                                                                 \n",
            "=================================================================\n",
            "Total params: 109,386\n",
            "Trainable params: 109,386\n",
            "Non-trainable params: 0\n",
            "_________________________________________________________________\n"
          ]
        }
      ]
    },
    {
      "cell_type": "code",
      "source": [
        "model.layers"
      ],
      "metadata": {
        "colab": {
          "base_uri": "https://localhost:8080/"
        },
        "id": "39w8Jook4xA-",
        "outputId": "c2f9fad9-5cba-44c2-8940-f9e7e838a621"
      },
      "execution_count": null,
      "outputs": [
        {
          "output_type": "execute_result",
          "data": {
            "text/plain": [
              "[<keras.layers.core.flatten.Flatten at 0x7f9a8fe08e50>,\n",
              " <keras.layers.core.dense.Dense at 0x7f9a906d12d0>,\n",
              " <keras.layers.core.dense.Dense at 0x7f9b119dfe90>,\n",
              " <keras.layers.core.dense.Dense at 0x7f9a8fe0d350>]"
            ]
          },
          "metadata": {},
          "execution_count": 6
        }
      ]
    },
    {
      "cell_type": "code",
      "source": [
        "hidden2=model.layers[2]"
      ],
      "metadata": {
        "id": "yux6u5yHETFX"
      },
      "execution_count": null,
      "outputs": []
    },
    {
      "cell_type": "code",
      "source": [
        "hidden2.name"
      ],
      "metadata": {
        "colab": {
          "base_uri": "https://localhost:8080/",
          "height": 35
        },
        "id": "czHuAd1zEfce",
        "outputId": "0ebbbbd9-e7c8-4892-da4a-466def9f69c6"
      },
      "execution_count": null,
      "outputs": [
        {
          "output_type": "execute_result",
          "data": {
            "text/plain": [
              "'dense_1'"
            ],
            "application/vnd.google.colaboratory.intrinsic+json": {
              "type": "string"
            }
          },
          "metadata": {},
          "execution_count": 12
        }
      ]
    },
    {
      "cell_type": "code",
      "source": [
        "model.get_layer('dense')"
      ],
      "metadata": {
        "colab": {
          "base_uri": "https://localhost:8080/"
        },
        "id": "jkzueNcSFAei",
        "outputId": "33e85c6e-f324-4118-9820-565af1d988b0"
      },
      "execution_count": null,
      "outputs": [
        {
          "output_type": "execute_result",
          "data": {
            "text/plain": [
              "<keras.layers.core.dense.Dense at 0x7f9a906d12d0>"
            ]
          },
          "metadata": {},
          "execution_count": 10
        }
      ]
    },
    {
      "cell_type": "code",
      "source": [
        "weights,bias=hidden1.get_weights()"
      ],
      "metadata": {
        "id": "r9uNWocboL8j"
      },
      "execution_count": null,
      "outputs": []
    },
    {
      "cell_type": "code",
      "source": [
        "weights.shape"
      ],
      "metadata": {
        "colab": {
          "base_uri": "https://localhost:8080/"
        },
        "id": "TpTjZvlppPkO",
        "outputId": "02dee698-9dcd-4167-85ff-ef1110fc2a73"
      },
      "execution_count": null,
      "outputs": [
        {
          "output_type": "execute_result",
          "data": {
            "text/plain": [
              "(784, 128)"
            ]
          },
          "metadata": {},
          "execution_count": 15
        }
      ]
    },
    {
      "cell_type": "code",
      "source": [
        "bias.shape"
      ],
      "metadata": {
        "colab": {
          "base_uri": "https://localhost:8080/"
        },
        "id": "46TtpS6opRLp",
        "outputId": "f5d485da-7ae1-436c-a7b5-ffce96fdb38c"
      },
      "execution_count": null,
      "outputs": [
        {
          "output_type": "execute_result",
          "data": {
            "text/plain": [
              "(128,)"
            ]
          },
          "metadata": {},
          "execution_count": 16
        }
      ]
    },
    {
      "cell_type": "code",
      "source": [
        "hist=model.fit(x_act_train,y_act_train,epochs=30,validation_data=(x_valid,y_valid))"
      ],
      "metadata": {
        "colab": {
          "base_uri": "https://localhost:8080/"
        },
        "id": "pj3fV5lUptRf",
        "outputId": "855c7950-d289-42dd-a9a4-9f3979af6cfe"
      },
      "execution_count": null,
      "outputs": [
        {
          "output_type": "stream",
          "name": "stdout",
          "text": [
            "Epoch 1/30\n",
            "1719/1719 [==============================] - 6s 3ms/step - loss: 0.7663 - accuracy: 0.7488 - val_loss: 0.6077 - val_accuracy: 0.7882\n",
            "Epoch 2/30\n",
            "1719/1719 [==============================] - 5s 3ms/step - loss: 0.5039 - accuracy: 0.8239 - val_loss: 0.5176 - val_accuracy: 0.8108\n",
            "Epoch 3/30\n",
            "1719/1719 [==============================] - 5s 3ms/step - loss: 0.4587 - accuracy: 0.8375 - val_loss: 0.4236 - val_accuracy: 0.8572\n",
            "Epoch 4/30\n",
            "1719/1719 [==============================] - 5s 3ms/step - loss: 0.4325 - accuracy: 0.8479 - val_loss: 0.4172 - val_accuracy: 0.8568\n",
            "Epoch 5/30\n",
            "1719/1719 [==============================] - 5s 3ms/step - loss: 0.4120 - accuracy: 0.8558 - val_loss: 0.3965 - val_accuracy: 0.8634\n",
            "Epoch 6/30\n",
            "1719/1719 [==============================] - 5s 3ms/step - loss: 0.3946 - accuracy: 0.8602 - val_loss: 0.3867 - val_accuracy: 0.8680\n",
            "Epoch 7/30\n",
            "1719/1719 [==============================] - 5s 3ms/step - loss: 0.3811 - accuracy: 0.8653 - val_loss: 0.3756 - val_accuracy: 0.8678\n",
            "Epoch 8/30\n",
            "1719/1719 [==============================] - 5s 3ms/step - loss: 0.3679 - accuracy: 0.8700 - val_loss: 0.3658 - val_accuracy: 0.8692\n",
            "Epoch 9/30\n",
            "1719/1719 [==============================] - 5s 3ms/step - loss: 0.3582 - accuracy: 0.8724 - val_loss: 0.3600 - val_accuracy: 0.8726\n",
            "Epoch 10/30\n",
            "1719/1719 [==============================] - 5s 3ms/step - loss: 0.3497 - accuracy: 0.8736 - val_loss: 0.3625 - val_accuracy: 0.8738\n",
            "Epoch 11/30\n",
            "1719/1719 [==============================] - 5s 3ms/step - loss: 0.3403 - accuracy: 0.8766 - val_loss: 0.3692 - val_accuracy: 0.8664\n",
            "Epoch 12/30\n",
            "1719/1719 [==============================] - 5s 3ms/step - loss: 0.3314 - accuracy: 0.8809 - val_loss: 0.3401 - val_accuracy: 0.8800\n",
            "Epoch 13/30\n",
            "1719/1719 [==============================] - 6s 3ms/step - loss: 0.3246 - accuracy: 0.8838 - val_loss: 0.3302 - val_accuracy: 0.8848\n",
            "Epoch 14/30\n",
            "1719/1719 [==============================] - 5s 3ms/step - loss: 0.3183 - accuracy: 0.8848 - val_loss: 0.3346 - val_accuracy: 0.8822\n",
            "Epoch 15/30\n",
            "1719/1719 [==============================] - 5s 3ms/step - loss: 0.3123 - accuracy: 0.8869 - val_loss: 0.3256 - val_accuracy: 0.8832\n",
            "Epoch 16/30\n",
            "1719/1719 [==============================] - 5s 3ms/step - loss: 0.3063 - accuracy: 0.8894 - val_loss: 0.3246 - val_accuracy: 0.8862\n",
            "Epoch 17/30\n",
            "1719/1719 [==============================] - 5s 3ms/step - loss: 0.3002 - accuracy: 0.8908 - val_loss: 0.3180 - val_accuracy: 0.8854\n",
            "Epoch 18/30\n",
            "1719/1719 [==============================] - 5s 3ms/step - loss: 0.2953 - accuracy: 0.8931 - val_loss: 0.3191 - val_accuracy: 0.8852\n",
            "Epoch 19/30\n",
            "1719/1719 [==============================] - 5s 3ms/step - loss: 0.2906 - accuracy: 0.8942 - val_loss: 0.3333 - val_accuracy: 0.8826\n",
            "Epoch 20/30\n",
            "1719/1719 [==============================] - 5s 3ms/step - loss: 0.2867 - accuracy: 0.8965 - val_loss: 0.3153 - val_accuracy: 0.8848\n",
            "Epoch 21/30\n",
            "1719/1719 [==============================] - 5s 3ms/step - loss: 0.2812 - accuracy: 0.8980 - val_loss: 0.3123 - val_accuracy: 0.8910\n",
            "Epoch 22/30\n",
            "1719/1719 [==============================] - 5s 3ms/step - loss: 0.2769 - accuracy: 0.8986 - val_loss: 0.3504 - val_accuracy: 0.8786\n",
            "Epoch 23/30\n",
            "1719/1719 [==============================] - 5s 3ms/step - loss: 0.2730 - accuracy: 0.9011 - val_loss: 0.3077 - val_accuracy: 0.8896\n",
            "Epoch 24/30\n",
            "1719/1719 [==============================] - 5s 3ms/step - loss: 0.2696 - accuracy: 0.9023 - val_loss: 0.3081 - val_accuracy: 0.8910\n",
            "Epoch 25/30\n",
            "1719/1719 [==============================] - 5s 3ms/step - loss: 0.2650 - accuracy: 0.9031 - val_loss: 0.3132 - val_accuracy: 0.8858\n",
            "Epoch 26/30\n",
            "1719/1719 [==============================] - 5s 3ms/step - loss: 0.2612 - accuracy: 0.9049 - val_loss: 0.3156 - val_accuracy: 0.8880\n",
            "Epoch 27/30\n",
            "1719/1719 [==============================] - 5s 3ms/step - loss: 0.2578 - accuracy: 0.9070 - val_loss: 0.3037 - val_accuracy: 0.8882\n",
            "Epoch 28/30\n",
            "1719/1719 [==============================] - 5s 3ms/step - loss: 0.2544 - accuracy: 0.9077 - val_loss: 0.3166 - val_accuracy: 0.8836\n",
            "Epoch 29/30\n",
            "1719/1719 [==============================] - 5s 3ms/step - loss: 0.2508 - accuracy: 0.9098 - val_loss: 0.3003 - val_accuracy: 0.8908\n",
            "Epoch 30/30\n",
            "1719/1719 [==============================] - 5s 3ms/step - loss: 0.2483 - accuracy: 0.9093 - val_loss: 0.3025 - val_accuracy: 0.8898\n"
          ]
        }
      ]
    },
    {
      "cell_type": "code",
      "source": [
        "model.evaluate(x_test/255.,y_test)"
      ],
      "metadata": {
        "colab": {
          "base_uri": "https://localhost:8080/"
        },
        "id": "dqJclaMVsOjX",
        "outputId": "24179291-4909-465c-ebed-77859dff9987"
      },
      "execution_count": null,
      "outputs": [
        {
          "output_type": "stream",
          "name": "stdout",
          "text": [
            "313/313 [==============================] - 1s 2ms/step - loss: 0.3405 - accuracy: 0.8804\n"
          ]
        },
        {
          "output_type": "execute_result",
          "data": {
            "text/plain": [
              "[0.34051278233528137, 0.8804000020027161]"
            ]
          },
          "metadata": {},
          "execution_count": 20
        }
      ]
    },
    {
      "cell_type": "code",
      "source": [
        "x_new=x_test[:3]\n",
        "x_new.shape"
      ],
      "metadata": {
        "colab": {
          "base_uri": "https://localhost:8080/"
        },
        "id": "P1e6qlRTwhd9",
        "outputId": "5f27fdc3-e98b-4b38-ce0a-15162bdcb37a"
      },
      "execution_count": null,
      "outputs": [
        {
          "output_type": "execute_result",
          "data": {
            "text/plain": [
              "(3, 28, 28)"
            ]
          },
          "metadata": {},
          "execution_count": 21
        }
      ]
    },
    {
      "cell_type": "code",
      "source": [
        "prob=model.predict_(x_new)\n",
        "prob"
      ],
      "metadata": {
        "colab": {
          "base_uri": "https://localhost:8080/"
        },
        "id": "i-sZnYNVyJFd",
        "outputId": "c5b620c5-8dfa-4ddf-e6fc-616a3f551851"
      },
      "execution_count": null,
      "outputs": [
        {
          "output_type": "execute_result",
          "data": {
            "text/plain": [
              "array([[0., 0., 0., 0., 0., 0., 0., 0., 0., 1.],\n",
              "       [0., 0., 1., 0., 0., 0., 0., 0., 0., 0.],\n",
              "       [0., 1., 0., 0., 0., 0., 0., 0., 0., 0.]], dtype=float32)"
            ]
          },
          "metadata": {},
          "execution_count": 22
        }
      ]
    },
    {
      "cell_type": "code",
      "source": [
        "class_names = [\"T-shirt/top\", \"Trouser\", \"Pullover\", \"Dress\", \"Coat\",\n",
        "\"Sandal\", \"Shirt\", \"Sneaker\", \"Bag\", \"Ankle boot\"]\n",
        "class_names[y_train[0]]"
      ],
      "metadata": {
        "colab": {
          "base_uri": "https://localhost:8080/",
          "height": 35
        },
        "id": "1mTnGAe40xz2",
        "outputId": "d32ade75-af10-4eb5-919f-4d7a6704aaf3"
      },
      "execution_count": null,
      "outputs": [
        {
          "output_type": "execute_result",
          "data": {
            "text/plain": [
              "'Ankle boot'"
            ],
            "application/vnd.google.colaboratory.intrinsic+json": {
              "type": "string"
            }
          },
          "metadata": {},
          "execution_count": 24
        }
      ]
    },
    {
      "cell_type": "code",
      "source": [
        "np.nonzero(prob)[1]"
      ],
      "metadata": {
        "colab": {
          "base_uri": "https://localhost:8080/"
        },
        "id": "PI2qY1EF1tPY",
        "outputId": "7b51cbe7-97ed-4363-bbd9-3e340f824cf7"
      },
      "execution_count": null,
      "outputs": [
        {
          "output_type": "execute_result",
          "data": {
            "text/plain": [
              "array([9, 2, 1])"
            ]
          },
          "metadata": {},
          "execution_count": 27
        }
      ]
    },
    {
      "cell_type": "code",
      "source": [
        "y_test[:3]"
      ],
      "metadata": {
        "colab": {
          "base_uri": "https://localhost:8080/"
        },
        "id": "pPB15ms91-5k",
        "outputId": "a3ec13b5-4c8d-4394-e667-204cfc1ce963"
      },
      "execution_count": null,
      "outputs": [
        {
          "output_type": "execute_result",
          "data": {
            "text/plain": [
              "array([9, 2, 1], dtype=uint8)"
            ]
          },
          "metadata": {},
          "execution_count": 28
        }
      ]
    },
    {
      "cell_type": "code",
      "source": [
        "from sklearn.datasets import fetch_california_housing\n",
        "from sklearn.model_selection import train_test_split\n",
        "from sklearn.preprocessing import StandardScaler"
      ],
      "metadata": {
        "id": "wePIz0lt2Tbw"
      },
      "execution_count": null,
      "outputs": []
    },
    {
      "cell_type": "code",
      "source": [
        "housing = fetch_california_housing()\n",
        "train_full_x,test_x,train_full_y,test_y=train_test_split(housing.data,housing.target)\n",
        "train_x,valid_x,train_y,valid_y=train_test_split(train_full_x,train_full_y)"
      ],
      "metadata": {
        "id": "6GylHSEVL-A4"
      },
      "execution_count": null,
      "outputs": []
    },
    {
      "cell_type": "code",
      "source": [
        "scale=StandardScaler()\n",
        "X_train=scale.fit_transform(train_x)\n",
        "valid_x=scale.transform(valid_x)\n",
        "test_x=scale.transform(test_x)"
      ],
      "metadata": {
        "id": "xSaPq84jNwcH"
      },
      "execution_count": null,
      "outputs": []
    },
    {
      "cell_type": "code",
      "source": [
        "X_train.shape[1]"
      ],
      "metadata": {
        "colab": {
          "base_uri": "https://localhost:8080/"
        },
        "id": "bQ2AqOZeT96N",
        "outputId": "7f879cf1-e26c-43cc-cd4c-603f69a59adf"
      },
      "execution_count": null,
      "outputs": [
        {
          "output_type": "execute_result",
          "data": {
            "text/plain": [
              "8"
            ]
          },
          "metadata": {},
          "execution_count": 11
        }
      ]
    },
    {
      "cell_type": "code",
      "source": [
        "model=Sequential([\n",
        "      Dense(32,activation='relu',input_shape=[X_train.shape[1]]),\n",
        "      Dense(1)\n",
        "])\n",
        "model.compile(loss='mse',optimizer='sgd')\n",
        "model.fit(X_train,train_y,epochs=40,validation_data=(valid_x,valid_y))"
      ],
      "metadata": {
        "colab": {
          "base_uri": "https://localhost:8080/"
        },
        "id": "2G4OZBTSR3ff",
        "outputId": "27a9306e-341e-4a78-c390-e24b38169fa9"
      },
      "execution_count": null,
      "outputs": [
        {
          "output_type": "stream",
          "name": "stdout",
          "text": [
            "Epoch 1/40\n",
            "363/363 [==============================] - 1s 2ms/step - loss: 0.9373 - val_loss: 0.5870\n",
            "Epoch 2/40\n",
            "363/363 [==============================] - 1s 2ms/step - loss: 0.5103 - val_loss: 0.5134\n",
            "Epoch 3/40\n",
            "363/363 [==============================] - 1s 2ms/step - loss: 0.4722 - val_loss: 0.4896\n",
            "Epoch 4/40\n",
            "363/363 [==============================] - 1s 2ms/step - loss: 0.4573 - val_loss: 0.4754\n",
            "Epoch 5/40\n",
            "363/363 [==============================] - 1s 2ms/step - loss: 0.4648 - val_loss: 0.4650\n",
            "Epoch 6/40\n",
            "363/363 [==============================] - 1s 2ms/step - loss: 0.4320 - val_loss: 0.4573\n",
            "Epoch 7/40\n",
            "363/363 [==============================] - 1s 2ms/step - loss: 0.4240 - val_loss: 0.4480\n",
            "Epoch 8/40\n",
            "363/363 [==============================] - 1s 2ms/step - loss: 0.4187 - val_loss: 0.4415\n",
            "Epoch 9/40\n",
            "363/363 [==============================] - 1s 3ms/step - loss: 0.4132 - val_loss: 0.4354\n",
            "Epoch 10/40\n",
            "363/363 [==============================] - 1s 2ms/step - loss: 0.4053 - val_loss: 0.4335\n",
            "Epoch 11/40\n",
            "363/363 [==============================] - 1s 2ms/step - loss: 0.3978 - val_loss: 0.4226\n",
            "Epoch 12/40\n",
            "363/363 [==============================] - 1s 2ms/step - loss: 0.3925 - val_loss: 0.4212\n",
            "Epoch 13/40\n",
            "363/363 [==============================] - 1s 2ms/step - loss: 0.3886 - val_loss: 0.4147\n",
            "Epoch 14/40\n",
            "363/363 [==============================] - 1s 2ms/step - loss: 0.3847 - val_loss: 0.4105\n",
            "Epoch 15/40\n",
            "363/363 [==============================] - 1s 2ms/step - loss: 0.3797 - val_loss: 0.4108\n",
            "Epoch 16/40\n",
            "363/363 [==============================] - 1s 2ms/step - loss: 0.3823 - val_loss: 0.4074\n",
            "Epoch 17/40\n",
            "363/363 [==============================] - 1s 2ms/step - loss: 0.3761 - val_loss: 0.4069\n",
            "Epoch 18/40\n",
            "363/363 [==============================] - 1s 2ms/step - loss: 0.3711 - val_loss: 0.4124\n",
            "Epoch 19/40\n",
            "363/363 [==============================] - 1s 2ms/step - loss: 0.3714 - val_loss: 0.3954\n",
            "Epoch 20/40\n",
            "363/363 [==============================] - 1s 2ms/step - loss: 0.3660 - val_loss: 0.3959\n",
            "Epoch 21/40\n",
            "363/363 [==============================] - 1s 2ms/step - loss: 0.3667 - val_loss: 0.3942\n",
            "Epoch 22/40\n",
            "363/363 [==============================] - 1s 2ms/step - loss: 0.3601 - val_loss: 0.3919\n",
            "Epoch 23/40\n",
            "363/363 [==============================] - 1s 2ms/step - loss: 0.3612 - val_loss: 0.3868\n",
            "Epoch 24/40\n",
            "363/363 [==============================] - 1s 2ms/step - loss: 0.3573 - val_loss: 0.3848\n",
            "Epoch 25/40\n",
            "363/363 [==============================] - 1s 2ms/step - loss: 0.3581 - val_loss: 0.3959\n",
            "Epoch 26/40\n",
            "363/363 [==============================] - 1s 2ms/step - loss: 0.3545 - val_loss: 0.3884\n",
            "Epoch 27/40\n",
            "363/363 [==============================] - 1s 2ms/step - loss: 0.3527 - val_loss: 0.3821\n",
            "Epoch 28/40\n",
            "363/363 [==============================] - 1s 2ms/step - loss: 0.3728 - val_loss: 0.3871\n",
            "Epoch 29/40\n",
            "363/363 [==============================] - 1s 2ms/step - loss: 0.3513 - val_loss: 0.3833\n",
            "Epoch 30/40\n",
            "363/363 [==============================] - 1s 2ms/step - loss: 0.3626 - val_loss: 0.3905\n",
            "Epoch 31/40\n",
            "363/363 [==============================] - 1s 2ms/step - loss: 0.3527 - val_loss: 0.3793\n",
            "Epoch 32/40\n",
            "363/363 [==============================] - 1s 2ms/step - loss: 0.3466 - val_loss: 0.3909\n",
            "Epoch 33/40\n",
            "363/363 [==============================] - 1s 2ms/step - loss: 0.3422 - val_loss: 0.3775\n",
            "Epoch 34/40\n",
            "363/363 [==============================] - 1s 2ms/step - loss: 0.3487 - val_loss: 0.3908\n",
            "Epoch 35/40\n",
            "363/363 [==============================] - 1s 2ms/step - loss: 0.3404 - val_loss: 0.3787\n",
            "Epoch 36/40\n",
            "363/363 [==============================] - 1s 2ms/step - loss: 0.3402 - val_loss: 0.3733\n",
            "Epoch 37/40\n",
            "363/363 [==============================] - 1s 2ms/step - loss: 0.3407 - val_loss: 0.3772\n",
            "Epoch 38/40\n",
            "363/363 [==============================] - 1s 2ms/step - loss: 0.3371 - val_loss: 0.3732\n",
            "Epoch 39/40\n",
            "363/363 [==============================] - 1s 2ms/step - loss: 0.3367 - val_loss: 0.3763\n",
            "Epoch 40/40\n",
            "363/363 [==============================] - 1s 2ms/step - loss: 0.3361 - val_loss: 0.3739\n"
          ]
        },
        {
          "output_type": "execute_result",
          "data": {
            "text/plain": [
              "<keras.callbacks.History at 0x7fb5f41301d0>"
            ]
          },
          "metadata": {},
          "execution_count": 12
        }
      ]
    },
    {
      "cell_type": "code",
      "source": [
        "model.evaluate(test_x,test_y)"
      ],
      "metadata": {
        "colab": {
          "base_uri": "https://localhost:8080/"
        },
        "id": "oJ6-4rhXVzr3",
        "outputId": "03625e8c-f36c-46f2-d2d3-5f1ae78b5aee"
      },
      "execution_count": null,
      "outputs": [
        {
          "output_type": "stream",
          "name": "stdout",
          "text": [
            "162/162 [==============================] - 1s 4ms/step - loss: 0.3371\n"
          ]
        },
        {
          "output_type": "execute_result",
          "data": {
            "text/plain": [
              "0.3371385335922241"
            ]
          },
          "metadata": {},
          "execution_count": 14
        }
      ]
    },
    {
      "cell_type": "code",
      "source": [
        "input=Input(shape=X_train.shape[1])\n",
        "X=Dense(32,activation='relu')(input)\n",
        "X=Dense(16,activation='relu')(X)\n",
        "X=Concatenate()([input,X])\n",
        "X=Dense(1)(X)\n",
        "model1=Model(inputs=input,outputs=X)\n",
        "model1.summary()"
      ],
      "metadata": {
        "colab": {
          "base_uri": "https://localhost:8080/"
        },
        "id": "5YF7CMxZfLBJ",
        "outputId": "acf9ab2c-2c97-4319-a990-bf3ff255c9a1"
      },
      "execution_count": null,
      "outputs": [
        {
          "output_type": "stream",
          "name": "stdout",
          "text": [
            "Model: \"model_4\"\n",
            "__________________________________________________________________________________________________\n",
            " Layer (type)                   Output Shape         Param #     Connected to                     \n",
            "==================================================================================================\n",
            " input_7 (InputLayer)           [(None, 8)]          0           []                               \n",
            "                                                                                                  \n",
            " dense_15 (Dense)               (None, 32)           288         ['input_7[0][0]']                \n",
            "                                                                                                  \n",
            " dense_16 (Dense)               (None, 16)           528         ['dense_15[0][0]']               \n",
            "                                                                                                  \n",
            " concatenate_3 (Concatenate)    (None, 24)           0           ['input_7[0][0]',                \n",
            "                                                                  'dense_16[0][0]']               \n",
            "                                                                                                  \n",
            " dense_17 (Dense)               (None, 1)            25          ['concatenate_3[0][0]']          \n",
            "                                                                                                  \n",
            "==================================================================================================\n",
            "Total params: 841\n",
            "Trainable params: 841\n",
            "Non-trainable params: 0\n",
            "__________________________________________________________________________________________________\n"
          ]
        }
      ]
    },
    {
      "cell_type": "code",
      "source": [
        "model1.compile(loss='mse',optimizer=tf.keras.optimizers.SGD(5e-3))\n",
        "model1.fit(X_train,train_y,epochs=40,validation_data=(valid_x,valid_y))"
      ],
      "metadata": {
        "id": "FWZ8CxcdFOmB",
        "colab": {
          "base_uri": "https://localhost:8080/"
        },
        "outputId": "0133cb35-9cf3-41f6-dfa0-ee8c3778f435"
      },
      "execution_count": null,
      "outputs": [
        {
          "output_type": "stream",
          "name": "stdout",
          "text": [
            "Epoch 1/40\n",
            "363/363 [==============================] - 1s 2ms/step - loss: 136.9255 - val_loss: 99.3935\n",
            "Epoch 2/40\n",
            "363/363 [==============================] - 1s 2ms/step - loss: 100.6537 - val_loss: 72.2123\n",
            "Epoch 3/40\n",
            "363/363 [==============================] - 1s 2ms/step - loss: 78.9958 - val_loss: 50.5148\n",
            "Epoch 4/40\n",
            "363/363 [==============================] - 1s 2ms/step - loss: 53.8504 - val_loss: 35.7979\n",
            "Epoch 5/40\n",
            "363/363 [==============================] - 1s 2ms/step - loss: 37.6822 - val_loss: 26.9915\n",
            "Epoch 6/40\n",
            "363/363 [==============================] - 1s 2ms/step - loss: 28.9694 - val_loss: 23.0348\n",
            "Epoch 7/40\n",
            "363/363 [==============================] - 1s 2ms/step - loss: 20.4990 - val_loss: 13.8983\n",
            "Epoch 8/40\n",
            "363/363 [==============================] - 1s 2ms/step - loss: 13.3726 - val_loss: 11.2335\n",
            "Epoch 9/40\n",
            "363/363 [==============================] - 1s 2ms/step - loss: 10.4028 - val_loss: 7.2401\n",
            "Epoch 10/40\n",
            "363/363 [==============================] - 1s 2ms/step - loss: 8.7217 - val_loss: 5.4012\n",
            "Epoch 11/40\n",
            "363/363 [==============================] - 1s 2ms/step - loss: 5.8768 - val_loss: 3.9371\n",
            "Epoch 12/40\n",
            "363/363 [==============================] - 1s 2ms/step - loss: 4.8319 - val_loss: 2.9446\n",
            "Epoch 13/40\n",
            "363/363 [==============================] - 1s 2ms/step - loss: 3.1180 - val_loss: 2.4976\n",
            "Epoch 14/40\n",
            "363/363 [==============================] - 1s 2ms/step - loss: 2.6865 - val_loss: 2.3741\n",
            "Epoch 15/40\n",
            "363/363 [==============================] - 1s 2ms/step - loss: 1.9843 - val_loss: 1.4010\n",
            "Epoch 16/40\n",
            "363/363 [==============================] - 1s 2ms/step - loss: 1.5263 - val_loss: 1.3449\n",
            "Epoch 17/40\n",
            "363/363 [==============================] - 1s 2ms/step - loss: 1.3929 - val_loss: 0.9585\n",
            "Epoch 18/40\n",
            "363/363 [==============================] - 1s 2ms/step - loss: 1.1384 - val_loss: 0.8366\n",
            "Epoch 19/40\n",
            "363/363 [==============================] - 1s 2ms/step - loss: 0.8801 - val_loss: 0.8171\n",
            "Epoch 20/40\n",
            "363/363 [==============================] - 1s 2ms/step - loss: 0.8169 - val_loss: 0.7778\n",
            "Epoch 21/40\n",
            "363/363 [==============================] - 1s 2ms/step - loss: 0.8102 - val_loss: 0.6354\n",
            "Epoch 22/40\n",
            "363/363 [==============================] - 1s 2ms/step - loss: 0.7238 - val_loss: 0.5894\n",
            "Epoch 23/40\n",
            "363/363 [==============================] - 1s 2ms/step - loss: 0.6251 - val_loss: 0.5931\n",
            "Epoch 24/40\n",
            "363/363 [==============================] - 1s 2ms/step - loss: 0.6572 - val_loss: 0.5531\n",
            "Epoch 25/40\n",
            "363/363 [==============================] - 1s 2ms/step - loss: 0.6685 - val_loss: 0.5391\n",
            "Epoch 26/40\n",
            "363/363 [==============================] - 1s 2ms/step - loss: 0.5785 - val_loss: 0.5295\n",
            "Epoch 27/40\n",
            "363/363 [==============================] - 1s 2ms/step - loss: 0.6099 - val_loss: 0.5119\n",
            "Epoch 28/40\n",
            "363/363 [==============================] - 1s 2ms/step - loss: 0.6000 - val_loss: 0.5117\n",
            "Epoch 29/40\n",
            "363/363 [==============================] - 1s 2ms/step - loss: 0.5442 - val_loss: 0.5439\n",
            "Epoch 30/40\n",
            "363/363 [==============================] - 1s 2ms/step - loss: 0.5640 - val_loss: 0.5392\n",
            "Epoch 31/40\n",
            "363/363 [==============================] - 1s 2ms/step - loss: 0.5410 - val_loss: 0.5174\n",
            "Epoch 32/40\n",
            "363/363 [==============================] - 1s 2ms/step - loss: 0.5582 - val_loss: 0.5110\n",
            "Epoch 33/40\n",
            "363/363 [==============================] - 1s 2ms/step - loss: 0.5573 - val_loss: 0.5078\n",
            "Epoch 34/40\n",
            "363/363 [==============================] - 1s 2ms/step - loss: 0.5528 - val_loss: 0.5062\n",
            "Epoch 35/40\n",
            "363/363 [==============================] - 1s 2ms/step - loss: 0.5630 - val_loss: 0.5094\n",
            "Epoch 36/40\n",
            "363/363 [==============================] - 1s 2ms/step - loss: 0.5408 - val_loss: 0.5132\n",
            "Epoch 37/40\n",
            "363/363 [==============================] - 1s 2ms/step - loss: 0.5685 - val_loss: 0.5096\n",
            "Epoch 38/40\n",
            "363/363 [==============================] - 1s 2ms/step - loss: 0.5498 - val_loss: 0.5037\n",
            "Epoch 39/40\n",
            "363/363 [==============================] - 1s 2ms/step - loss: 0.5494 - val_loss: 0.5057\n",
            "Epoch 40/40\n",
            "363/363 [==============================] - 1s 2ms/step - loss: 0.5438 - val_loss: 0.5098\n"
          ]
        },
        {
          "output_type": "execute_result",
          "data": {
            "text/plain": [
              "<keras.callbacks.History at 0x7f7028d71a90>"
            ]
          },
          "metadata": {},
          "execution_count": 29
        }
      ]
    },
    {
      "cell_type": "markdown",
      "source": [
        ""
      ],
      "metadata": {
        "id": "MjTGaBDCXRtN"
      }
    },
    {
      "cell_type": "code",
      "source": [
        "valid_x.shape"
      ],
      "metadata": {
        "colab": {
          "base_uri": "https://localhost:8080/"
        },
        "id": "3jevytVkXTMz",
        "outputId": "9e8871c7-ed08-4ea9-c30d-b1133e50664d"
      },
      "execution_count": null,
      "outputs": [
        {
          "output_type": "execute_result",
          "data": {
            "text/plain": [
              "(3870, 8)"
            ]
          },
          "metadata": {},
          "execution_count": 7
        }
      ]
    },
    {
      "cell_type": "code",
      "source": [
        "test_x.shape"
      ],
      "metadata": {
        "colab": {
          "base_uri": "https://localhost:8080/"
        },
        "id": "pkjfUbZwXTPP",
        "outputId": "73ea55b7-181e-48aa-e851-2a7b854a94e4"
      },
      "execution_count": null,
      "outputs": [
        {
          "output_type": "execute_result",
          "data": {
            "text/plain": [
              "(5160, 8)"
            ]
          },
          "metadata": {},
          "execution_count": 8
        }
      ]
    },
    {
      "cell_type": "code",
      "source": [
        "X_train_A,X_train_B=X_train[:,:5],X_train[:,2:]\n",
        "X_valid_A,X_valid_B=valid_x[:,:5],valid_x[:,2:]\n",
        "X_test_A,X_test_B=test_x[:,:5],test_x[:,2:]\n",
        "X_new_A,X_new_B=X_test_A[:3],X_test_B[:3]\n"
      ],
      "metadata": {
        "id": "iPkVJ6GcJW49"
      },
      "execution_count": null,
      "outputs": []
    },
    {
      "cell_type": "code",
      "source": [
        "inputA=Input(shape=5)\n",
        "inputB=Input(shape=X_train_B.shape[1])\n",
        "XB=Dense(32,activation='relu')(inputB)\n",
        "XB=Dense(16,activation='relu')(XB)\n",
        "XAB=Concatenate()([inputA,XB])\n",
        "out=Dense(1)(XAB)\n",
        "model=Model(inputs=[inputA,inputB],outputs=out)\n",
        "model.summary()"
      ],
      "metadata": {
        "colab": {
          "base_uri": "https://localhost:8080/"
        },
        "id": "r-XU8n3N6M6H",
        "outputId": "15909254-9bb4-4c64-bf0f-4fd5cfa8891f"
      },
      "execution_count": null,
      "outputs": [
        {
          "output_type": "stream",
          "name": "stdout",
          "text": [
            "Model: \"model\"\n",
            "__________________________________________________________________________________________________\n",
            " Layer (type)                   Output Shape         Param #     Connected to                     \n",
            "==================================================================================================\n",
            " input_2 (InputLayer)           [(None, 6)]          0           []                               \n",
            "                                                                                                  \n",
            " dense (Dense)                  (None, 32)           224         ['input_2[0][0]']                \n",
            "                                                                                                  \n",
            " input_1 (InputLayer)           [(None, 5)]          0           []                               \n",
            "                                                                                                  \n",
            " dense_1 (Dense)                (None, 16)           528         ['dense[0][0]']                  \n",
            "                                                                                                  \n",
            " concatenate (Concatenate)      (None, 21)           0           ['input_1[0][0]',                \n",
            "                                                                  'dense_1[0][0]']                \n",
            "                                                                                                  \n",
            " dense_2 (Dense)                (None, 1)            22          ['concatenate[0][0]']            \n",
            "                                                                                                  \n",
            "==================================================================================================\n",
            "Total params: 774\n",
            "Trainable params: 774\n",
            "Non-trainable params: 0\n",
            "__________________________________________________________________________________________________\n"
          ]
        }
      ]
    },
    {
      "cell_type": "code",
      "source": [
        "model.compile(loss='mse',loss_weight=[0.9,0.1],optimizer=tf.keras.optimizers.SGD(5e-3))\n",
        "model.fit([X_train_A,X_train_B],train_y,epochs=20,validation_data=([X_valid_A,X_valid_B],valid_y))"
      ],
      "metadata": {
        "colab": {
          "base_uri": "https://localhost:8080/"
        },
        "id": "KVFeaWaO8wZN",
        "outputId": "1586c3e1-2200-4f94-d3da-28c05842bea2"
      },
      "execution_count": null,
      "outputs": [
        {
          "output_type": "stream",
          "name": "stdout",
          "text": [
            "Epoch 1/20\n",
            "363/363 [==============================] - 3s 5ms/step - loss: 1.1801 - val_loss: 1.0708\n",
            "Epoch 2/20\n",
            "363/363 [==============================] - 1s 3ms/step - loss: 0.6173 - val_loss: 0.5574\n",
            "Epoch 3/20\n",
            "363/363 [==============================] - 1s 3ms/step - loss: 0.5283 - val_loss: 0.5041\n",
            "Epoch 4/20\n",
            "363/363 [==============================] - 1s 3ms/step - loss: 0.4946 - val_loss: 0.4720\n",
            "Epoch 5/20\n",
            "363/363 [==============================] - 1s 2ms/step - loss: 0.4761 - val_loss: 0.4530\n",
            "Epoch 6/20\n",
            "363/363 [==============================] - 1s 2ms/step - loss: 0.4575 - val_loss: 0.4373\n",
            "Epoch 7/20\n",
            "363/363 [==============================] - 1s 3ms/step - loss: 0.4472 - val_loss: 0.4247\n",
            "Epoch 8/20\n",
            "363/363 [==============================] - 1s 2ms/step - loss: 0.4386 - val_loss: 0.4222\n",
            "Epoch 9/20\n",
            "363/363 [==============================] - 1s 2ms/step - loss: 0.4331 - val_loss: 0.4139\n",
            "Epoch 10/20\n",
            "363/363 [==============================] - 1s 2ms/step - loss: 0.4283 - val_loss: 0.4068\n",
            "Epoch 11/20\n",
            "363/363 [==============================] - 1s 2ms/step - loss: 0.4291 - val_loss: 0.4032\n",
            "Epoch 12/20\n",
            "363/363 [==============================] - 1s 2ms/step - loss: 0.4187 - val_loss: 0.3975\n",
            "Epoch 13/20\n",
            "363/363 [==============================] - 1s 3ms/step - loss: 0.4133 - val_loss: 0.3931\n",
            "Epoch 14/20\n",
            "363/363 [==============================] - 1s 2ms/step - loss: 0.4094 - val_loss: 0.3878\n",
            "Epoch 15/20\n",
            "363/363 [==============================] - 1s 3ms/step - loss: 0.4057 - val_loss: 0.3890\n",
            "Epoch 16/20\n",
            "363/363 [==============================] - 1s 3ms/step - loss: 0.4029 - val_loss: 0.3821\n",
            "Epoch 17/20\n",
            "363/363 [==============================] - 1s 2ms/step - loss: 0.3995 - val_loss: 0.3784\n",
            "Epoch 18/20\n",
            "363/363 [==============================] - 1s 2ms/step - loss: 0.3948 - val_loss: 0.3754\n",
            "Epoch 19/20\n",
            "363/363 [==============================] - 1s 2ms/step - loss: 0.3928 - val_loss: 0.3771\n",
            "Epoch 20/20\n",
            "363/363 [==============================] - 1s 2ms/step - loss: 0.3894 - val_loss: 0.3709\n"
          ]
        },
        {
          "output_type": "execute_result",
          "data": {
            "text/plain": [
              "<keras.callbacks.History at 0x7f0315d97850>"
            ]
          },
          "metadata": {},
          "execution_count": 12
        }
      ]
    },
    {
      "cell_type": "code",
      "source": [
        "inputA=Input(shape=5)\n",
        "inputB=Input(shape=X_train_B.shape[1])\n",
        "XB=Dense(32,activation='relu')(inputB)\n",
        "XB=Dense(16,activation='relu')(XB)\n",
        "XAB=Concatenate()([inputA,XB])\n",
        "out=Dense(1)(XAB)\n",
        "Aux_out=Dense(1)(XB)\n",
        "model_c=Model(inputs=[inputA,inputB],outputs=[out,Aux_out])\n",
        "model_c.summary()"
      ],
      "metadata": {
        "colab": {
          "base_uri": "https://localhost:8080/"
        },
        "id": "oL0fFN9e-eBv",
        "outputId": "e3ad85c5-57c2-4fcb-ca6d-d42bd0c38dae"
      },
      "execution_count": null,
      "outputs": [
        {
          "output_type": "stream",
          "name": "stdout",
          "text": [
            "Model: \"model_1\"\n",
            "__________________________________________________________________________________________________\n",
            " Layer (type)                   Output Shape         Param #     Connected to                     \n",
            "==================================================================================================\n",
            " input_4 (InputLayer)           [(None, 6)]          0           []                               \n",
            "                                                                                                  \n",
            " dense_3 (Dense)                (None, 32)           224         ['input_4[0][0]']                \n",
            "                                                                                                  \n",
            " input_3 (InputLayer)           [(None, 5)]          0           []                               \n",
            "                                                                                                  \n",
            " dense_4 (Dense)                (None, 16)           528         ['dense_3[0][0]']                \n",
            "                                                                                                  \n",
            " concatenate_1 (Concatenate)    (None, 21)           0           ['input_3[0][0]',                \n",
            "                                                                  'dense_4[0][0]']                \n",
            "                                                                                                  \n",
            " dense_5 (Dense)                (None, 1)            22          ['concatenate_1[0][0]']          \n",
            "                                                                                                  \n",
            " dense_6 (Dense)                (None, 1)            17          ['dense_4[0][0]']                \n",
            "                                                                                                  \n",
            "==================================================================================================\n",
            "Total params: 791\n",
            "Trainable params: 791\n",
            "Non-trainable params: 0\n",
            "__________________________________________________________________________________________________\n"
          ]
        }
      ]
    },
    {
      "cell_type": "code",
      "source": [
        "model_c.compile(loss='mse',loss_weights=[0.9,0.1],optimizer=tf.keras.optimizers.SGD(5e-3))\n",
        "model_c.fit([X_train_A,X_train_B],[train_y,train_y],epochs=20,validation_data=([X_valid_A,X_valid_B],[valid_y,valid_y]))"
      ],
      "metadata": {
        "colab": {
          "base_uri": "https://localhost:8080/"
        },
        "id": "-JM8cM5HA4f9",
        "outputId": "b4d58d7d-cb16-454f-ddcc-bbfa8828d2d2"
      },
      "execution_count": null,
      "outputs": [
        {
          "output_type": "stream",
          "name": "stdout",
          "text": [
            "Epoch 1/20\n",
            "363/363 [==============================] - 2s 3ms/step - loss: 1.4061 - dense_5_loss: 1.3326 - dense_6_loss: 2.0677 - val_loss: 1.7552 - val_dense_5_loss: 1.7564 - val_dense_6_loss: 1.7451\n",
            "Epoch 2/20\n",
            "363/363 [==============================] - 1s 3ms/step - loss: 0.8033 - dense_5_loss: 0.7645 - dense_6_loss: 1.1523 - val_loss: 0.6056 - val_dense_5_loss: 0.5600 - val_dense_6_loss: 1.0158\n",
            "Epoch 3/20\n",
            "363/363 [==============================] - 1s 2ms/step - loss: 0.5942 - dense_5_loss: 0.5552 - dense_6_loss: 0.9457 - val_loss: 0.5416 - val_dense_5_loss: 0.5040 - val_dense_6_loss: 0.8806\n",
            "Epoch 4/20\n",
            "363/363 [==============================] - 1s 2ms/step - loss: 0.5403 - dense_5_loss: 0.5078 - dense_6_loss: 0.8331 - val_loss: 0.5076 - val_dense_5_loss: 0.4774 - val_dense_6_loss: 0.7796\n",
            "Epoch 5/20\n",
            "363/363 [==============================] - 1s 2ms/step - loss: 0.5105 - dense_5_loss: 0.4835 - dense_6_loss: 0.7533 - val_loss: 0.4890 - val_dense_5_loss: 0.4632 - val_dense_6_loss: 0.7216\n",
            "Epoch 6/20\n",
            "363/363 [==============================] - 1s 2ms/step - loss: 0.4911 - dense_5_loss: 0.4676 - dense_6_loss: 0.7025 - val_loss: 0.4726 - val_dense_5_loss: 0.4491 - val_dense_6_loss: 0.6841\n",
            "Epoch 7/20\n",
            "363/363 [==============================] - 1s 2ms/step - loss: 0.4772 - dense_5_loss: 0.4559 - dense_6_loss: 0.6686 - val_loss: 0.4698 - val_dense_5_loss: 0.4465 - val_dense_6_loss: 0.6797\n",
            "Epoch 8/20\n",
            "363/363 [==============================] - 1s 2ms/step - loss: 0.4680 - dense_5_loss: 0.4477 - dense_6_loss: 0.6508 - val_loss: 0.4558 - val_dense_5_loss: 0.4359 - val_dense_6_loss: 0.6353\n",
            "Epoch 9/20\n",
            "363/363 [==============================] - 1s 2ms/step - loss: 0.4615 - dense_5_loss: 0.4422 - dense_6_loss: 0.6346 - val_loss: 0.4504 - val_dense_5_loss: 0.4308 - val_dense_6_loss: 0.6268\n",
            "Epoch 10/20\n",
            "363/363 [==============================] - 1s 2ms/step - loss: 0.4553 - dense_5_loss: 0.4367 - dense_6_loss: 0.6229 - val_loss: 0.4485 - val_dense_5_loss: 0.4265 - val_dense_6_loss: 0.6473\n",
            "Epoch 11/20\n",
            "363/363 [==============================] - 1s 2ms/step - loss: 0.4506 - dense_5_loss: 0.4323 - dense_6_loss: 0.6154 - val_loss: 0.4485 - val_dense_5_loss: 0.4310 - val_dense_6_loss: 0.6062\n",
            "Epoch 12/20\n",
            "363/363 [==============================] - 1s 2ms/step - loss: 0.4469 - dense_5_loss: 0.4290 - dense_6_loss: 0.6089 - val_loss: 0.4447 - val_dense_5_loss: 0.4245 - val_dense_6_loss: 0.6267\n",
            "Epoch 13/20\n",
            "363/363 [==============================] - 1s 2ms/step - loss: 0.4434 - dense_5_loss: 0.4258 - dense_6_loss: 0.6020 - val_loss: 0.4345 - val_dense_5_loss: 0.4152 - val_dense_6_loss: 0.6078\n",
            "Epoch 14/20\n",
            "363/363 [==============================] - 1s 2ms/step - loss: 0.4396 - dense_5_loss: 0.4223 - dense_6_loss: 0.5960 - val_loss: 0.4283 - val_dense_5_loss: 0.4099 - val_dense_6_loss: 0.5946\n",
            "Epoch 15/20\n",
            "363/363 [==============================] - 1s 2ms/step - loss: 0.4364 - dense_5_loss: 0.4191 - dense_6_loss: 0.5918 - val_loss: 0.4332 - val_dense_5_loss: 0.4155 - val_dense_6_loss: 0.5927\n",
            "Epoch 16/20\n",
            "363/363 [==============================] - 1s 2ms/step - loss: 0.4343 - dense_5_loss: 0.4176 - dense_6_loss: 0.5852 - val_loss: 0.4316 - val_dense_5_loss: 0.4150 - val_dense_6_loss: 0.5808\n",
            "Epoch 17/20\n",
            "363/363 [==============================] - 1s 2ms/step - loss: 0.4313 - dense_5_loss: 0.4145 - dense_6_loss: 0.5825 - val_loss: 0.4238 - val_dense_5_loss: 0.4072 - val_dense_6_loss: 0.5739\n",
            "Epoch 18/20\n",
            "363/363 [==============================] - 1s 2ms/step - loss: 0.4284 - dense_5_loss: 0.4118 - dense_6_loss: 0.5781 - val_loss: 0.4221 - val_dense_5_loss: 0.4045 - val_dense_6_loss: 0.5803\n",
            "Epoch 19/20\n",
            "363/363 [==============================] - 1s 2ms/step - loss: 0.4253 - dense_5_loss: 0.4090 - dense_6_loss: 0.5720 - val_loss: 0.4197 - val_dense_5_loss: 0.4030 - val_dense_6_loss: 0.5703\n",
            "Epoch 20/20\n",
            "363/363 [==============================] - 1s 2ms/step - loss: 0.4232 - dense_5_loss: 0.4069 - dense_6_loss: 0.5699 - val_loss: 0.4123 - val_dense_5_loss: 0.3955 - val_dense_6_loss: 0.5635\n"
          ]
        },
        {
          "output_type": "execute_result",
          "data": {
            "text/plain": [
              "<keras.callbacks.History at 0x7f1a1ef84650>"
            ]
          },
          "metadata": {},
          "execution_count": 9
        }
      ]
    },
    {
      "cell_type": "code",
      "source": [
        "total_loss,main_loss,aux_loss=model_c.evaluate([X_test_A,X_test_B],[test_y,test_y])"
      ],
      "metadata": {
        "colab": {
          "base_uri": "https://localhost:8080/"
        },
        "id": "zN00PE8aBH0a",
        "outputId": "0112ec19-c822-4506-a318-15358eb6ca61"
      },
      "execution_count": null,
      "outputs": [
        {
          "output_type": "stream",
          "name": "stdout",
          "text": [
            "162/162 [==============================] - 0s 2ms/step - loss: 0.4001 - dense_5_loss: 0.3810 - dense_6_loss: 0.5728\n"
          ]
        }
      ]
    },
    {
      "cell_type": "code",
      "source": [
        "(x_train,y_train),(x_test,y_test)=datasets.mnist.load_data()"
      ],
      "metadata": {
        "id": "o9hRyJ6j-Aym"
      },
      "execution_count": 4,
      "outputs": []
    },
    {
      "cell_type": "code",
      "source": [
        "x_train=x_train.reshape(-1,784)/255.\n",
        "x_test=x_test.reshape(-1,784)/255."
      ],
      "metadata": {
        "id": "lI3Nj8-hum1N"
      },
      "execution_count": 5,
      "outputs": []
    },
    {
      "cell_type": "code",
      "source": [
        "class mycallback(tf.keras.callbacks.Callback):\n",
        "  def on_epoch_end(self,epochs,logs):\n",
        "    if logs.get('accurcay') is not None and logs.get('accuracy')>=0.98:\n",
        "      print('the training reach the goal 98% and training stops!')\n",
        "      self.model.training_stop=True"
      ],
      "metadata": {
        "id": "2zy72A7UwROU"
      },
      "execution_count": 6,
      "outputs": []
    },
    {
      "cell_type": "code",
      "source": [
        "model_mnist=Sequential([\n",
        "          Dense(128,activation='relu',input_shape=[x_train.shape[1]]),\n",
        "          Dense(64,activation='relu'),\n",
        "          Dense(10,activation='softmax')\n",
        "])\n",
        "model_mnist.summary()\n",
        "model_mnist.compile(loss='sparse_categorical_crossentropy',optimizer=tf.keras.optimizers.SGD(learning_rate=0.002),metrics=['accuracy'])"
      ],
      "metadata": {
        "colab": {
          "base_uri": "https://localhost:8080/"
        },
        "id": "OPONb8iLwYeN",
        "outputId": "47c781a3-ed3f-480a-9b8f-72d2c63374c3"
      },
      "execution_count": 7,
      "outputs": [
        {
          "output_type": "stream",
          "name": "stdout",
          "text": [
            "Model: \"sequential\"\n",
            "_________________________________________________________________\n",
            " Layer (type)                Output Shape              Param #   \n",
            "=================================================================\n",
            " dense (Dense)               (None, 128)               100480    \n",
            "                                                                 \n",
            " dense_1 (Dense)             (None, 64)                8256      \n",
            "                                                                 \n",
            " dense_2 (Dense)             (None, 10)                650       \n",
            "                                                                 \n",
            "=================================================================\n",
            "Total params: 109,386\n",
            "Trainable params: 109,386\n",
            "Non-trainable params: 0\n",
            "_________________________________________________________________\n"
          ]
        }
      ]
    },
    {
      "cell_type": "code",
      "source": [
        "history=model_mnist.fit(x_train,y_train,epochs=100,validation_data=(x_test,y_test),callbacks=[mycallback()])"
      ],
      "metadata": {
        "colab": {
          "base_uri": "https://localhost:8080/"
        },
        "id": "b4NqAUcVwtCT",
        "outputId": "c276d339-c7fd-4574-c846-46462248fd97"
      },
      "execution_count": 8,
      "outputs": [
        {
          "output_type": "stream",
          "name": "stdout",
          "text": [
            "Epoch 1/100\n",
            "1875/1875 [==============================] - 6s 3ms/step - loss: 1.4729 - accuracy: 0.6318 - val_loss: 0.7644 - val_accuracy: 0.8239\n",
            "Epoch 2/100\n",
            "1875/1875 [==============================] - 5s 3ms/step - loss: 0.5963 - accuracy: 0.8492 - val_loss: 0.4602 - val_accuracy: 0.8771\n",
            "Epoch 3/100\n",
            "1875/1875 [==============================] - 5s 3ms/step - loss: 0.4315 - accuracy: 0.8829 - val_loss: 0.3758 - val_accuracy: 0.8960\n",
            "Epoch 4/100\n",
            "1875/1875 [==============================] - 6s 3ms/step - loss: 0.3680 - accuracy: 0.8971 - val_loss: 0.3346 - val_accuracy: 0.9069\n",
            "Epoch 5/100\n",
            "1875/1875 [==============================] - 5s 3ms/step - loss: 0.3318 - accuracy: 0.9063 - val_loss: 0.3076 - val_accuracy: 0.9141\n",
            "Epoch 6/100\n",
            "1875/1875 [==============================] - 5s 3ms/step - loss: 0.3074 - accuracy: 0.9128 - val_loss: 0.2869 - val_accuracy: 0.9199\n",
            "Epoch 7/100\n",
            "1875/1875 [==============================] - 5s 3ms/step - loss: 0.2891 - accuracy: 0.9171 - val_loss: 0.2744 - val_accuracy: 0.9237\n",
            "Epoch 8/100\n",
            "1875/1875 [==============================] - 5s 3ms/step - loss: 0.2743 - accuracy: 0.9213 - val_loss: 0.2617 - val_accuracy: 0.9264\n",
            "Epoch 9/100\n",
            "1875/1875 [==============================] - 5s 3ms/step - loss: 0.2618 - accuracy: 0.9251 - val_loss: 0.2509 - val_accuracy: 0.9283\n",
            "Epoch 10/100\n",
            "1875/1875 [==============================] - 5s 3ms/step - loss: 0.2510 - accuracy: 0.9278 - val_loss: 0.2414 - val_accuracy: 0.9320\n",
            "Epoch 11/100\n",
            "1875/1875 [==============================] - 5s 3ms/step - loss: 0.2416 - accuracy: 0.9305 - val_loss: 0.2351 - val_accuracy: 0.9332\n",
            "Epoch 12/100\n",
            "1875/1875 [==============================] - 5s 3ms/step - loss: 0.2331 - accuracy: 0.9334 - val_loss: 0.2275 - val_accuracy: 0.9360\n",
            "Epoch 13/100\n",
            "1875/1875 [==============================] - 5s 3ms/step - loss: 0.2253 - accuracy: 0.9356 - val_loss: 0.2211 - val_accuracy: 0.9365\n",
            "Epoch 14/100\n",
            "1875/1875 [==============================] - 5s 2ms/step - loss: 0.2181 - accuracy: 0.9376 - val_loss: 0.2156 - val_accuracy: 0.9391\n",
            "Epoch 15/100\n",
            "1875/1875 [==============================] - 5s 3ms/step - loss: 0.2114 - accuracy: 0.9396 - val_loss: 0.2090 - val_accuracy: 0.9410\n",
            "Epoch 16/100\n",
            "1875/1875 [==============================] - 5s 2ms/step - loss: 0.2053 - accuracy: 0.9416 - val_loss: 0.2040 - val_accuracy: 0.9418\n",
            "Epoch 17/100\n",
            "1875/1875 [==============================] - 5s 3ms/step - loss: 0.1994 - accuracy: 0.9431 - val_loss: 0.1987 - val_accuracy: 0.9431\n",
            "Epoch 18/100\n",
            "1875/1875 [==============================] - 5s 3ms/step - loss: 0.1940 - accuracy: 0.9445 - val_loss: 0.1946 - val_accuracy: 0.9442\n",
            "Epoch 19/100\n",
            "1875/1875 [==============================] - 5s 3ms/step - loss: 0.1888 - accuracy: 0.9462 - val_loss: 0.1896 - val_accuracy: 0.9455\n",
            "Epoch 20/100\n",
            "1875/1875 [==============================] - 5s 3ms/step - loss: 0.1839 - accuracy: 0.9474 - val_loss: 0.1853 - val_accuracy: 0.9462\n",
            "Epoch 21/100\n",
            "1875/1875 [==============================] - 5s 3ms/step - loss: 0.1792 - accuracy: 0.9486 - val_loss: 0.1815 - val_accuracy: 0.9473\n",
            "Epoch 22/100\n",
            "1875/1875 [==============================] - 5s 3ms/step - loss: 0.1748 - accuracy: 0.9497 - val_loss: 0.1779 - val_accuracy: 0.9491\n",
            "Epoch 23/100\n",
            "1875/1875 [==============================] - 5s 3ms/step - loss: 0.1706 - accuracy: 0.9513 - val_loss: 0.1744 - val_accuracy: 0.9494\n",
            "Epoch 24/100\n",
            "1875/1875 [==============================] - 5s 3ms/step - loss: 0.1663 - accuracy: 0.9521 - val_loss: 0.1730 - val_accuracy: 0.9507\n",
            "Epoch 25/100\n",
            "1875/1875 [==============================] - 5s 2ms/step - loss: 0.1627 - accuracy: 0.9537 - val_loss: 0.1688 - val_accuracy: 0.9515\n",
            "Epoch 26/100\n",
            "1875/1875 [==============================] - 5s 3ms/step - loss: 0.1593 - accuracy: 0.9549 - val_loss: 0.1645 - val_accuracy: 0.9515\n",
            "Epoch 27/100\n",
            "1875/1875 [==============================] - 5s 3ms/step - loss: 0.1557 - accuracy: 0.9559 - val_loss: 0.1612 - val_accuracy: 0.9524\n",
            "Epoch 28/100\n",
            "1875/1875 [==============================] - 5s 2ms/step - loss: 0.1522 - accuracy: 0.9570 - val_loss: 0.1596 - val_accuracy: 0.9524\n",
            "Epoch 29/100\n",
            "1875/1875 [==============================] - 5s 3ms/step - loss: 0.1491 - accuracy: 0.9581 - val_loss: 0.1555 - val_accuracy: 0.9546\n",
            "Epoch 30/100\n",
            "1875/1875 [==============================] - 5s 3ms/step - loss: 0.1461 - accuracy: 0.9591 - val_loss: 0.1534 - val_accuracy: 0.9544\n",
            "Epoch 31/100\n",
            "1875/1875 [==============================] - 5s 3ms/step - loss: 0.1431 - accuracy: 0.9601 - val_loss: 0.1506 - val_accuracy: 0.9549\n",
            "Epoch 32/100\n",
            "1875/1875 [==============================] - 5s 3ms/step - loss: 0.1403 - accuracy: 0.9608 - val_loss: 0.1490 - val_accuracy: 0.9555\n",
            "Epoch 33/100\n",
            "1875/1875 [==============================] - 5s 3ms/step - loss: 0.1375 - accuracy: 0.9616 - val_loss: 0.1465 - val_accuracy: 0.9569\n",
            "Epoch 34/100\n",
            "1875/1875 [==============================] - 5s 3ms/step - loss: 0.1348 - accuracy: 0.9624 - val_loss: 0.1433 - val_accuracy: 0.9574\n",
            "Epoch 35/100\n",
            "1875/1875 [==============================] - 5s 3ms/step - loss: 0.1323 - accuracy: 0.9632 - val_loss: 0.1406 - val_accuracy: 0.9577\n",
            "Epoch 36/100\n",
            "1875/1875 [==============================] - 5s 3ms/step - loss: 0.1298 - accuracy: 0.9635 - val_loss: 0.1389 - val_accuracy: 0.9582\n",
            "Epoch 37/100\n",
            "1875/1875 [==============================] - 5s 3ms/step - loss: 0.1273 - accuracy: 0.9646 - val_loss: 0.1382 - val_accuracy: 0.9584\n",
            "Epoch 38/100\n",
            "1875/1875 [==============================] - 5s 3ms/step - loss: 0.1251 - accuracy: 0.9654 - val_loss: 0.1369 - val_accuracy: 0.9591\n",
            "Epoch 39/100\n",
            "1875/1875 [==============================] - 5s 3ms/step - loss: 0.1229 - accuracy: 0.9661 - val_loss: 0.1334 - val_accuracy: 0.9593\n",
            "Epoch 40/100\n",
            "1875/1875 [==============================] - 5s 3ms/step - loss: 0.1207 - accuracy: 0.9667 - val_loss: 0.1317 - val_accuracy: 0.9596\n",
            "Epoch 41/100\n",
            "1875/1875 [==============================] - 5s 3ms/step - loss: 0.1186 - accuracy: 0.9670 - val_loss: 0.1308 - val_accuracy: 0.9601\n",
            "Epoch 42/100\n",
            "1875/1875 [==============================] - 5s 3ms/step - loss: 0.1165 - accuracy: 0.9679 - val_loss: 0.1286 - val_accuracy: 0.9606\n",
            "Epoch 43/100\n",
            "1875/1875 [==============================] - 5s 3ms/step - loss: 0.1146 - accuracy: 0.9685 - val_loss: 0.1268 - val_accuracy: 0.9613\n",
            "Epoch 44/100\n",
            "1875/1875 [==============================] - 5s 3ms/step - loss: 0.1128 - accuracy: 0.9687 - val_loss: 0.1278 - val_accuracy: 0.9613\n",
            "Epoch 45/100\n",
            "1875/1875 [==============================] - 5s 3ms/step - loss: 0.1108 - accuracy: 0.9694 - val_loss: 0.1254 - val_accuracy: 0.9617\n",
            "Epoch 46/100\n",
            "1875/1875 [==============================] - 5s 3ms/step - loss: 0.1089 - accuracy: 0.9698 - val_loss: 0.1228 - val_accuracy: 0.9622\n",
            "Epoch 47/100\n",
            "1875/1875 [==============================] - 5s 3ms/step - loss: 0.1073 - accuracy: 0.9706 - val_loss: 0.1217 - val_accuracy: 0.9630\n",
            "Epoch 48/100\n",
            "1875/1875 [==============================] - 5s 3ms/step - loss: 0.1056 - accuracy: 0.9711 - val_loss: 0.1205 - val_accuracy: 0.9630\n",
            "Epoch 49/100\n",
            "1875/1875 [==============================] - 5s 3ms/step - loss: 0.1039 - accuracy: 0.9714 - val_loss: 0.1192 - val_accuracy: 0.9627\n",
            "Epoch 50/100\n",
            "1875/1875 [==============================] - 5s 3ms/step - loss: 0.1024 - accuracy: 0.9717 - val_loss: 0.1177 - val_accuracy: 0.9636\n",
            "Epoch 51/100\n",
            "1875/1875 [==============================] - 5s 3ms/step - loss: 0.1008 - accuracy: 0.9724 - val_loss: 0.1165 - val_accuracy: 0.9639\n",
            "Epoch 52/100\n",
            "1875/1875 [==============================] - 5s 3ms/step - loss: 0.0992 - accuracy: 0.9729 - val_loss: 0.1163 - val_accuracy: 0.9643\n",
            "Epoch 53/100\n",
            "1875/1875 [==============================] - 5s 3ms/step - loss: 0.0976 - accuracy: 0.9733 - val_loss: 0.1145 - val_accuracy: 0.9645\n",
            "Epoch 54/100\n",
            "1875/1875 [==============================] - 5s 3ms/step - loss: 0.0963 - accuracy: 0.9737 - val_loss: 0.1127 - val_accuracy: 0.9648\n",
            "Epoch 55/100\n",
            "1875/1875 [==============================] - 5s 3ms/step - loss: 0.0948 - accuracy: 0.9736 - val_loss: 0.1129 - val_accuracy: 0.9656\n",
            "Epoch 56/100\n",
            "1875/1875 [==============================] - 5s 3ms/step - loss: 0.0934 - accuracy: 0.9744 - val_loss: 0.1110 - val_accuracy: 0.9648\n",
            "Epoch 57/100\n",
            "1875/1875 [==============================] - 5s 3ms/step - loss: 0.0921 - accuracy: 0.9748 - val_loss: 0.1108 - val_accuracy: 0.9661\n",
            "Epoch 58/100\n",
            "1875/1875 [==============================] - 5s 3ms/step - loss: 0.0908 - accuracy: 0.9751 - val_loss: 0.1090 - val_accuracy: 0.9660\n",
            "Epoch 59/100\n",
            "1875/1875 [==============================] - 5s 3ms/step - loss: 0.0894 - accuracy: 0.9753 - val_loss: 0.1083 - val_accuracy: 0.9657\n",
            "Epoch 60/100\n",
            "1875/1875 [==============================] - 5s 3ms/step - loss: 0.0883 - accuracy: 0.9757 - val_loss: 0.1074 - val_accuracy: 0.9666\n",
            "Epoch 61/100\n",
            "1875/1875 [==============================] - 5s 3ms/step - loss: 0.0871 - accuracy: 0.9761 - val_loss: 0.1075 - val_accuracy: 0.9663\n",
            "Epoch 62/100\n",
            "1875/1875 [==============================] - 5s 3ms/step - loss: 0.0859 - accuracy: 0.9764 - val_loss: 0.1066 - val_accuracy: 0.9673\n",
            "Epoch 63/100\n",
            "1875/1875 [==============================] - 5s 3ms/step - loss: 0.0847 - accuracy: 0.9771 - val_loss: 0.1052 - val_accuracy: 0.9677\n",
            "Epoch 64/100\n",
            "1875/1875 [==============================] - 5s 3ms/step - loss: 0.0835 - accuracy: 0.9772 - val_loss: 0.1043 - val_accuracy: 0.9673\n",
            "Epoch 65/100\n",
            "1875/1875 [==============================] - 5s 3ms/step - loss: 0.0824 - accuracy: 0.9773 - val_loss: 0.1034 - val_accuracy: 0.9683\n",
            "Epoch 66/100\n",
            "1875/1875 [==============================] - 5s 3ms/step - loss: 0.0814 - accuracy: 0.9778 - val_loss: 0.1025 - val_accuracy: 0.9683\n",
            "Epoch 67/100\n",
            "1875/1875 [==============================] - 5s 3ms/step - loss: 0.0803 - accuracy: 0.9782 - val_loss: 0.1018 - val_accuracy: 0.9678\n",
            "Epoch 68/100\n",
            "1875/1875 [==============================] - 5s 3ms/step - loss: 0.0793 - accuracy: 0.9784 - val_loss: 0.1021 - val_accuracy: 0.9684\n",
            "Epoch 69/100\n",
            "1875/1875 [==============================] - 5s 3ms/step - loss: 0.0782 - accuracy: 0.9787 - val_loss: 0.1017 - val_accuracy: 0.9685\n",
            "Epoch 70/100\n",
            "1875/1875 [==============================] - 5s 3ms/step - loss: 0.0772 - accuracy: 0.9788 - val_loss: 0.1007 - val_accuracy: 0.9678\n",
            "Epoch 71/100\n",
            "1875/1875 [==============================] - 5s 3ms/step - loss: 0.0763 - accuracy: 0.9794 - val_loss: 0.0992 - val_accuracy: 0.9694\n",
            "Epoch 72/100\n",
            "1875/1875 [==============================] - 5s 3ms/step - loss: 0.0753 - accuracy: 0.9792 - val_loss: 0.0990 - val_accuracy: 0.9693\n",
            "Epoch 73/100\n",
            "1875/1875 [==============================] - 5s 3ms/step - loss: 0.0743 - accuracy: 0.9798 - val_loss: 0.0994 - val_accuracy: 0.9701\n",
            "Epoch 74/100\n",
            "1875/1875 [==============================] - 5s 3ms/step - loss: 0.0735 - accuracy: 0.9801 - val_loss: 0.0980 - val_accuracy: 0.9693\n",
            "Epoch 75/100\n",
            "1875/1875 [==============================] - 5s 3ms/step - loss: 0.0726 - accuracy: 0.9803 - val_loss: 0.0972 - val_accuracy: 0.9698\n",
            "Epoch 76/100\n",
            "1875/1875 [==============================] - 5s 3ms/step - loss: 0.0716 - accuracy: 0.9806 - val_loss: 0.0970 - val_accuracy: 0.9700\n",
            "Epoch 77/100\n",
            "1875/1875 [==============================] - 5s 3ms/step - loss: 0.0708 - accuracy: 0.9808 - val_loss: 0.0958 - val_accuracy: 0.9699\n",
            "Epoch 78/100\n",
            "1875/1875 [==============================] - 5s 3ms/step - loss: 0.0699 - accuracy: 0.9813 - val_loss: 0.0952 - val_accuracy: 0.9708\n",
            "Epoch 79/100\n",
            "1875/1875 [==============================] - 5s 3ms/step - loss: 0.0690 - accuracy: 0.9814 - val_loss: 0.0952 - val_accuracy: 0.9694\n",
            "Epoch 80/100\n",
            "1875/1875 [==============================] - 5s 3ms/step - loss: 0.0682 - accuracy: 0.9814 - val_loss: 0.0943 - val_accuracy: 0.9708\n",
            "Epoch 81/100\n",
            "1875/1875 [==============================] - 5s 3ms/step - loss: 0.0675 - accuracy: 0.9819 - val_loss: 0.0934 - val_accuracy: 0.9700\n",
            "Epoch 82/100\n",
            "1875/1875 [==============================] - 5s 3ms/step - loss: 0.0666 - accuracy: 0.9819 - val_loss: 0.0934 - val_accuracy: 0.9705\n",
            "Epoch 83/100\n",
            "1875/1875 [==============================] - 5s 3ms/step - loss: 0.0660 - accuracy: 0.9822 - val_loss: 0.0921 - val_accuracy: 0.9707\n",
            "Epoch 84/100\n",
            "1875/1875 [==============================] - 5s 3ms/step - loss: 0.0652 - accuracy: 0.9823 - val_loss: 0.0924 - val_accuracy: 0.9714\n",
            "Epoch 85/100\n",
            "1875/1875 [==============================] - 5s 3ms/step - loss: 0.0644 - accuracy: 0.9826 - val_loss: 0.0929 - val_accuracy: 0.9716\n",
            "Epoch 86/100\n",
            "1875/1875 [==============================] - 5s 3ms/step - loss: 0.0636 - accuracy: 0.9831 - val_loss: 0.0913 - val_accuracy: 0.9718\n",
            "Epoch 87/100\n",
            "1875/1875 [==============================] - 5s 3ms/step - loss: 0.0628 - accuracy: 0.9833 - val_loss: 0.0912 - val_accuracy: 0.9719\n",
            "Epoch 88/100\n",
            "1875/1875 [==============================] - 5s 3ms/step - loss: 0.0621 - accuracy: 0.9833 - val_loss: 0.0907 - val_accuracy: 0.9726\n",
            "Epoch 89/100\n",
            "1875/1875 [==============================] - 5s 3ms/step - loss: 0.0615 - accuracy: 0.9830 - val_loss: 0.0917 - val_accuracy: 0.9719\n",
            "Epoch 90/100\n",
            "1875/1875 [==============================] - 5s 3ms/step - loss: 0.0608 - accuracy: 0.9838 - val_loss: 0.0906 - val_accuracy: 0.9729\n",
            "Epoch 91/100\n",
            "1875/1875 [==============================] - 5s 3ms/step - loss: 0.0602 - accuracy: 0.9840 - val_loss: 0.0893 - val_accuracy: 0.9731\n",
            "Epoch 92/100\n",
            "1875/1875 [==============================] - 5s 3ms/step - loss: 0.0595 - accuracy: 0.9841 - val_loss: 0.0888 - val_accuracy: 0.9724\n",
            "Epoch 93/100\n",
            "1875/1875 [==============================] - 5s 3ms/step - loss: 0.0587 - accuracy: 0.9844 - val_loss: 0.0894 - val_accuracy: 0.9734\n",
            "Epoch 94/100\n",
            "1875/1875 [==============================] - 5s 3ms/step - loss: 0.0581 - accuracy: 0.9846 - val_loss: 0.0880 - val_accuracy: 0.9727\n",
            "Epoch 95/100\n",
            "1875/1875 [==============================] - 5s 3ms/step - loss: 0.0574 - accuracy: 0.9848 - val_loss: 0.0892 - val_accuracy: 0.9734\n",
            "Epoch 96/100\n",
            "1875/1875 [==============================] - 5s 3ms/step - loss: 0.0569 - accuracy: 0.9847 - val_loss: 0.0876 - val_accuracy: 0.9731\n",
            "Epoch 97/100\n",
            "1875/1875 [==============================] - 5s 3ms/step - loss: 0.0562 - accuracy: 0.9852 - val_loss: 0.0881 - val_accuracy: 0.9734\n",
            "Epoch 98/100\n",
            "1875/1875 [==============================] - 5s 3ms/step - loss: 0.0555 - accuracy: 0.9854 - val_loss: 0.0880 - val_accuracy: 0.9733\n",
            "Epoch 99/100\n",
            "1875/1875 [==============================] - 5s 3ms/step - loss: 0.0548 - accuracy: 0.9856 - val_loss: 0.0866 - val_accuracy: 0.9734\n",
            "Epoch 100/100\n",
            "1875/1875 [==============================] - 5s 3ms/step - loss: 0.0544 - accuracy: 0.9856 - val_loss: 0.0869 - val_accuracy: 0.9744\n"
          ]
        }
      ]
    },
    {
      "cell_type": "code",
      "source": [
        ""
      ],
      "metadata": {
        "id": "SeR5oX3fzvF9"
      },
      "execution_count": null,
      "outputs": []
    }
  ]
}